{
  "cells": [
    {
      "cell_type": "markdown",
      "metadata": {
        "id": "view-in-github",
        "colab_type": "text"
      },
      "source": [
        "<a href=\"https://colab.research.google.com/github/selenayack/GanDeepLearningg/blob/main/bili%C5%9Fim_teknolojisi_final.ipynb\" target=\"_parent\"><img src=\"https://colab.research.google.com/assets/colab-badge.svg\" alt=\"Open In Colab\"/></a>"
      ]
    },
    {
      "cell_type": "markdown",
      "metadata": {
        "id": "eevN-63d9iNQ"
      },
      "source": [
        "Google Drivea Bağlandık\n",
        "\n"
      ]
    },
    {
      "cell_type": "code",
      "execution_count": null,
      "metadata": {
        "colab": {
          "base_uri": "https://localhost:8080/"
        },
        "id": "4ButndXUvJmm",
        "outputId": "d056210c-77c6-4c05-d3b7-881140591e5f"
      },
      "outputs": [
        {
          "output_type": "stream",
          "name": "stdout",
          "text": [
            "Mounted at /content/drive\n"
          ]
        }
      ],
      "source": [
        "from google.colab import drive\n",
        "drive.mount('/content/drive')"
      ]
    },
    {
      "cell_type": "markdown",
      "source": [
        "zip dosyaıs"
      ],
      "metadata": {
        "id": "JfCCY6Hak8In"
      }
    },
    {
      "cell_type": "code",
      "source": [
        "!cp /content/drive/MyDrive/LOLdataset.zip \"/content\""
      ],
      "metadata": {
        "id": "vtTq8AkcxkL_"
      },
      "execution_count": null,
      "outputs": []
    },
    {
      "cell_type": "code",
      "source": [
        "!unzip LOLdataset.zip -d /content/dataset"
      ],
      "metadata": {
        "id": "D4wOM5Cexm_2",
        "colab": {
          "base_uri": "https://localhost:8080/"
        },
        "outputId": "eecb053f-d432-4882-c9f6-c9fd51a33e7b"
      },
      "execution_count": null,
      "outputs": [
        {
          "output_type": "stream",
          "name": "stdout",
          "text": [
            "Archive:  LOLdataset.zip\n",
            "   creating: /content/dataset/eval15/\n",
            "   creating: /content/dataset/eval15/high/\n",
            "  inflating: /content/dataset/eval15/high/748.png  \n",
            "   creating: /content/dataset/__MACOSX/\n",
            "   creating: /content/dataset/__MACOSX/eval15/\n",
            "   creating: /content/dataset/__MACOSX/eval15/high/\n",
            "  inflating: /content/dataset/__MACOSX/eval15/high/._748.png  \n",
            "  inflating: /content/dataset/eval15/high/665.png  \n",
            "  inflating: /content/dataset/__MACOSX/eval15/high/._665.png  \n",
            "  inflating: /content/dataset/eval15/high/111.png  \n",
            "  inflating: /content/dataset/__MACOSX/eval15/high/._111.png  \n",
            "  inflating: /content/dataset/eval15/high/493.png  \n",
            "  inflating: /content/dataset/__MACOSX/eval15/high/._493.png  \n",
            "  inflating: /content/dataset/eval15/high/22.png  \n",
            "  inflating: /content/dataset/__MACOSX/eval15/high/._22.png  \n",
            "  inflating: /content/dataset/eval15/high/23.png  \n",
            "  inflating: /content/dataset/__MACOSX/eval15/high/._23.png  \n",
            "  inflating: /content/dataset/eval15/high/669.png  \n",
            "  inflating: /content/dataset/__MACOSX/eval15/high/._669.png  \n",
            "  inflating: /content/dataset/eval15/high/547.png  \n",
            "  inflating: /content/dataset/__MACOSX/eval15/high/._547.png  \n",
            "  inflating: /content/dataset/eval15/high/778.png  \n",
            "  inflating: /content/dataset/__MACOSX/eval15/high/._778.png  \n",
            "  inflating: /content/dataset/eval15/high/55.png  \n",
            "  inflating: /content/dataset/__MACOSX/eval15/high/._55.png  \n",
            "  inflating: /content/dataset/eval15/high/179.png  \n",
            "  inflating: /content/dataset/__MACOSX/eval15/high/._179.png  \n",
            "  inflating: /content/dataset/eval15/high/780.png  \n",
            "  inflating: /content/dataset/__MACOSX/eval15/high/._780.png  \n",
            "  inflating: /content/dataset/eval15/high/79.png  \n",
            "  inflating: /content/dataset/__MACOSX/eval15/high/._79.png  \n",
            "  inflating: /content/dataset/eval15/high/146.png  \n",
            "  inflating: /content/dataset/__MACOSX/eval15/high/._146.png  \n",
            "  inflating: /content/dataset/eval15/high/1.png  \n",
            "  inflating: /content/dataset/__MACOSX/eval15/high/._1.png  \n",
            "  inflating: /content/dataset/__MACOSX/eval15/._high  \n",
            "  inflating: /content/dataset/eval15/.DS_Store  \n",
            "  inflating: /content/dataset/__MACOSX/eval15/._.DS_Store  \n",
            "   creating: /content/dataset/eval15/low/\n",
            "  inflating: /content/dataset/eval15/low/748.png  \n",
            "   creating: /content/dataset/__MACOSX/eval15/low/\n",
            "  inflating: /content/dataset/__MACOSX/eval15/low/._748.png  \n",
            "  inflating: /content/dataset/eval15/low/665.png  \n",
            "  inflating: /content/dataset/__MACOSX/eval15/low/._665.png  \n",
            "  inflating: /content/dataset/eval15/low/111.png  \n",
            "  inflating: /content/dataset/__MACOSX/eval15/low/._111.png  \n",
            "  inflating: /content/dataset/eval15/low/493.png  \n",
            "  inflating: /content/dataset/__MACOSX/eval15/low/._493.png  \n",
            "  inflating: /content/dataset/eval15/low/22.png  \n",
            "  inflating: /content/dataset/__MACOSX/eval15/low/._22.png  \n",
            "  inflating: /content/dataset/eval15/low/23.png  \n",
            "  inflating: /content/dataset/__MACOSX/eval15/low/._23.png  \n",
            "  inflating: /content/dataset/eval15/low/669.png  \n",
            "  inflating: /content/dataset/__MACOSX/eval15/low/._669.png  \n",
            "  inflating: /content/dataset/eval15/low/547.png  \n",
            "  inflating: /content/dataset/__MACOSX/eval15/low/._547.png  \n",
            "  inflating: /content/dataset/eval15/low/778.png  \n",
            "  inflating: /content/dataset/__MACOSX/eval15/low/._778.png  \n",
            "  inflating: /content/dataset/eval15/low/55.png  \n",
            "  inflating: /content/dataset/__MACOSX/eval15/low/._55.png  \n",
            "  inflating: /content/dataset/eval15/low/179.png  \n",
            "  inflating: /content/dataset/__MACOSX/eval15/low/._179.png  \n",
            "  inflating: /content/dataset/eval15/low/780.png  \n",
            "  inflating: /content/dataset/__MACOSX/eval15/low/._780.png  \n",
            "  inflating: /content/dataset/eval15/low/79.png  \n",
            "  inflating: /content/dataset/__MACOSX/eval15/low/._79.png  \n",
            "  inflating: /content/dataset/eval15/low/146.png  \n",
            "  inflating: /content/dataset/__MACOSX/eval15/low/._146.png  \n",
            "  inflating: /content/dataset/eval15/low/1.png  \n",
            "  inflating: /content/dataset/__MACOSX/eval15/low/._1.png  \n",
            "  inflating: /content/dataset/__MACOSX/eval15/._low  \n",
            "  inflating: /content/dataset/__MACOSX/._eval15  \n",
            "   creating: /content/dataset/our485/\n",
            "   creating: /content/dataset/our485/high/\n",
            "  inflating: /content/dataset/our485/high/638.png  \n",
            "   creating: /content/dataset/__MACOSX/our485/\n",
            "   creating: /content/dataset/__MACOSX/our485/high/\n",
            "  inflating: /content/dataset/__MACOSX/our485/high/._638.png  \n",
            "  inflating: /content/dataset/our485/high/176.png  \n",
            "  inflating: /content/dataset/__MACOSX/our485/high/._176.png  \n",
            "  inflating: /content/dataset/our485/high/88.png  \n",
            "  inflating: /content/dataset/__MACOSX/our485/high/._88.png  \n",
            "  inflating: /content/dataset/our485/high/610.png  \n",
            "  inflating: /content/dataset/__MACOSX/our485/high/._610.png  \n",
            "  inflating: /content/dataset/our485/high/604.png  \n",
            "  inflating: /content/dataset/__MACOSX/our485/high/._604.png  \n",
            "  inflating: /content/dataset/our485/high/162.png  \n",
            "  inflating: /content/dataset/__MACOSX/our485/high/._162.png  \n",
            "  inflating: /content/dataset/our485/high/189.png  \n",
            "  inflating: /content/dataset/__MACOSX/our485/high/._189.png  \n",
            "  inflating: /content/dataset/our485/high/77.png  \n",
            "  inflating: /content/dataset/__MACOSX/our485/high/._77.png  \n",
            "  inflating: /content/dataset/our485/high/63.png  \n",
            "  inflating: /content/dataset/__MACOSX/our485/high/._63.png  \n",
            "  inflating: /content/dataset/our485/high/758.png  \n",
            "  inflating: /content/dataset/__MACOSX/our485/high/._758.png  \n",
            "  inflating: /content/dataset/our485/high/764.png  \n",
            "  inflating: /content/dataset/__MACOSX/our485/high/._764.png  \n",
            "  inflating: /content/dataset/our485/high/770.png  \n",
            "  inflating: /content/dataset/__MACOSX/our485/high/._770.png  \n",
            "  inflating: /content/dataset/our485/high/228.png  \n",
            "  inflating: /content/dataset/__MACOSX/our485/high/._228.png  \n",
            "  inflating: /content/dataset/our485/high/566.png  \n",
            "  inflating: /content/dataset/__MACOSX/our485/high/._566.png  \n",
            "  inflating: /content/dataset/our485/high/200.png  \n",
            "  inflating: /content/dataset/__MACOSX/our485/high/._200.png  \n",
            "  inflating: /content/dataset/our485/high/572.png  \n",
            "  inflating: /content/dataset/__MACOSX/our485/high/._572.png  \n",
            "  inflating: /content/dataset/our485/high/598.png  \n",
            "  inflating: /content/dataset/__MACOSX/our485/high/._598.png  \n",
            "  inflating: /content/dataset/our485/high/215.png  \n",
            "  inflating: /content/dataset/__MACOSX/our485/high/._215.png  \n",
            "  inflating: /content/dataset/our485/high/573.png  \n",
            "  inflating: /content/dataset/__MACOSX/our485/high/._573.png  \n",
            "  inflating: /content/dataset/our485/high/567.png  \n",
            "  inflating: /content/dataset/__MACOSX/our485/high/._567.png  \n",
            "  inflating: /content/dataset/our485/high/201.png  \n",
            "  inflating: /content/dataset/__MACOSX/our485/high/._201.png  \n",
            "  inflating: /content/dataset/our485/high/229.png  \n",
            "  inflating: /content/dataset/__MACOSX/our485/high/._229.png  \n",
            "  inflating: /content/dataset/our485/high/771.png  \n",
            "  inflating: /content/dataset/__MACOSX/our485/high/._771.png  \n",
            "  inflating: /content/dataset/our485/high/765.png  \n",
            "  inflating: /content/dataset/__MACOSX/our485/high/._765.png  \n",
            "  inflating: /content/dataset/our485/high/759.png  \n",
            "  inflating: /content/dataset/__MACOSX/our485/high/._759.png  \n",
            "  inflating: /content/dataset/our485/high/62.png  \n",
            "  inflating: /content/dataset/__MACOSX/our485/high/._62.png  \n",
            "  inflating: /content/dataset/our485/high/188.png  \n",
            "  inflating: /content/dataset/__MACOSX/our485/high/._188.png  \n",
            "  inflating: /content/dataset/our485/high/76.png  \n",
            "  inflating: /content/dataset/__MACOSX/our485/high/._76.png  \n",
            "  inflating: /content/dataset/our485/high/605.png  \n",
            "  inflating: /content/dataset/__MACOSX/our485/high/._605.png  \n",
            "  inflating: /content/dataset/our485/high/611.png  \n",
            "  inflating: /content/dataset/__MACOSX/our485/high/._611.png  \n",
            "  inflating: /content/dataset/our485/high/89.png  \n",
            "  inflating: /content/dataset/__MACOSX/our485/high/._89.png  \n",
            "  inflating: /content/dataset/our485/high/639.png  \n",
            "  inflating: /content/dataset/__MACOSX/our485/high/._639.png  \n",
            "  inflating: /content/dataset/our485/high/149.png  \n",
            "  inflating: /content/dataset/__MACOSX/our485/high/._149.png  \n",
            "  inflating: /content/dataset/our485/high/607.png  \n",
            "  inflating: /content/dataset/__MACOSX/our485/high/._607.png  \n",
            "  inflating: /content/dataset/our485/high/613.png  \n",
            "  inflating: /content/dataset/__MACOSX/our485/high/._613.png  \n",
            "  inflating: /content/dataset/our485/high/175.png  \n",
            "  inflating: /content/dataset/__MACOSX/our485/high/._175.png  \n",
            "  inflating: /content/dataset/our485/high/60.png  \n",
            "  inflating: /content/dataset/__MACOSX/our485/high/._60.png  \n",
            "  inflating: /content/dataset/our485/high/74.png  \n",
            "  inflating: /content/dataset/__MACOSX/our485/high/._74.png  \n",
            "  inflating: /content/dataset/our485/high/48.png  \n",
            "  inflating: /content/dataset/__MACOSX/our485/high/._48.png  \n",
            "  inflating: /content/dataset/our485/high/773.png  \n",
            "  inflating: /content/dataset/__MACOSX/our485/high/._773.png  \n",
            "  inflating: /content/dataset/our485/high/559.png  \n",
            "  inflating: /content/dataset/__MACOSX/our485/high/._559.png  \n",
            "  inflating: /content/dataset/our485/high/571.png  \n",
            "  inflating: /content/dataset/__MACOSX/our485/high/._571.png  \n",
            "  inflating: /content/dataset/our485/high/203.png  \n",
            "  inflating: /content/dataset/__MACOSX/our485/high/._203.png  \n",
            "  inflating: /content/dataset/our485/high/565.png  \n",
            "  inflating: /content/dataset/__MACOSX/our485/high/._565.png  \n",
            "  inflating: /content/dataset/our485/high/202.png  \n",
            "  inflating: /content/dataset/__MACOSX/our485/high/._202.png  \n",
            "  inflating: /content/dataset/our485/high/564.png  \n",
            "  inflating: /content/dataset/__MACOSX/our485/high/._564.png  \n",
            "  inflating: /content/dataset/our485/high/570.png  \n",
            "  inflating: /content/dataset/__MACOSX/our485/high/._570.png  \n",
            "  inflating: /content/dataset/our485/high/216.png  \n",
            "  inflating: /content/dataset/__MACOSX/our485/high/._216.png  \n",
            "  inflating: /content/dataset/our485/high/558.png  \n",
            "  inflating: /content/dataset/__MACOSX/our485/high/._558.png  \n",
            "  inflating: /content/dataset/our485/high/766.png  \n",
            "  inflating: /content/dataset/__MACOSX/our485/high/._766.png  \n",
            "  inflating: /content/dataset/our485/high/772.png  \n",
            "  inflating: /content/dataset/__MACOSX/our485/high/._772.png  \n",
            "  inflating: /content/dataset/our485/high/75.png  \n",
            "  inflating: /content/dataset/__MACOSX/our485/high/._75.png  \n",
            "  inflating: /content/dataset/our485/high/61.png  \n",
            "  inflating: /content/dataset/__MACOSX/our485/high/._61.png  \n",
            "  inflating: /content/dataset/our485/high/612.png  \n",
            "  inflating: /content/dataset/__MACOSX/our485/high/._612.png  \n",
            "  inflating: /content/dataset/our485/high/174.png  \n",
            "  inflating: /content/dataset/__MACOSX/our485/high/._174.png  \n",
            "  inflating: /content/dataset/our485/high/160.png  \n",
            "  inflating: /content/dataset/__MACOSX/our485/high/._160.png  \n",
            "  inflating: /content/dataset/our485/high/606.png  \n",
            "  inflating: /content/dataset/__MACOSX/our485/high/._606.png  \n",
            "  inflating: /content/dataset/our485/high/616.png  \n",
            "  inflating: /content/dataset/__MACOSX/our485/high/._616.png  \n",
            "  inflating: /content/dataset/our485/high/59.png  \n",
            "  inflating: /content/dataset/__MACOSX/our485/high/._59.png  \n",
            "  inflating: /content/dataset/our485/high/776.png  \n",
            "  inflating: /content/dataset/__MACOSX/our485/high/._776.png  \n",
            "  inflating: /content/dataset/our485/high/762.png  \n",
            "  inflating: /content/dataset/__MACOSX/our485/high/._762.png  \n",
            "  inflating: /content/dataset/our485/high/789.png  \n",
            "  inflating: /content/dataset/__MACOSX/our485/high/._789.png  \n",
            "  inflating: /content/dataset/our485/high/212.png  \n",
            "  inflating: /content/dataset/__MACOSX/our485/high/._212.png  \n",
            "  inflating: /content/dataset/our485/high/.DS_Store  \n",
            "  inflating: /content/dataset/__MACOSX/our485/high/._.DS_Store  \n",
            "  inflating: /content/dataset/our485/high/574.png  \n",
            "  inflating: /content/dataset/__MACOSX/our485/high/._574.png  \n",
            "  inflating: /content/dataset/our485/high/560.png  \n",
            "  inflating: /content/dataset/__MACOSX/our485/high/._560.png  \n",
            "  inflating: /content/dataset/our485/high/206.png  \n",
            "  inflating: /content/dataset/__MACOSX/our485/high/._206.png  \n",
            "  inflating: /content/dataset/our485/high/548.png  \n",
            "  inflating: /content/dataset/__MACOSX/our485/high/._548.png  \n",
            "  inflating: /content/dataset/our485/high/549.png  \n",
            "  inflating: /content/dataset/__MACOSX/our485/high/._549.png  \n",
            "  inflating: /content/dataset/our485/high/561.png  \n",
            "  inflating: /content/dataset/__MACOSX/our485/high/._561.png  \n",
            "  inflating: /content/dataset/our485/high/207.png  \n",
            "  inflating: /content/dataset/__MACOSX/our485/high/._207.png  \n",
            "  inflating: /content/dataset/our485/high/213.png  \n",
            "  inflating: /content/dataset/__MACOSX/our485/high/._213.png  \n",
            "  inflating: /content/dataset/our485/high/575.png  \n",
            "  inflating: /content/dataset/__MACOSX/our485/high/._575.png  \n",
            "  inflating: /content/dataset/our485/high/788.png  \n",
            "  inflating: /content/dataset/__MACOSX/our485/high/._788.png  \n",
            "  inflating: /content/dataset/our485/high/763.png  \n",
            "  inflating: /content/dataset/__MACOSX/our485/high/._763.png  \n",
            "  inflating: /content/dataset/our485/high/777.png  \n",
            "  inflating: /content/dataset/__MACOSX/our485/high/._777.png  \n",
            "  inflating: /content/dataset/our485/high/70.png  \n",
            "  inflating: /content/dataset/__MACOSX/our485/high/._70.png  \n",
            "  inflating: /content/dataset/our485/high/64.png  \n",
            "  inflating: /content/dataset/__MACOSX/our485/high/._64.png  \n",
            "  inflating: /content/dataset/our485/high/58.png  \n",
            "  inflating: /content/dataset/__MACOSX/our485/high/._58.png  \n",
            "  inflating: /content/dataset/our485/high/159.png  \n",
            "  inflating: /content/dataset/__MACOSX/our485/high/._159.png  \n",
            "  inflating: /content/dataset/our485/high/171.png  \n",
            "  inflating: /content/dataset/__MACOSX/our485/high/._171.png  \n",
            "  inflating: /content/dataset/our485/high/617.png  \n",
            "  inflating: /content/dataset/__MACOSX/our485/high/._617.png  \n",
            "  inflating: /content/dataset/our485/high/615.png  \n",
            "  inflating: /content/dataset/__MACOSX/our485/high/._615.png  \n",
            "  inflating: /content/dataset/our485/high/173.png  \n",
            "  inflating: /content/dataset/__MACOSX/our485/high/._173.png  \n",
            "  inflating: /content/dataset/our485/high/167.png  \n",
            "  inflating: /content/dataset/__MACOSX/our485/high/._167.png  \n",
            "  inflating: /content/dataset/our485/high/601.png  \n",
            "  inflating: /content/dataset/__MACOSX/our485/high/._601.png  \n",
            "  inflating: /content/dataset/our485/high/99.png  \n",
            "  inflating: /content/dataset/__MACOSX/our485/high/._99.png  \n",
            "  inflating: /content/dataset/our485/high/629.png  \n",
            "  inflating: /content/dataset/__MACOSX/our485/high/._629.png  \n",
            "  inflating: /content/dataset/our485/high/198.png  \n",
            "  inflating: /content/dataset/__MACOSX/our485/high/._198.png  \n",
            "  inflating: /content/dataset/our485/high/761.png  \n",
            "  inflating: /content/dataset/__MACOSX/our485/high/._761.png  \n",
            "  inflating: /content/dataset/our485/high/775.png  \n",
            "  inflating: /content/dataset/__MACOSX/our485/high/._775.png  \n",
            "  inflating: /content/dataset/our485/high/563.png  \n",
            "  inflating: /content/dataset/__MACOSX/our485/high/._563.png  \n",
            "  inflating: /content/dataset/our485/high/211.png  \n",
            "  inflating: /content/dataset/__MACOSX/our485/high/._211.png  \n",
            "  inflating: /content/dataset/our485/high/239.png  \n",
            "  inflating: /content/dataset/__MACOSX/our485/high/._239.png  \n",
            "  inflating: /content/dataset/our485/high/588.png  \n",
            "  inflating: /content/dataset/__MACOSX/our485/high/._588.png  \n",
            "  inflating: /content/dataset/our485/high/238.png  \n",
            "  inflating: /content/dataset/__MACOSX/our485/high/._238.png  \n",
            "  inflating: /content/dataset/our485/high/576.png  \n",
            "  inflating: /content/dataset/__MACOSX/our485/high/._576.png  \n",
            "  inflating: /content/dataset/our485/high/210.png  \n",
            "  inflating: /content/dataset/__MACOSX/our485/high/._210.png  \n",
            "  inflating: /content/dataset/our485/high/204.png  \n",
            "  inflating: /content/dataset/__MACOSX/our485/high/._204.png  \n",
            "  inflating: /content/dataset/our485/high/562.png  \n",
            "  inflating: /content/dataset/__MACOSX/our485/high/._562.png  \n",
            "  inflating: /content/dataset/our485/high/774.png  \n",
            "  inflating: /content/dataset/__MACOSX/our485/high/._774.png  \n",
            "  inflating: /content/dataset/our485/high/760.png  \n",
            "  inflating: /content/dataset/__MACOSX/our485/high/._760.png  \n",
            "  inflating: /content/dataset/our485/high/199.png  \n",
            "  inflating: /content/dataset/__MACOSX/our485/high/._199.png  \n",
            "  inflating: /content/dataset/our485/high/67.png  \n",
            "  inflating: /content/dataset/__MACOSX/our485/high/._67.png  \n",
            "  inflating: /content/dataset/our485/high/73.png  \n",
            "  inflating: /content/dataset/__MACOSX/our485/high/._73.png  \n",
            "  inflating: /content/dataset/our485/high/9.png  \n",
            "  inflating: /content/dataset/__MACOSX/our485/high/._9.png  \n",
            "  inflating: /content/dataset/our485/high/628.png  \n",
            "  inflating: /content/dataset/__MACOSX/our485/high/._628.png  \n",
            "  inflating: /content/dataset/our485/high/98.png  \n",
            "  inflating: /content/dataset/__MACOSX/our485/high/._98.png  \n",
            "  inflating: /content/dataset/our485/high/600.png  \n",
            "  inflating: /content/dataset/__MACOSX/our485/high/._600.png  \n",
            "  inflating: /content/dataset/our485/high/614.png  \n",
            "  inflating: /content/dataset/__MACOSX/our485/high/._614.png  \n",
            "  inflating: /content/dataset/our485/high/172.png  \n",
            "  inflating: /content/dataset/__MACOSX/our485/high/._172.png  \n",
            "  inflating: /content/dataset/our485/high/471.png  \n",
            "  inflating: /content/dataset/__MACOSX/our485/high/._471.png  \n",
            "  inflating: /content/dataset/our485/high/129.png  \n",
            "  inflating: /content/dataset/__MACOSX/our485/high/._129.png  \n",
            "  inflating: /content/dataset/our485/high/115.png  \n",
            "  inflating: /content/dataset/__MACOSX/our485/high/._115.png  \n",
            "  inflating: /content/dataset/our485/high/101.png  \n",
            "  inflating: /content/dataset/__MACOSX/our485/high/._101.png  \n",
            "  inflating: /content/dataset/our485/high/667.png  \n",
            "  inflating: /content/dataset/__MACOSX/our485/high/._667.png  \n",
            "  inflating: /content/dataset/our485/high/14.png  \n",
            "  inflating: /content/dataset/__MACOSX/our485/high/._14.png  \n",
            "  inflating: /content/dataset/our485/high/698.png  \n",
            "  inflating: /content/dataset/__MACOSX/our485/high/._698.png  \n",
            "  inflating: /content/dataset/our485/high/28.png  \n",
            "  inflating: /content/dataset/__MACOSX/our485/high/._28.png  \n",
            "  inflating: /content/dataset/our485/high/713.png  \n",
            "  inflating: /content/dataset/__MACOSX/our485/high/._713.png  \n",
            "  inflating: /content/dataset/our485/high/539.png  \n",
            "  inflating: /content/dataset/__MACOSX/our485/high/._539.png  \n",
            "  inflating: /content/dataset/our485/high/263.png  \n",
            "  inflating: /content/dataset/__MACOSX/our485/high/._263.png  \n",
            "  inflating: /content/dataset/our485/high/505.png  \n",
            "  inflating: /content/dataset/__MACOSX/our485/high/._505.png  \n",
            "  inflating: /content/dataset/our485/high/511.png  \n",
            "  inflating: /content/dataset/__MACOSX/our485/high/._511.png  \n",
            "  inflating: /content/dataset/our485/high/262.png  \n",
            "  inflating: /content/dataset/__MACOSX/our485/high/._262.png  \n",
            "  inflating: /content/dataset/our485/high/504.png  \n",
            "  inflating: /content/dataset/__MACOSX/our485/high/._504.png  \n",
            "  inflating: /content/dataset/our485/high/538.png  \n",
            "  inflating: /content/dataset/__MACOSX/our485/high/._538.png  \n",
            "  inflating: /content/dataset/our485/high/712.png  \n",
            "  inflating: /content/dataset/__MACOSX/our485/high/._712.png  \n",
            "  inflating: /content/dataset/our485/high/699.png  \n",
            "  inflating: /content/dataset/__MACOSX/our485/high/._699.png  \n",
            "  inflating: /content/dataset/our485/high/15.png  \n",
            "  inflating: /content/dataset/__MACOSX/our485/high/._15.png  \n",
            "  inflating: /content/dataset/our485/high/100.png  \n",
            "  inflating: /content/dataset/__MACOSX/our485/high/._100.png  \n",
            "  inflating: /content/dataset/our485/high/666.png  \n",
            "  inflating: /content/dataset/__MACOSX/our485/high/._666.png  \n",
            "  inflating: /content/dataset/our485/high/114.png  \n",
            "  inflating: /content/dataset/__MACOSX/our485/high/._114.png  \n",
            "  inflating: /content/dataset/our485/high/128.png  \n",
            "  inflating: /content/dataset/__MACOSX/our485/high/._128.png  \n",
            "  inflating: /content/dataset/our485/high/464.png  \n",
            "  inflating: /content/dataset/__MACOSX/our485/high/._464.png  \n",
            "  inflating: /content/dataset/our485/high/470.png  \n",
            "  inflating: /content/dataset/__MACOSX/our485/high/._470.png  \n",
            "  inflating: /content/dataset/our485/high/328.png  \n",
            "  inflating: /content/dataset/__MACOSX/our485/high/._328.png  \n",
            "  inflating: /content/dataset/our485/high/472.png  \n",
            "  inflating: /content/dataset/__MACOSX/our485/high/._472.png  \n",
            "  inflating: /content/dataset/our485/high/499.png  \n",
            "  inflating: /content/dataset/__MACOSX/our485/high/._499.png  \n",
            "  inflating: /content/dataset/our485/high/658.png  \n",
            "  inflating: /content/dataset/__MACOSX/our485/high/._658.png  \n",
            "  inflating: /content/dataset/our485/high/664.png  \n",
            "  inflating: /content/dataset/__MACOSX/our485/high/._664.png  \n",
            "  inflating: /content/dataset/our485/high/102.png  \n",
            "  inflating: /content/dataset/__MACOSX/our485/high/._102.png  \n",
            "  inflating: /content/dataset/our485/high/116.png  \n",
            "  inflating: /content/dataset/__MACOSX/our485/high/._116.png  \n",
            "  inflating: /content/dataset/our485/high/670.png  \n",
            "  inflating: /content/dataset/__MACOSX/our485/high/._670.png  \n",
            "  inflating: /content/dataset/our485/high/17.png  \n",
            "  inflating: /content/dataset/__MACOSX/our485/high/._17.png  \n",
            "  inflating: /content/dataset/our485/high/738.png  \n",
            "  inflating: /content/dataset/__MACOSX/our485/high/._738.png  \n",
            "  inflating: /content/dataset/our485/high/710.png  \n",
            "  inflating: /content/dataset/__MACOSX/our485/high/._710.png  \n",
            "  inflating: /content/dataset/our485/high/704.png  \n",
            "  inflating: /content/dataset/__MACOSX/our485/high/._704.png  \n",
            "  inflating: /content/dataset/our485/high/248.png  \n",
            "  inflating: /content/dataset/__MACOSX/our485/high/._248.png  \n",
            "  inflating: /content/dataset/our485/high/512.png  \n",
            "  inflating: /content/dataset/__MACOSX/our485/high/._512.png  \n",
            "  inflating: /content/dataset/our485/high/506.png  \n",
            "  inflating: /content/dataset/__MACOSX/our485/high/._506.png  \n",
            "  inflating: /content/dataset/our485/high/260.png  \n",
            "  inflating: /content/dataset/__MACOSX/our485/high/._260.png  \n",
            "  inflating: /content/dataset/our485/high/507.png  \n",
            "  inflating: /content/dataset/__MACOSX/our485/high/._507.png  \n",
            "  inflating: /content/dataset/our485/high/261.png  \n",
            "  inflating: /content/dataset/__MACOSX/our485/high/._261.png  \n",
            "  inflating: /content/dataset/our485/high/249.png  \n",
            "  inflating: /content/dataset/__MACOSX/our485/high/._249.png  \n",
            "  inflating: /content/dataset/our485/high/711.png  \n",
            "  inflating: /content/dataset/__MACOSX/our485/high/._711.png  \n",
            "  inflating: /content/dataset/our485/high/739.png  \n",
            "  inflating: /content/dataset/__MACOSX/our485/high/._739.png  \n",
            "  inflating: /content/dataset/our485/high/16.png  \n",
            "  inflating: /content/dataset/__MACOSX/our485/high/._16.png  \n",
            "  inflating: /content/dataset/our485/high/117.png  \n",
            "  inflating: /content/dataset/__MACOSX/our485/high/._117.png  \n",
            "  inflating: /content/dataset/our485/high/671.png  \n",
            "  inflating: /content/dataset/__MACOSX/our485/high/._671.png  \n",
            "  inflating: /content/dataset/our485/high/103.png  \n",
            "  inflating: /content/dataset/__MACOSX/our485/high/._103.png  \n",
            "  inflating: /content/dataset/our485/high/659.png  \n",
            "  inflating: /content/dataset/__MACOSX/our485/high/._659.png  \n",
            "  inflating: /content/dataset/our485/high/498.png  \n",
            "  inflating: /content/dataset/__MACOSX/our485/high/._498.png  \n",
            "  inflating: /content/dataset/our485/high/473.png  \n",
            "  inflating: /content/dataset/__MACOSX/our485/high/._473.png  \n",
            "  inflating: /content/dataset/our485/high/477.png  \n",
            "  inflating: /content/dataset/__MACOSX/our485/high/._477.png  \n",
            "  inflating: /content/dataset/our485/high/488.png  \n",
            "  inflating: /content/dataset/__MACOSX/our485/high/._488.png  \n",
            "  inflating: /content/dataset/our485/high/107.png  \n",
            "  inflating: /content/dataset/__MACOSX/our485/high/._107.png  \n",
            "  inflating: /content/dataset/our485/high/661.png  \n",
            "  inflating: /content/dataset/__MACOSX/our485/high/._661.png  \n",
            "  inflating: /content/dataset/our485/high/675.png  \n",
            "  inflating: /content/dataset/__MACOSX/our485/high/._675.png  \n",
            "  inflating: /content/dataset/our485/high/113.png  \n",
            "  inflating: /content/dataset/__MACOSX/our485/high/._113.png  \n",
            "  inflating: /content/dataset/our485/high/649.png  \n",
            "  inflating: /content/dataset/__MACOSX/our485/high/._649.png  \n",
            "  inflating: /content/dataset/our485/high/12.png  \n",
            "  inflating: /content/dataset/__MACOSX/our485/high/._12.png  \n",
            "  inflating: /content/dataset/our485/high/715.png  \n",
            "  inflating: /content/dataset/__MACOSX/our485/high/._715.png  \n",
            "  inflating: /content/dataset/our485/high/701.png  \n",
            "  inflating: /content/dataset/__MACOSX/our485/high/._701.png  \n",
            "  inflating: /content/dataset/our485/high/729.png  \n",
            "  inflating: /content/dataset/__MACOSX/our485/high/._729.png  \n",
            "  inflating: /content/dataset/our485/high/517.png  \n",
            "  inflating: /content/dataset/__MACOSX/our485/high/._517.png  \n",
            "  inflating: /content/dataset/our485/high/265.png  \n",
            "  inflating: /content/dataset/__MACOSX/our485/high/._265.png  \n",
            "  inflating: /content/dataset/our485/high/259.png  \n",
            "  inflating: /content/dataset/__MACOSX/our485/high/._259.png  \n",
            "  inflating: /content/dataset/our485/high/258.png  \n",
            "  inflating: /content/dataset/__MACOSX/our485/high/._258.png  \n",
            "  inflating: /content/dataset/our485/high/264.png  \n",
            "  inflating: /content/dataset/__MACOSX/our485/high/._264.png  \n",
            "  inflating: /content/dataset/our485/high/502.png  \n",
            "  inflating: /content/dataset/__MACOSX/our485/high/._502.png  \n",
            "  inflating: /content/dataset/our485/high/728.png  \n",
            "  inflating: /content/dataset/__MACOSX/our485/high/._728.png  \n",
            "  inflating: /content/dataset/our485/high/700.png  \n",
            "  inflating: /content/dataset/__MACOSX/our485/high/._700.png  \n",
            "  inflating: /content/dataset/our485/high/714.png  \n",
            "  inflating: /content/dataset/__MACOSX/our485/high/._714.png  \n",
            "  inflating: /content/dataset/our485/high/13.png  \n",
            "  inflating: /content/dataset/__MACOSX/our485/high/._13.png  \n",
            "  inflating: /content/dataset/our485/high/648.png  \n",
            "  inflating: /content/dataset/__MACOSX/our485/high/._648.png  \n",
            "  inflating: /content/dataset/our485/high/674.png  \n",
            "  inflating: /content/dataset/__MACOSX/our485/high/._674.png  \n",
            "  inflating: /content/dataset/our485/high/112.png  \n",
            "  inflating: /content/dataset/__MACOSX/our485/high/._112.png  \n",
            "  inflating: /content/dataset/our485/high/106.png  \n",
            "  inflating: /content/dataset/__MACOSX/our485/high/._106.png  \n",
            "  inflating: /content/dataset/our485/high/660.png  \n",
            "  inflating: /content/dataset/__MACOSX/our485/high/._660.png  \n",
            "  inflating: /content/dataset/our485/high/489.png  \n",
            "  inflating: /content/dataset/__MACOSX/our485/high/._489.png  \n",
            "  inflating: /content/dataset/our485/high/476.png  \n",
            "  inflating: /content/dataset/__MACOSX/our485/high/._476.png  \n",
            "  inflating: /content/dataset/our485/high/474.png  \n",
            "  inflating: /content/dataset/__MACOSX/our485/high/._474.png  \n",
            "  inflating: /content/dataset/our485/high/460.png  \n",
            "  inflating: /content/dataset/__MACOSX/our485/high/._460.png  \n",
            "  inflating: /content/dataset/our485/high/110.png  \n",
            "  inflating: /content/dataset/__MACOSX/our485/high/._110.png  \n",
            "  inflating: /content/dataset/our485/high/676.png  \n",
            "  inflating: /content/dataset/__MACOSX/our485/high/._676.png  \n",
            "  inflating: /content/dataset/our485/high/662.png  \n",
            "  inflating: /content/dataset/__MACOSX/our485/high/._662.png  \n",
            "  inflating: /content/dataset/our485/high/104.png  \n",
            "  inflating: /content/dataset/__MACOSX/our485/high/._104.png  \n",
            "  inflating: /content/dataset/our485/high/138.png  \n",
            "  inflating: /content/dataset/__MACOSX/our485/high/._138.png  \n",
            "  inflating: /content/dataset/our485/high/39.png  \n",
            "  inflating: /content/dataset/__MACOSX/our485/high/._39.png  \n",
            "  inflating: /content/dataset/our485/high/689.png  \n",
            "  inflating: /content/dataset/__MACOSX/our485/high/._689.png  \n",
            "  inflating: /content/dataset/our485/high/702.png  \n",
            "  inflating: /content/dataset/__MACOSX/our485/high/._702.png  \n",
            "  inflating: /content/dataset/our485/high/716.png  \n",
            "  inflating: /content/dataset/__MACOSX/our485/high/._716.png  \n",
            "  inflating: /content/dataset/our485/high/500.png  \n",
            "  inflating: /content/dataset/__MACOSX/our485/high/._500.png  \n",
            "  inflating: /content/dataset/our485/high/514.png  \n",
            "  inflating: /content/dataset/__MACOSX/our485/high/._514.png  \n",
            "  inflating: /content/dataset/our485/high/528.png  \n",
            "  inflating: /content/dataset/__MACOSX/our485/high/._528.png  \n",
            "  inflating: /content/dataset/our485/high/529.png  \n",
            "  inflating: /content/dataset/__MACOSX/our485/high/._529.png  \n",
            "  inflating: /content/dataset/our485/high/515.png  \n",
            "  inflating: /content/dataset/__MACOSX/our485/high/._515.png  \n",
            "  inflating: /content/dataset/our485/high/501.png  \n",
            "  inflating: /content/dataset/__MACOSX/our485/high/._501.png  \n",
            "  inflating: /content/dataset/our485/high/267.png  \n",
            "  inflating: /content/dataset/__MACOSX/our485/high/._267.png  \n",
            "  inflating: /content/dataset/our485/high/717.png  \n",
            "  inflating: /content/dataset/__MACOSX/our485/high/._717.png  \n",
            "  inflating: /content/dataset/our485/high/703.png  \n",
            "  inflating: /content/dataset/__MACOSX/our485/high/._703.png  \n",
            "  inflating: /content/dataset/our485/high/10.png  \n",
            "  inflating: /content/dataset/__MACOSX/our485/high/._10.png  \n",
            "  inflating: /content/dataset/our485/high/688.png  \n",
            "  inflating: /content/dataset/__MACOSX/our485/high/._688.png  \n",
            "  inflating: /content/dataset/our485/high/38.png  \n",
            "  inflating: /content/dataset/__MACOSX/our485/high/._38.png  \n",
            "  inflating: /content/dataset/our485/high/139.png  \n",
            "  inflating: /content/dataset/__MACOSX/our485/high/._139.png  \n",
            "  inflating: /content/dataset/our485/high/663.png  \n",
            "  inflating: /content/dataset/__MACOSX/our485/high/._663.png  \n",
            "  inflating: /content/dataset/our485/high/105.png  \n",
            "  inflating: /content/dataset/__MACOSX/our485/high/._105.png  \n",
            "  inflating: /content/dataset/our485/high/677.png  \n",
            "  inflating: /content/dataset/__MACOSX/our485/high/._677.png  \n",
            "  inflating: /content/dataset/our485/high/475.png  \n",
            "  inflating: /content/dataset/__MACOSX/our485/high/._475.png  \n",
            "  inflating: /content/dataset/our485/high/478.png  \n",
            "  inflating: /content/dataset/__MACOSX/our485/high/._478.png  \n",
            "  inflating: /content/dataset/our485/high/450.png  \n",
            "  inflating: /content/dataset/__MACOSX/our485/high/._450.png  \n",
            "  inflating: /content/dataset/our485/high/487.png  \n",
            "  inflating: /content/dataset/__MACOSX/our485/high/._487.png  \n",
            "  inflating: /content/dataset/our485/high/120.png  \n",
            "  inflating: /content/dataset/__MACOSX/our485/high/._120.png  \n",
            "  inflating: /content/dataset/our485/high/646.png  \n",
            "  inflating: /content/dataset/__MACOSX/our485/high/._646.png  \n",
            "  inflating: /content/dataset/our485/high/35.png  \n",
            "  inflating: /content/dataset/__MACOSX/our485/high/._35.png  \n",
            "  inflating: /content/dataset/our485/high/21.png  \n",
            "  inflating: /content/dataset/__MACOSX/our485/high/._21.png  \n",
            "  inflating: /content/dataset/our485/high/691.png  \n",
            "  inflating: /content/dataset/__MACOSX/our485/high/._691.png  \n",
            "  inflating: /content/dataset/our485/high/685.png  \n",
            "  inflating: /content/dataset/__MACOSX/our485/high/._685.png  \n",
            "  inflating: /content/dataset/our485/high/726.png  \n",
            "  inflating: /content/dataset/__MACOSX/our485/high/._726.png  \n",
            "  inflating: /content/dataset/our485/high/732.png  \n",
            "  inflating: /content/dataset/__MACOSX/our485/high/._732.png  \n",
            "  inflating: /content/dataset/our485/high/242.png  \n",
            "  inflating: /content/dataset/__MACOSX/our485/high/._242.png  \n",
            "  inflating: /content/dataset/our485/high/524.png  \n",
            "  inflating: /content/dataset/__MACOSX/our485/high/._524.png  \n",
            "  inflating: /content/dataset/our485/high/530.png  \n",
            "  inflating: /content/dataset/__MACOSX/our485/high/._530.png  \n",
            "  inflating: /content/dataset/our485/high/531.png  \n",
            "  inflating: /content/dataset/__MACOSX/our485/high/._531.png  \n",
            "  inflating: /content/dataset/our485/high/257.png  \n",
            "  inflating: /content/dataset/__MACOSX/our485/high/._257.png  \n",
            "  inflating: /content/dataset/our485/high/243.png  \n",
            "  inflating: /content/dataset/__MACOSX/our485/high/._243.png  \n",
            "  inflating: /content/dataset/our485/high/525.png  \n",
            "  inflating: /content/dataset/__MACOSX/our485/high/._525.png  \n",
            "  inflating: /content/dataset/our485/high/733.png  \n",
            "  inflating: /content/dataset/__MACOSX/our485/high/._733.png  \n",
            "  inflating: /content/dataset/our485/high/727.png  \n",
            "  inflating: /content/dataset/__MACOSX/our485/high/._727.png  \n",
            "  inflating: /content/dataset/our485/high/684.png  \n",
            "  inflating: /content/dataset/__MACOSX/our485/high/._684.png  \n",
            "  inflating: /content/dataset/our485/high/690.png  \n",
            "  inflating: /content/dataset/__MACOSX/our485/high/._690.png  \n",
            "  inflating: /content/dataset/our485/high/121.png  \n",
            "  inflating: /content/dataset/__MACOSX/our485/high/._121.png  \n",
            "  inflating: /content/dataset/our485/high/647.png  \n",
            "  inflating: /content/dataset/__MACOSX/our485/high/._647.png  \n",
            "  inflating: /content/dataset/our485/high/653.png  \n",
            "  inflating: /content/dataset/__MACOSX/our485/high/._653.png  \n",
            "  inflating: /content/dataset/our485/high/135.png  \n",
            "  inflating: /content/dataset/__MACOSX/our485/high/._135.png  \n",
            "  inflating: /content/dataset/our485/high/109.png  \n",
            "  inflating: /content/dataset/__MACOSX/our485/high/._109.png  \n",
            "  inflating: /content/dataset/our485/high/486.png  \n",
            "  inflating: /content/dataset/__MACOSX/our485/high/._486.png  \n",
            "  inflating: /content/dataset/our485/high/492.png  \n",
            "  inflating: /content/dataset/__MACOSX/our485/high/._492.png  \n",
            "  inflating: /content/dataset/our485/high/479.png  \n",
            "  inflating: /content/dataset/__MACOSX/our485/high/._479.png  \n",
            "  inflating: /content/dataset/our485/high/484.png  \n",
            "  inflating: /content/dataset/__MACOSX/our485/high/._484.png  \n",
            "  inflating: /content/dataset/our485/high/490.png  \n",
            "  inflating: /content/dataset/__MACOSX/our485/high/._490.png  \n",
            "  inflating: /content/dataset/our485/high/679.png  \n",
            "  inflating: /content/dataset/__MACOSX/our485/high/._679.png  \n",
            "  inflating: /content/dataset/our485/high/645.png  \n",
            "  inflating: /content/dataset/__MACOSX/our485/high/._645.png  \n",
            "  inflating: /content/dataset/our485/high/123.png  \n",
            "  inflating: /content/dataset/__MACOSX/our485/high/._123.png  \n",
            "  inflating: /content/dataset/our485/high/137.png  \n",
            "  inflating: /content/dataset/__MACOSX/our485/high/._137.png  \n",
            "  inflating: /content/dataset/our485/high/651.png  \n",
            "  inflating: /content/dataset/__MACOSX/our485/high/._651.png  \n",
            "  inflating: /content/dataset/our485/high/36.png  \n",
            "  inflating: /content/dataset/__MACOSX/our485/high/._36.png  \n",
            "  inflating: /content/dataset/our485/high/686.png  \n",
            "  inflating: /content/dataset/__MACOSX/our485/high/._686.png  \n",
            "  inflating: /content/dataset/our485/high/692.png  \n",
            "  inflating: /content/dataset/__MACOSX/our485/high/._692.png  \n",
            "  inflating: /content/dataset/our485/high/719.png  \n",
            "  inflating: /content/dataset/__MACOSX/our485/high/._719.png  \n",
            "  inflating: /content/dataset/our485/high/731.png  \n",
            "  inflating: /content/dataset/__MACOSX/our485/high/._731.png  \n",
            "  inflating: /content/dataset/our485/high/725.png  \n",
            "  inflating: /content/dataset/__MACOSX/our485/high/._725.png  \n",
            "  inflating: /content/dataset/our485/high/533.png  \n",
            "  inflating: /content/dataset/__MACOSX/our485/high/._533.png  \n",
            "  inflating: /content/dataset/our485/high/527.png  \n",
            "  inflating: /content/dataset/__MACOSX/our485/high/._527.png  \n",
            "  inflating: /content/dataset/our485/high/241.png  \n",
            "  inflating: /content/dataset/__MACOSX/our485/high/._241.png  \n",
            "  inflating: /content/dataset/our485/high/526.png  \n",
            "  inflating: /content/dataset/__MACOSX/our485/high/._526.png  \n",
            "  inflating: /content/dataset/our485/high/240.png  \n",
            "  inflating: /content/dataset/__MACOSX/our485/high/._240.png  \n",
            "  inflating: /content/dataset/our485/high/254.png  \n",
            "  inflating: /content/dataset/__MACOSX/our485/high/._254.png  \n",
            "  inflating: /content/dataset/our485/high/532.png  \n",
            "  inflating: /content/dataset/__MACOSX/our485/high/._532.png  \n",
            "  inflating: /content/dataset/our485/high/724.png  \n",
            "  inflating: /content/dataset/__MACOSX/our485/high/._724.png  \n",
            "  inflating: /content/dataset/our485/high/730.png  \n",
            "  inflating: /content/dataset/__MACOSX/our485/high/._730.png  \n",
            "  inflating: /content/dataset/our485/high/718.png  \n",
            "  inflating: /content/dataset/__MACOSX/our485/high/._718.png  \n",
            "  inflating: /content/dataset/our485/high/693.png  \n",
            "  inflating: /content/dataset/__MACOSX/our485/high/._693.png  \n",
            "  inflating: /content/dataset/our485/high/687.png  \n",
            "  inflating: /content/dataset/__MACOSX/our485/high/._687.png  \n",
            "  inflating: /content/dataset/our485/high/136.png  \n",
            "  inflating: /content/dataset/__MACOSX/our485/high/._136.png  \n",
            "  inflating: /content/dataset/our485/high/650.png  \n",
            "  inflating: /content/dataset/__MACOSX/our485/high/._650.png  \n",
            "  inflating: /content/dataset/our485/high/644.png  \n",
            "  inflating: /content/dataset/__MACOSX/our485/high/._644.png  \n",
            "  inflating: /content/dataset/our485/high/122.png  \n",
            "  inflating: /content/dataset/__MACOSX/our485/high/._122.png  \n",
            "  inflating: /content/dataset/our485/high/678.png  \n",
            "  inflating: /content/dataset/__MACOSX/our485/high/._678.png  \n",
            "  inflating: /content/dataset/our485/high/491.png  \n",
            "  inflating: /content/dataset/__MACOSX/our485/high/._491.png  \n",
            "  inflating: /content/dataset/our485/high/485.png  \n",
            "  inflating: /content/dataset/__MACOSX/our485/high/._485.png  \n",
            "  inflating: /content/dataset/our485/high/330.png  \n",
            "  inflating: /content/dataset/__MACOSX/our485/high/._330.png  \n",
            "  inflating: /content/dataset/our485/high/481.png  \n",
            "  inflating: /content/dataset/__MACOSX/our485/high/._481.png  \n",
            "  inflating: /content/dataset/our485/high/495.png  \n",
            "  inflating: /content/dataset/__MACOSX/our485/high/._495.png  \n",
            "  inflating: /content/dataset/our485/high/126.png  \n",
            "  inflating: /content/dataset/__MACOSX/our485/high/._126.png  \n",
            "  inflating: /content/dataset/our485/high/640.png  \n",
            "  inflating: /content/dataset/__MACOSX/our485/high/._640.png  \n",
            "  inflating: /content/dataset/our485/high/654.png  \n",
            "  inflating: /content/dataset/__MACOSX/our485/high/._654.png  \n",
            "  inflating: /content/dataset/our485/high/132.png  \n",
            "  inflating: /content/dataset/__MACOSX/our485/high/._132.png  \n",
            "  inflating: /content/dataset/our485/high/668.png  \n",
            "  inflating: /content/dataset/__MACOSX/our485/high/._668.png  \n",
            "  inflating: /content/dataset/our485/high/683.png  \n",
            "  inflating: /content/dataset/__MACOSX/our485/high/._683.png  \n",
            "  inflating: /content/dataset/our485/high/697.png  \n",
            "  inflating: /content/dataset/__MACOSX/our485/high/._697.png  \n",
            "  inflating: /content/dataset/our485/high/27.png  \n",
            "  inflating: /content/dataset/__MACOSX/our485/high/._27.png  \n",
            "  inflating: /content/dataset/our485/high/33.png  \n",
            "  inflating: /content/dataset/__MACOSX/our485/high/._33.png  \n",
            "  inflating: /content/dataset/our485/high/734.png  \n",
            "  inflating: /content/dataset/__MACOSX/our485/high/._734.png  \n",
            "  inflating: /content/dataset/our485/high/720.png  \n",
            "  inflating: /content/dataset/__MACOSX/our485/high/._720.png  \n",
            "  inflating: /content/dataset/our485/high/708.png  \n",
            "  inflating: /content/dataset/__MACOSX/our485/high/._708.png  \n",
            "  inflating: /content/dataset/our485/high/250.png  \n",
            "  inflating: /content/dataset/__MACOSX/our485/high/._250.png  \n",
            "  inflating: /content/dataset/our485/high/244.png  \n",
            "  inflating: /content/dataset/__MACOSX/our485/high/._244.png  \n",
            "  inflating: /content/dataset/our485/high/522.png  \n",
            "  inflating: /content/dataset/our485/high/523.png  \n",
            "  inflating: /content/dataset/__MACOSX/our485/high/._523.png  \n",
            "  inflating: /content/dataset/our485/high/537.png  \n",
            "  inflating: /content/dataset/__MACOSX/our485/high/._537.png  \n",
            "  inflating: /content/dataset/our485/high/251.png  \n",
            "  inflating: /content/dataset/__MACOSX/our485/high/._251.png  \n",
            "  inflating: /content/dataset/our485/high/709.png  \n",
            "  inflating: /content/dataset/__MACOSX/our485/high/._709.png  \n",
            "  inflating: /content/dataset/our485/high/721.png  \n",
            "  inflating: /content/dataset/__MACOSX/our485/high/._721.png  \n",
            "  inflating: /content/dataset/our485/high/735.png  \n",
            "  inflating: /content/dataset/our485/high/26.png  \n",
            "  inflating: /content/dataset/__MACOSX/our485/high/._26.png  \n",
            "  inflating: /content/dataset/our485/high/696.png  \n",
            "  inflating: /content/dataset/__MACOSX/our485/high/._696.png  \n",
            "  inflating: /content/dataset/our485/high/682.png  \n",
            "  inflating: /content/dataset/__MACOSX/our485/high/._682.png  \n",
            "  inflating: /content/dataset/our485/high/655.png  \n",
            "  inflating: /content/dataset/__MACOSX/our485/high/._655.png  \n",
            "  inflating: /content/dataset/our485/high/127.png  \n",
            "  inflating: /content/dataset/__MACOSX/our485/high/._127.png  \n",
            "  inflating: /content/dataset/our485/high/641.png  \n",
            "  inflating: /content/dataset/__MACOSX/our485/high/._641.png  \n",
            "  inflating: /content/dataset/our485/high/494.png  \n",
            "  inflating: /content/dataset/__MACOSX/our485/high/._494.png  \n",
            "  inflating: /content/dataset/our485/high/480.png  \n",
            "  inflating: /content/dataset/__MACOSX/our485/high/._480.png  \n",
            "  inflating: /content/dataset/our485/high/469.png  \n",
            "  inflating: /content/dataset/__MACOSX/our485/high/._469.png  \n",
            "  inflating: /content/dataset/our485/high/496.png  \n",
            "  inflating: /content/dataset/__MACOSX/our485/high/._496.png  \n",
            "  inflating: /content/dataset/our485/high/482.png  \n",
            "  inflating: /content/dataset/__MACOSX/our485/high/._482.png  \n",
            "  inflating: /content/dataset/our485/high/131.png  \n",
            "  inflating: /content/dataset/__MACOSX/our485/high/._131.png  \n",
            "  inflating: /content/dataset/our485/high/643.png  \n",
            "  inflating: /content/dataset/__MACOSX/our485/high/._643.png  \n",
            "  inflating: /content/dataset/our485/high/125.png  \n",
            "  inflating: /content/dataset/__MACOSX/our485/high/._125.png  \n",
            "  inflating: /content/dataset/our485/high/119.png  \n",
            "  inflating: /content/dataset/__MACOSX/our485/high/._119.png  \n",
            "  inflating: /content/dataset/our485/high/694.png  \n",
            "  inflating: /content/dataset/__MACOSX/our485/high/._694.png  \n",
            "  inflating: /content/dataset/our485/high/680.png  \n",
            "  inflating: /content/dataset/__MACOSX/our485/high/._680.png  \n",
            "  inflating: /content/dataset/our485/high/18.png  \n",
            "  inflating: /content/dataset/__MACOSX/our485/high/._18.png  \n",
            "  inflating: /content/dataset/our485/high/24.png  \n",
            "  inflating: /content/dataset/__MACOSX/our485/high/._24.png  \n",
            "  inflating: /content/dataset/our485/high/723.png  \n",
            "  inflating: /content/dataset/__MACOSX/our485/high/._723.png  \n",
            "  inflating: /content/dataset/our485/high/737.png  \n",
            "  inflating: /content/dataset/__MACOSX/our485/high/._737.png  \n",
            "  inflating: /content/dataset/our485/high/247.png  \n",
            "  inflating: /content/dataset/__MACOSX/our485/high/._247.png  \n",
            "  inflating: /content/dataset/our485/high/253.png  \n",
            "  inflating: /content/dataset/__MACOSX/our485/high/._253.png  \n",
            "  inflating: /content/dataset/our485/high/535.png  \n",
            "  inflating: /content/dataset/__MACOSX/our485/high/._535.png  \n",
            "  inflating: /content/dataset/our485/high/508.png  \n",
            "  inflating: /content/dataset/__MACOSX/our485/high/._508.png  \n",
            "  inflating: /content/dataset/our485/high/252.png  \n",
            "  inflating: /content/dataset/__MACOSX/our485/high/._252.png  \n",
            "  inflating: /content/dataset/our485/high/534.png  \n",
            "  inflating: /content/dataset/__MACOSX/our485/high/._534.png  \n",
            "  inflating: /content/dataset/our485/high/246.png  \n",
            "  inflating: /content/dataset/__MACOSX/our485/high/._246.png  \n",
            "  inflating: /content/dataset/our485/high/736.png  \n",
            "  inflating: /content/dataset/__MACOSX/our485/high/._736.png  \n",
            "  inflating: /content/dataset/our485/high/722.png  \n",
            "  inflating: /content/dataset/__MACOSX/our485/high/._722.png  \n",
            "  inflating: /content/dataset/our485/high/25.png  \n",
            "  inflating: /content/dataset/__MACOSX/our485/high/._25.png  \n",
            "  inflating: /content/dataset/our485/high/681.png  \n",
            "  inflating: /content/dataset/__MACOSX/our485/high/._681.png  \n",
            "  inflating: /content/dataset/our485/high/695.png  \n",
            "  inflating: /content/dataset/__MACOSX/our485/high/._695.png  \n",
            "  inflating: /content/dataset/our485/high/118.png  \n",
            "  inflating: /content/dataset/__MACOSX/our485/high/._118.png  \n",
            "  inflating: /content/dataset/our485/high/642.png  \n",
            "  inflating: /content/dataset/__MACOSX/our485/high/._642.png  \n",
            "  inflating: /content/dataset/our485/high/124.png  \n",
            "  inflating: /content/dataset/__MACOSX/our485/high/._124.png  \n",
            "  inflating: /content/dataset/our485/high/130.png  \n",
            "  inflating: /content/dataset/__MACOSX/our485/high/._130.png  \n",
            "  inflating: /content/dataset/our485/high/483.png  \n",
            "  inflating: /content/dataset/__MACOSX/our485/high/._483.png  \n",
            "  inflating: /content/dataset/our485/high/497.png  \n",
            "  inflating: /content/dataset/__MACOSX/our485/high/._497.png  \n",
            "  inflating: /content/dataset/our485/high/468.png  \n",
            "  inflating: /content/dataset/__MACOSX/our485/high/._468.png  \n",
            "  inflating: /content/dataset/our485/high/95.png  \n",
            "  inflating: /content/dataset/__MACOSX/our485/high/._95.png  \n",
            "  inflating: /content/dataset/our485/high/81.png  \n",
            "  inflating: /content/dataset/__MACOSX/our485/high/._81.png  \n",
            "  inflating: /content/dataset/our485/high/157.png  \n",
            "  inflating: /content/dataset/__MACOSX/our485/high/._157.png  \n",
            "  inflating: /content/dataset/our485/high/625.png  \n",
            "  inflating: /content/dataset/__MACOSX/our485/high/._625.png  \n",
            "  inflating: /content/dataset/our485/high/143.png  \n",
            "  inflating: /content/dataset/__MACOSX/our485/high/._143.png  \n",
            "  inflating: /content/dataset/our485/high/56.png  \n",
            "  inflating: /content/dataset/__MACOSX/our485/high/._56.png  \n",
            "  inflating: /content/dataset/our485/high/42.png  \n",
            "  inflating: /content/dataset/__MACOSX/our485/high/._42.png  \n",
            "  inflating: /content/dataset/our485/high/194.png  \n",
            "  inflating: /content/dataset/__MACOSX/our485/high/._194.png  \n",
            "  inflating: /content/dataset/our485/high/180.png  \n",
            "  inflating: /content/dataset/__MACOSX/our485/high/._180.png  \n",
            "  inflating: /content/dataset/our485/high/779.png  \n",
            "  inflating: /content/dataset/__MACOSX/our485/high/._779.png  \n",
            "  inflating: /content/dataset/our485/high/745.png  \n",
            "  inflating: /content/dataset/__MACOSX/our485/high/._745.png  \n",
            "  inflating: /content/dataset/our485/high/751.png  \n",
            "  inflating: /content/dataset/__MACOSX/our485/high/._751.png  \n",
            "  inflating: /content/dataset/our485/high/786.png  \n",
            "  inflating: /content/dataset/__MACOSX/our485/high/._786.png  \n",
            "  inflating: /content/dataset/our485/high/209.png  \n",
            "  inflating: /content/dataset/__MACOSX/our485/high/._209.png  \n",
            "  inflating: /content/dataset/our485/high/221.png  \n",
            "  inflating: /content/dataset/__MACOSX/our485/high/._221.png  \n",
            "  inflating: /content/dataset/our485/high/235.png  \n",
            "  inflating: /content/dataset/__MACOSX/our485/high/._235.png  \n",
            "  inflating: /content/dataset/our485/high/553.png  \n",
            "  inflating: /content/dataset/__MACOSX/our485/high/._553.png  \n",
            "  inflating: /content/dataset/our485/high/590.png  \n",
            "  inflating: /content/dataset/__MACOSX/our485/high/._590.png  \n",
            "  inflating: /content/dataset/our485/high/591.png  \n",
            "  inflating: /content/dataset/__MACOSX/our485/high/._591.png  \n",
            "  inflating: /content/dataset/our485/high/585.png  \n",
            "  inflating: /content/dataset/__MACOSX/our485/high/._585.png  \n",
            "  inflating: /content/dataset/our485/high/552.png  \n",
            "  inflating: /content/dataset/__MACOSX/our485/high/._552.png  \n",
            "  inflating: /content/dataset/our485/high/546.png  \n",
            "  inflating: /content/dataset/__MACOSX/our485/high/._546.png  \n",
            "  inflating: /content/dataset/our485/high/220.png  \n",
            "  inflating: /content/dataset/__MACOSX/our485/high/._220.png  \n",
            "  inflating: /content/dataset/our485/high/787.png  \n",
            "  inflating: /content/dataset/__MACOSX/our485/high/._787.png  \n",
            "  inflating: /content/dataset/our485/high/750.png  \n",
            "  inflating: /content/dataset/__MACOSX/our485/high/._750.png  \n",
            "  inflating: /content/dataset/our485/high/744.png  \n",
            "  inflating: /content/dataset/__MACOSX/our485/high/._744.png  \n",
            "  inflating: /content/dataset/our485/high/195.png  \n",
            "  inflating: /content/dataset/__MACOSX/our485/high/._195.png  \n",
            "  inflating: /content/dataset/our485/high/43.png  \n",
            "  inflating: /content/dataset/__MACOSX/our485/high/._43.png  \n",
            "  inflating: /content/dataset/our485/high/5.png  \n",
            "  inflating: /content/dataset/__MACOSX/our485/high/._5.png  \n",
            "  inflating: /content/dataset/our485/high/57.png  \n",
            "  inflating: /content/dataset/__MACOSX/our485/high/._57.png  \n",
            "  inflating: /content/dataset/our485/high/624.png  \n",
            "  inflating: /content/dataset/__MACOSX/our485/high/._624.png  \n",
            "  inflating: /content/dataset/our485/high/142.png  \n",
            "  inflating: /content/dataset/__MACOSX/our485/high/._142.png  \n",
            "  inflating: /content/dataset/our485/high/630.png  \n",
            "  inflating: /content/dataset/__MACOSX/our485/high/._630.png  \n",
            "  inflating: /content/dataset/our485/high/80.png  \n",
            "  inflating: /content/dataset/__MACOSX/our485/high/._80.png  \n",
            "  inflating: /content/dataset/our485/high/94.png  \n",
            "  inflating: /content/dataset/__MACOSX/our485/high/._94.png  \n",
            "  inflating: /content/dataset/our485/high/342.png  \n",
            "  inflating: /content/dataset/__MACOSX/our485/high/._342.png  \n",
            "  inflating: /content/dataset/our485/high/82.png  \n",
            "  inflating: /content/dataset/__MACOSX/our485/high/._82.png  \n",
            "  inflating: /content/dataset/our485/high/96.png  \n",
            "  inflating: /content/dataset/__MACOSX/our485/high/._96.png  \n",
            "  inflating: /content/dataset/our485/high/140.png  \n",
            "  inflating: /content/dataset/__MACOSX/our485/high/._140.png  \n",
            "  inflating: /content/dataset/our485/high/626.png  \n",
            "  inflating: /content/dataset/__MACOSX/our485/high/._626.png  \n",
            "  inflating: /content/dataset/our485/high/154.png  \n",
            "  inflating: /content/dataset/__MACOSX/our485/high/._154.png  \n",
            "  inflating: /content/dataset/our485/high/183.png  \n",
            "  inflating: /content/dataset/__MACOSX/our485/high/._183.png  \n",
            "  inflating: /content/dataset/our485/high/69.png  \n",
            "  inflating: /content/dataset/__MACOSX/our485/high/._69.png  \n",
            "  inflating: /content/dataset/our485/high/752.png  \n",
            "  inflating: /content/dataset/__MACOSX/our485/high/._752.png  \n",
            "  inflating: /content/dataset/our485/high/746.png  \n",
            "  inflating: /content/dataset/__MACOSX/our485/high/._746.png  \n",
            "  inflating: /content/dataset/our485/high/785.png  \n",
            "  inflating: /content/dataset/__MACOSX/our485/high/._785.png  \n",
            "  inflating: /content/dataset/our485/high/578.png  \n",
            "  inflating: /content/dataset/__MACOSX/our485/high/._578.png  \n",
            "  inflating: /content/dataset/our485/high/550.png  \n",
            "  inflating: /content/dataset/__MACOSX/our485/high/._550.png  \n",
            "  inflating: /content/dataset/our485/high/236.png  \n",
            "  inflating: /content/dataset/__MACOSX/our485/high/._236.png  \n",
            "  inflating: /content/dataset/our485/high/222.png  \n",
            "  inflating: /content/dataset/__MACOSX/our485/high/._222.png  \n",
            "  inflating: /content/dataset/our485/high/544.png  \n",
            "  inflating: /content/dataset/__MACOSX/our485/high/._544.png  \n",
            "  inflating: /content/dataset/our485/high/593.png  \n",
            "  inflating: /content/dataset/__MACOSX/our485/high/._593.png  \n",
            "  inflating: /content/dataset/our485/high/587.png  \n",
            "  inflating: /content/dataset/__MACOSX/our485/high/._587.png  \n",
            "  inflating: /content/dataset/our485/high/586.png  \n",
            "  inflating: /content/dataset/__MACOSX/our485/high/._586.png  \n",
            "  inflating: /content/dataset/our485/high/592.png  \n",
            "  inflating: /content/dataset/__MACOSX/our485/high/._592.png  \n",
            "  inflating: /content/dataset/our485/high/545.png  \n",
            "  inflating: /content/dataset/__MACOSX/our485/high/._545.png  \n",
            "  inflating: /content/dataset/our485/high/551.png  \n",
            "  inflating: /content/dataset/__MACOSX/our485/high/._551.png  \n",
            "  inflating: /content/dataset/our485/high/237.png  \n",
            "  inflating: /content/dataset/__MACOSX/our485/high/._237.png  \n",
            "  inflating: /content/dataset/our485/high/579.png  \n",
            "  inflating: /content/dataset/__MACOSX/our485/high/._579.png  \n",
            "  inflating: /content/dataset/our485/high/784.png  \n",
            "  inflating: /content/dataset/__MACOSX/our485/high/._784.png  \n",
            "  inflating: /content/dataset/our485/high/747.png  \n",
            "  inflating: /content/dataset/__MACOSX/our485/high/._747.png  \n",
            "  inflating: /content/dataset/our485/high/68.png  \n",
            "  inflating: /content/dataset/__MACOSX/our485/high/._68.png  \n",
            "  inflating: /content/dataset/our485/high/196.png  \n",
            "  inflating: /content/dataset/__MACOSX/our485/high/._196.png  \n",
            "  inflating: /content/dataset/our485/high/54.png  \n",
            "  inflating: /content/dataset/__MACOSX/our485/high/._54.png  \n",
            "  inflating: /content/dataset/our485/high/6.png  \n",
            "  inflating: /content/dataset/__MACOSX/our485/high/._6.png  \n",
            "  inflating: /content/dataset/our485/high/40.png  \n",
            "  inflating: /content/dataset/__MACOSX/our485/high/._40.png  \n",
            "  inflating: /content/dataset/our485/high/633.png  \n",
            "  inflating: /content/dataset/__MACOSX/our485/high/._633.png  \n",
            "  inflating: /content/dataset/our485/high/141.png  \n",
            "  inflating: /content/dataset/__MACOSX/our485/high/._141.png  \n",
            "  inflating: /content/dataset/our485/high/627.png  \n",
            "  inflating: /content/dataset/__MACOSX/our485/high/._627.png  \n",
            "  inflating: /content/dataset/our485/high/97.png  \n",
            "  inflating: /content/dataset/__MACOSX/our485/high/._97.png  \n",
            "  inflating: /content/dataset/our485/high/169.png  \n",
            "  inflating: /content/dataset/__MACOSX/our485/high/._169.png  \n",
            "  inflating: /content/dataset/our485/high/83.png  \n",
            "  inflating: /content/dataset/__MACOSX/our485/high/._83.png  \n",
            "  inflating: /content/dataset/our485/high/623.png  \n",
            "  inflating: /content/dataset/__MACOSX/our485/high/._623.png  \n",
            "  inflating: /content/dataset/our485/high/145.png  \n",
            "  inflating: /content/dataset/__MACOSX/our485/high/._145.png  \n",
            "  inflating: /content/dataset/our485/high/151.png  \n",
            "  inflating: /content/dataset/__MACOSX/our485/high/._151.png  \n",
            "  inflating: /content/dataset/our485/high/637.png  \n",
            "  inflating: /content/dataset/__MACOSX/our485/high/._637.png  \n",
            "  inflating: /content/dataset/our485/high/87.png  \n",
            "  inflating: /content/dataset/__MACOSX/our485/high/._87.png  \n",
            "  inflating: /content/dataset/our485/high/93.png  \n",
            "  inflating: /content/dataset/__MACOSX/our485/high/._93.png  \n",
            "  inflating: /content/dataset/our485/high/78.png  \n",
            "  inflating: /content/dataset/__MACOSX/our485/high/._78.png  \n",
            "  inflating: /content/dataset/our485/high/186.png  \n",
            "  inflating: /content/dataset/__MACOSX/our485/high/._186.png  \n",
            "  inflating: /content/dataset/our485/high/44.png  \n",
            "  inflating: /content/dataset/__MACOSX/our485/high/._44.png  \n",
            "  inflating: /content/dataset/our485/high/2.png  \n",
            "  inflating: /content/dataset/__MACOSX/our485/high/._2.png  \n",
            "  inflating: /content/dataset/our485/high/50.png  \n",
            "  inflating: /content/dataset/__MACOSX/our485/high/._50.png  \n",
            "  inflating: /content/dataset/our485/high/757.png  \n",
            "  inflating: /content/dataset/__MACOSX/our485/high/._757.png  \n",
            "  inflating: /content/dataset/our485/high/743.png  \n",
            "  inflating: /content/dataset/__MACOSX/our485/high/._743.png  \n",
            "  inflating: /content/dataset/our485/high/233.png  \n",
            "  inflating: /content/dataset/__MACOSX/our485/high/._233.png  \n",
            "  inflating: /content/dataset/our485/high/555.png  \n",
            "  inflating: /content/dataset/__MACOSX/our485/high/._555.png  \n",
            "  inflating: /content/dataset/our485/high/541.png  \n",
            "  inflating: /content/dataset/__MACOSX/our485/high/._541.png  \n",
            "  inflating: /content/dataset/our485/high/227.png  \n",
            "  inflating: /content/dataset/__MACOSX/our485/high/._227.png  \n",
            "  inflating: /content/dataset/our485/high/569.png  \n",
            "  inflating: /content/dataset/__MACOSX/our485/high/._569.png  \n",
            "  inflating: /content/dataset/our485/high/596.png  \n",
            "  inflating: /content/dataset/__MACOSX/our485/high/._596.png  \n",
            "  inflating: /content/dataset/our485/high/583.png  \n",
            "  inflating: /content/dataset/__MACOSX/our485/high/._583.png  \n",
            "  inflating: /content/dataset/our485/high/597.png  \n",
            "  inflating: /content/dataset/__MACOSX/our485/high/._597.png  \n",
            "  inflating: /content/dataset/our485/high/568.png  \n",
            "  inflating: /content/dataset/__MACOSX/our485/high/._568.png  \n",
            "  inflating: /content/dataset/our485/high/540.png  \n",
            "  inflating: /content/dataset/__MACOSX/our485/high/._540.png  \n",
            "  inflating: /content/dataset/our485/high/232.png  \n",
            "  inflating: /content/dataset/__MACOSX/our485/high/._232.png  \n",
            "  inflating: /content/dataset/our485/high/554.png  \n",
            "  inflating: /content/dataset/__MACOSX/our485/high/._554.png  \n",
            "  inflating: /content/dataset/our485/high/781.png  \n",
            "  inflating: /content/dataset/__MACOSX/our485/high/._781.png  \n",
            "  inflating: /content/dataset/our485/high/51.png  \n",
            "  inflating: /content/dataset/__MACOSX/our485/high/._51.png  \n",
            "  inflating: /content/dataset/our485/high/45.png  \n",
            "  inflating: /content/dataset/__MACOSX/our485/high/._45.png  \n",
            "  inflating: /content/dataset/our485/high/193.png  \n",
            "  inflating: /content/dataset/__MACOSX/our485/high/._193.png  \n",
            "  inflating: /content/dataset/our485/high/187.png  \n",
            "  inflating: /content/dataset/__MACOSX/our485/high/._187.png  \n",
            "  inflating: /content/dataset/our485/high/92.png  \n",
            "  inflating: /content/dataset/__MACOSX/our485/high/._92.png  \n",
            "  inflating: /content/dataset/our485/high/86.png  \n",
            "  inflating: /content/dataset/__MACOSX/our485/high/._86.png  \n",
            "  inflating: /content/dataset/our485/high/150.png  \n",
            "  inflating: /content/dataset/__MACOSX/our485/high/._150.png  \n",
            "  inflating: /content/dataset/our485/high/622.png  \n",
            "  inflating: /content/dataset/__MACOSX/our485/high/._622.png  \n",
            "  inflating: /content/dataset/our485/high/144.png  \n",
            "  inflating: /content/dataset/__MACOSX/our485/high/._144.png  \n",
            "  inflating: /content/dataset/our485/high/344.png  \n",
            "  inflating: /content/dataset/__MACOSX/our485/high/._344.png  \n",
            "  inflating: /content/dataset/our485/high/634.png  \n",
            "  inflating: /content/dataset/__MACOSX/our485/high/._634.png  \n",
            "  inflating: /content/dataset/our485/high/152.png  \n",
            "  inflating: /content/dataset/__MACOSX/our485/high/._152.png  \n",
            "  inflating: /content/dataset/our485/high/620.png  \n",
            "  inflating: /content/dataset/__MACOSX/our485/high/._620.png  \n",
            "  inflating: /content/dataset/our485/high/608.png  \n",
            "  inflating: /content/dataset/__MACOSX/our485/high/._608.png  \n",
            "  inflating: /content/dataset/our485/high/84.png  \n",
            "  inflating: /content/dataset/__MACOSX/our485/high/._84.png  \n",
            "  inflating: /content/dataset/our485/high/191.png  \n",
            "  inflating: /content/dataset/__MACOSX/our485/high/._191.png  \n",
            "  inflating: /content/dataset/our485/high/185.png  \n",
            "  inflating: /content/dataset/__MACOSX/our485/high/._185.png  \n",
            "  inflating: /content/dataset/our485/high/53.png  \n",
            "  inflating: /content/dataset/__MACOSX/our485/high/._53.png  \n",
            "  inflating: /content/dataset/our485/high/47.png  \n",
            "  inflating: /content/dataset/__MACOSX/our485/high/._47.png  \n",
            "  inflating: /content/dataset/our485/high/740.png  \n",
            "  inflating: /content/dataset/__MACOSX/our485/high/._740.png  \n",
            "  inflating: /content/dataset/our485/high/783.png  \n",
            "  inflating: /content/dataset/__MACOSX/our485/high/._783.png  \n",
            "  inflating: /content/dataset/our485/high/542.png  \n",
            "  inflating: /content/dataset/__MACOSX/our485/high/._542.png  \n",
            "  inflating: /content/dataset/our485/high/556.png  \n",
            "  inflating: /content/dataset/__MACOSX/our485/high/._556.png  \n",
            "  inflating: /content/dataset/our485/high/230.png  \n",
            "  inflating: /content/dataset/__MACOSX/our485/high/._230.png  \n",
            "  inflating: /content/dataset/our485/high/595.png  \n",
            "  inflating: /content/dataset/__MACOSX/our485/high/._595.png  \n",
            "  inflating: /content/dataset/our485/high/594.png  \n",
            "  inflating: /content/dataset/__MACOSX/our485/high/._594.png  \n",
            "  inflating: /content/dataset/our485/high/580.png  \n",
            "  inflating: /content/dataset/__MACOSX/our485/high/._580.png  \n",
            "  inflating: /content/dataset/our485/high/219.png  \n",
            "  inflating: /content/dataset/__MACOSX/our485/high/._219.png  \n",
            "  inflating: /content/dataset/our485/high/557.png  \n",
            "  inflating: /content/dataset/__MACOSX/our485/high/._557.png  \n",
            "  inflating: /content/dataset/our485/high/231.png  \n",
            "  inflating: /content/dataset/__MACOSX/our485/high/._231.png  \n",
            "  inflating: /content/dataset/our485/high/225.png  \n",
            "  inflating: /content/dataset/__MACOSX/our485/high/._225.png  \n",
            "  inflating: /content/dataset/our485/high/543.png  \n",
            "  inflating: /content/dataset/__MACOSX/our485/high/._543.png  \n",
            "  inflating: /content/dataset/our485/high/782.png  \n",
            "  inflating: /content/dataset/__MACOSX/our485/high/._782.png  \n",
            "  inflating: /content/dataset/our485/high/769.png  \n",
            "  inflating: /content/dataset/__MACOSX/our485/high/._769.png  \n",
            "  inflating: /content/dataset/our485/high/741.png  \n",
            "  inflating: /content/dataset/__MACOSX/our485/high/._741.png  \n",
            "  inflating: /content/dataset/our485/high/46.png  \n",
            "  inflating: /content/dataset/__MACOSX/our485/high/._46.png  \n",
            "  inflating: /content/dataset/our485/high/52.png  \n",
            "  inflating: /content/dataset/__MACOSX/our485/high/._52.png  \n",
            "  inflating: /content/dataset/our485/high/184.png  \n",
            "  inflating: /content/dataset/__MACOSX/our485/high/._184.png  \n",
            "  inflating: /content/dataset/our485/high/91.png  \n",
            "  inflating: /content/dataset/__MACOSX/our485/high/._91.png  \n",
            "  inflating: /content/dataset/our485/high/609.png  \n",
            "  inflating: /content/dataset/__MACOSX/our485/high/._609.png  \n",
            "  inflating: /content/dataset/our485/high/147.png  \n",
            "  inflating: /content/dataset/__MACOSX/our485/high/._147.png  \n",
            "  inflating: /content/dataset/our485/high/621.png  \n",
            "  inflating: /content/dataset/__MACOSX/our485/high/._621.png  \n",
            "  inflating: /content/dataset/__MACOSX/our485/._high  \n",
            "   creating: /content/dataset/our485/low/\n",
            "  inflating: /content/dataset/our485/low/638.png  \n",
            "   creating: /content/dataset/__MACOSX/our485/low/\n",
            "  inflating: /content/dataset/__MACOSX/our485/low/._638.png  \n",
            "  inflating: /content/dataset/our485/low/176.png  \n",
            "  inflating: /content/dataset/__MACOSX/our485/low/._176.png  \n",
            "  inflating: /content/dataset/our485/low/88.png  \n",
            "  inflating: /content/dataset/__MACOSX/our485/low/._88.png  \n",
            "  inflating: /content/dataset/our485/low/610.png  \n",
            "  inflating: /content/dataset/__MACOSX/our485/low/._610.png  \n",
            "  inflating: /content/dataset/our485/low/604.png  \n",
            "  inflating: /content/dataset/__MACOSX/our485/low/._604.png  \n",
            "  inflating: /content/dataset/our485/low/162.png  \n",
            "  inflating: /content/dataset/__MACOSX/our485/low/._162.png  \n",
            "  inflating: /content/dataset/our485/low/189.png  \n",
            "  inflating: /content/dataset/__MACOSX/our485/low/._189.png  \n",
            "  inflating: /content/dataset/our485/low/77.png  \n",
            "  inflating: /content/dataset/__MACOSX/our485/low/._77.png  \n",
            "  inflating: /content/dataset/our485/low/63.png  \n",
            "  inflating: /content/dataset/__MACOSX/our485/low/._63.png  \n",
            "  inflating: /content/dataset/our485/low/758.png  \n",
            "  inflating: /content/dataset/__MACOSX/our485/low/._758.png  \n",
            "  inflating: /content/dataset/our485/low/764.png  \n",
            "  inflating: /content/dataset/__MACOSX/our485/low/._764.png  \n",
            "  inflating: /content/dataset/our485/low/770.png  \n",
            "  inflating: /content/dataset/__MACOSX/our485/low/._770.png  \n",
            "  inflating: /content/dataset/our485/low/228.png  \n",
            "  inflating: /content/dataset/__MACOSX/our485/low/._228.png  \n",
            "  inflating: /content/dataset/our485/low/566.png  \n",
            "  inflating: /content/dataset/__MACOSX/our485/low/._566.png  \n",
            "  inflating: /content/dataset/our485/low/200.png  \n",
            "  inflating: /content/dataset/__MACOSX/our485/low/._200.png  \n",
            "  inflating: /content/dataset/our485/low/572.png  \n",
            "  inflating: /content/dataset/__MACOSX/our485/low/._572.png  \n",
            "  inflating: /content/dataset/our485/low/598.png  \n",
            "  inflating: /content/dataset/__MACOSX/our485/low/._598.png  \n",
            "  inflating: /content/dataset/our485/low/215.png  \n",
            "  inflating: /content/dataset/__MACOSX/our485/low/._215.png  \n",
            "  inflating: /content/dataset/our485/low/573.png  \n",
            "  inflating: /content/dataset/__MACOSX/our485/low/._573.png  \n",
            "  inflating: /content/dataset/our485/low/567.png  \n",
            "  inflating: /content/dataset/__MACOSX/our485/low/._567.png  \n",
            "  inflating: /content/dataset/our485/low/201.png  \n",
            "  inflating: /content/dataset/__MACOSX/our485/low/._201.png  \n",
            "  inflating: /content/dataset/our485/low/229.png  \n",
            "  inflating: /content/dataset/__MACOSX/our485/low/._229.png  \n",
            "  inflating: /content/dataset/our485/low/771.png  \n",
            "  inflating: /content/dataset/__MACOSX/our485/low/._771.png  \n",
            "  inflating: /content/dataset/our485/low/765.png  \n",
            "  inflating: /content/dataset/__MACOSX/our485/low/._765.png  \n",
            "  inflating: /content/dataset/our485/low/759.png  \n",
            "  inflating: /content/dataset/__MACOSX/our485/low/._759.png  \n",
            "  inflating: /content/dataset/our485/low/62.png  \n",
            "  inflating: /content/dataset/__MACOSX/our485/low/._62.png  \n",
            "  inflating: /content/dataset/our485/low/188.png  \n",
            "  inflating: /content/dataset/__MACOSX/our485/low/._188.png  \n",
            "  inflating: /content/dataset/our485/low/76.png  \n",
            "  inflating: /content/dataset/__MACOSX/our485/low/._76.png  \n",
            "  inflating: /content/dataset/our485/low/605.png  \n",
            "  inflating: /content/dataset/__MACOSX/our485/low/._605.png  \n",
            "  inflating: /content/dataset/our485/low/611.png  \n",
            "  inflating: /content/dataset/__MACOSX/our485/low/._611.png  \n",
            "  inflating: /content/dataset/our485/low/89.png  \n",
            "  inflating: /content/dataset/__MACOSX/our485/low/._89.png  \n",
            "  inflating: /content/dataset/our485/low/639.png  \n",
            "  inflating: /content/dataset/__MACOSX/our485/low/._639.png  \n",
            "  inflating: /content/dataset/our485/low/149.png  \n",
            "  inflating: /content/dataset/__MACOSX/our485/low/._149.png  \n",
            "  inflating: /content/dataset/our485/low/607.png  \n",
            "  inflating: /content/dataset/__MACOSX/our485/low/._607.png  \n",
            "  inflating: /content/dataset/our485/low/613.png  \n",
            "  inflating: /content/dataset/__MACOSX/our485/low/._613.png  \n",
            "  inflating: /content/dataset/our485/low/175.png  \n",
            "  inflating: /content/dataset/__MACOSX/our485/low/._175.png  \n",
            "  inflating: /content/dataset/our485/low/60.png  \n",
            "  inflating: /content/dataset/__MACOSX/our485/low/._60.png  \n",
            "  inflating: /content/dataset/our485/low/74.png  \n",
            "  inflating: /content/dataset/__MACOSX/our485/low/._74.png  \n",
            "  inflating: /content/dataset/our485/low/48.png  \n",
            "  inflating: /content/dataset/__MACOSX/our485/low/._48.png  \n",
            "  inflating: /content/dataset/our485/low/773.png  \n",
            "  inflating: /content/dataset/__MACOSX/our485/low/._773.png  \n",
            "  inflating: /content/dataset/our485/low/559.png  \n",
            "  inflating: /content/dataset/__MACOSX/our485/low/._559.png  \n",
            "  inflating: /content/dataset/our485/low/571.png  \n",
            "  inflating: /content/dataset/__MACOSX/our485/low/._571.png  \n",
            "  inflating: /content/dataset/our485/low/203.png  \n",
            "  inflating: /content/dataset/__MACOSX/our485/low/._203.png  \n",
            "  inflating: /content/dataset/our485/low/565.png  \n",
            "  inflating: /content/dataset/__MACOSX/our485/low/._565.png  \n",
            "  inflating: /content/dataset/our485/low/202.png  \n",
            "  inflating: /content/dataset/__MACOSX/our485/low/._202.png  \n",
            "  inflating: /content/dataset/our485/low/564.png  \n",
            "  inflating: /content/dataset/__MACOSX/our485/low/._564.png  \n",
            "  inflating: /content/dataset/our485/low/570.png  \n",
            "  inflating: /content/dataset/__MACOSX/our485/low/._570.png  \n",
            "  inflating: /content/dataset/our485/low/216.png  \n",
            "  inflating: /content/dataset/__MACOSX/our485/low/._216.png  \n",
            "  inflating: /content/dataset/our485/low/558.png  \n",
            "  inflating: /content/dataset/__MACOSX/our485/low/._558.png  \n",
            "  inflating: /content/dataset/our485/low/766.png  \n",
            "  inflating: /content/dataset/__MACOSX/our485/low/._766.png  \n",
            "  inflating: /content/dataset/our485/low/772.png  \n",
            "  inflating: /content/dataset/__MACOSX/our485/low/._772.png  \n",
            "  inflating: /content/dataset/our485/low/75.png  \n",
            "  inflating: /content/dataset/__MACOSX/our485/low/._75.png  \n",
            "  inflating: /content/dataset/our485/low/61.png  \n",
            "  inflating: /content/dataset/__MACOSX/our485/low/._61.png  \n",
            "  inflating: /content/dataset/our485/low/612.png  \n",
            "  inflating: /content/dataset/__MACOSX/our485/low/._612.png  \n",
            "  inflating: /content/dataset/our485/low/174.png  \n",
            "  inflating: /content/dataset/__MACOSX/our485/low/._174.png  \n",
            "  inflating: /content/dataset/our485/low/160.png  \n",
            "  inflating: /content/dataset/__MACOSX/our485/low/._160.png  \n",
            "  inflating: /content/dataset/our485/low/606.png  \n",
            "  inflating: /content/dataset/__MACOSX/our485/low/._606.png  \n",
            "  inflating: /content/dataset/our485/low/616.png  \n",
            "  inflating: /content/dataset/__MACOSX/our485/low/._616.png  \n",
            "  inflating: /content/dataset/our485/low/59.png  \n",
            "  inflating: /content/dataset/__MACOSX/our485/low/._59.png  \n",
            "  inflating: /content/dataset/our485/low/776.png  \n",
            "  inflating: /content/dataset/__MACOSX/our485/low/._776.png  \n",
            "  inflating: /content/dataset/our485/low/762.png  \n",
            "  inflating: /content/dataset/__MACOSX/our485/low/._762.png  \n",
            "  inflating: /content/dataset/our485/low/789.png  \n",
            "  inflating: /content/dataset/__MACOSX/our485/low/._789.png  \n",
            "  inflating: /content/dataset/our485/low/212.png  \n",
            "  inflating: /content/dataset/__MACOSX/our485/low/._212.png  \n",
            "  inflating: /content/dataset/our485/low/.DS_Store  \n",
            "  inflating: /content/dataset/__MACOSX/our485/low/._.DS_Store  \n",
            "  inflating: /content/dataset/our485/low/574.png  \n",
            "  inflating: /content/dataset/__MACOSX/our485/low/._574.png  \n",
            "  inflating: /content/dataset/our485/low/560.png  \n",
            "  inflating: /content/dataset/__MACOSX/our485/low/._560.png  \n",
            "  inflating: /content/dataset/our485/low/206.png  \n",
            "  inflating: /content/dataset/__MACOSX/our485/low/._206.png  \n",
            "  inflating: /content/dataset/our485/low/548.png  \n",
            "  inflating: /content/dataset/__MACOSX/our485/low/._548.png  \n",
            "  inflating: /content/dataset/our485/low/549.png  \n",
            "  inflating: /content/dataset/__MACOSX/our485/low/._549.png  \n",
            "  inflating: /content/dataset/our485/low/561.png  \n",
            "  inflating: /content/dataset/__MACOSX/our485/low/._561.png  \n",
            "  inflating: /content/dataset/our485/low/207.png  \n",
            "  inflating: /content/dataset/__MACOSX/our485/low/._207.png  \n",
            "  inflating: /content/dataset/our485/low/213.png  \n",
            "  inflating: /content/dataset/__MACOSX/our485/low/._213.png  \n",
            "  inflating: /content/dataset/our485/low/575.png  \n",
            "  inflating: /content/dataset/__MACOSX/our485/low/._575.png  \n",
            "  inflating: /content/dataset/our485/low/788.png  \n",
            "  inflating: /content/dataset/__MACOSX/our485/low/._788.png  \n",
            "  inflating: /content/dataset/our485/low/763.png  \n",
            "  inflating: /content/dataset/__MACOSX/our485/low/._763.png  \n",
            "  inflating: /content/dataset/our485/low/777.png  \n",
            "  inflating: /content/dataset/__MACOSX/our485/low/._777.png  \n",
            "  inflating: /content/dataset/our485/low/70.png  \n",
            "  inflating: /content/dataset/__MACOSX/our485/low/._70.png  \n",
            "  inflating: /content/dataset/our485/low/64.png  \n",
            "  inflating: /content/dataset/__MACOSX/our485/low/._64.png  \n",
            "  inflating: /content/dataset/our485/low/58.png  \n",
            "  inflating: /content/dataset/__MACOSX/our485/low/._58.png  \n",
            "  inflating: /content/dataset/our485/low/159.png  \n",
            "  inflating: /content/dataset/__MACOSX/our485/low/._159.png  \n",
            "  inflating: /content/dataset/our485/low/171.png  \n",
            "  inflating: /content/dataset/__MACOSX/our485/low/._171.png  \n",
            "  inflating: /content/dataset/our485/low/617.png  \n",
            "  inflating: /content/dataset/__MACOSX/our485/low/._617.png  \n",
            "  inflating: /content/dataset/our485/low/615.png  \n",
            "  inflating: /content/dataset/__MACOSX/our485/low/._615.png  \n",
            "  inflating: /content/dataset/our485/low/173.png  \n",
            "  inflating: /content/dataset/__MACOSX/our485/low/._173.png  \n",
            "  inflating: /content/dataset/our485/low/167.png  \n",
            "  inflating: /content/dataset/__MACOSX/our485/low/._167.png  \n",
            "  inflating: /content/dataset/our485/low/601.png  \n",
            "  inflating: /content/dataset/__MACOSX/our485/low/._601.png  \n",
            "  inflating: /content/dataset/our485/low/99.png  \n",
            "  inflating: /content/dataset/__MACOSX/our485/low/._99.png  \n",
            "  inflating: /content/dataset/our485/low/629.png  \n",
            "  inflating: /content/dataset/__MACOSX/our485/low/._629.png  \n",
            "  inflating: /content/dataset/our485/low/198.png  \n",
            "  inflating: /content/dataset/__MACOSX/our485/low/._198.png  \n",
            "  inflating: /content/dataset/our485/low/761.png  \n",
            "  inflating: /content/dataset/__MACOSX/our485/low/._761.png  \n",
            "  inflating: /content/dataset/our485/low/775.png  \n",
            "  inflating: /content/dataset/__MACOSX/our485/low/._775.png  \n",
            "  inflating: /content/dataset/our485/low/563.png  \n",
            "  inflating: /content/dataset/__MACOSX/our485/low/._563.png  \n",
            "  inflating: /content/dataset/our485/low/211.png  \n",
            "  inflating: /content/dataset/__MACOSX/our485/low/._211.png  \n",
            "  inflating: /content/dataset/our485/low/239.png  \n",
            "  inflating: /content/dataset/__MACOSX/our485/low/._239.png  \n",
            "  inflating: /content/dataset/our485/low/588.png  \n",
            "  inflating: /content/dataset/__MACOSX/our485/low/._588.png  \n",
            "  inflating: /content/dataset/our485/low/238.png  \n",
            "  inflating: /content/dataset/__MACOSX/our485/low/._238.png  \n",
            "  inflating: /content/dataset/our485/low/576.png  \n",
            "  inflating: /content/dataset/__MACOSX/our485/low/._576.png  \n",
            "  inflating: /content/dataset/our485/low/210.png  \n",
            "  inflating: /content/dataset/__MACOSX/our485/low/._210.png  \n",
            "  inflating: /content/dataset/our485/low/204.png  \n",
            "  inflating: /content/dataset/__MACOSX/our485/low/._204.png  \n",
            "  inflating: /content/dataset/our485/low/562.png  \n",
            "  inflating: /content/dataset/__MACOSX/our485/low/._562.png  \n",
            "  inflating: /content/dataset/our485/low/774.png  \n",
            "  inflating: /content/dataset/__MACOSX/our485/low/._774.png  \n",
            "  inflating: /content/dataset/our485/low/760.png  \n",
            "  inflating: /content/dataset/__MACOSX/our485/low/._760.png  \n",
            "  inflating: /content/dataset/our485/low/199.png  \n",
            "  inflating: /content/dataset/__MACOSX/our485/low/._199.png  \n",
            "  inflating: /content/dataset/our485/low/67.png  \n",
            "  inflating: /content/dataset/__MACOSX/our485/low/._67.png  \n",
            "  inflating: /content/dataset/our485/low/73.png  \n",
            "  inflating: /content/dataset/__MACOSX/our485/low/._73.png  \n",
            "  inflating: /content/dataset/our485/low/9.png  \n",
            "  inflating: /content/dataset/__MACOSX/our485/low/._9.png  \n",
            "  inflating: /content/dataset/our485/low/628.png  \n",
            "  inflating: /content/dataset/__MACOSX/our485/low/._628.png  \n",
            "  inflating: /content/dataset/our485/low/98.png  \n",
            "  inflating: /content/dataset/__MACOSX/our485/low/._98.png  \n",
            "  inflating: /content/dataset/our485/low/600.png  \n",
            "  inflating: /content/dataset/__MACOSX/our485/low/._600.png  \n",
            "  inflating: /content/dataset/our485/low/614.png  \n",
            "  inflating: /content/dataset/__MACOSX/our485/low/._614.png  \n",
            "  inflating: /content/dataset/our485/low/172.png  \n",
            "  inflating: /content/dataset/__MACOSX/our485/low/._172.png  \n",
            "  inflating: /content/dataset/our485/low/471.png  \n",
            "  inflating: /content/dataset/__MACOSX/our485/low/._471.png  \n",
            "  inflating: /content/dataset/our485/low/129.png  \n",
            "  inflating: /content/dataset/__MACOSX/our485/low/._129.png  \n",
            "  inflating: /content/dataset/our485/low/115.png  \n",
            "  inflating: /content/dataset/__MACOSX/our485/low/._115.png  \n",
            "  inflating: /content/dataset/our485/low/101.png  \n",
            "  inflating: /content/dataset/__MACOSX/our485/low/._101.png  \n",
            "  inflating: /content/dataset/our485/low/667.png  \n",
            "  inflating: /content/dataset/__MACOSX/our485/low/._667.png  \n",
            "  inflating: /content/dataset/our485/low/14.png  \n",
            "  inflating: /content/dataset/__MACOSX/our485/low/._14.png  \n",
            "  inflating: /content/dataset/our485/low/698.png  \n",
            "  inflating: /content/dataset/__MACOSX/our485/low/._698.png  \n",
            "  inflating: /content/dataset/our485/low/28.png  \n",
            "  inflating: /content/dataset/__MACOSX/our485/low/._28.png  \n",
            "  inflating: /content/dataset/our485/low/713.png  \n",
            "  inflating: /content/dataset/__MACOSX/our485/low/._713.png  \n",
            "  inflating: /content/dataset/our485/low/539.png  \n",
            "  inflating: /content/dataset/__MACOSX/our485/low/._539.png  \n",
            "  inflating: /content/dataset/our485/low/263.png  \n",
            "  inflating: /content/dataset/__MACOSX/our485/low/._263.png  \n",
            "  inflating: /content/dataset/our485/low/505.png  \n",
            "  inflating: /content/dataset/__MACOSX/our485/low/._505.png  \n",
            "  inflating: /content/dataset/our485/low/511.png  \n",
            "  inflating: /content/dataset/__MACOSX/our485/low/._511.png  \n",
            "  inflating: /content/dataset/our485/low/262.png  \n",
            "  inflating: /content/dataset/__MACOSX/our485/low/._262.png  \n",
            "  inflating: /content/dataset/our485/low/504.png  \n",
            "  inflating: /content/dataset/__MACOSX/our485/low/._504.png  \n",
            "  inflating: /content/dataset/our485/low/538.png  \n",
            "  inflating: /content/dataset/__MACOSX/our485/low/._538.png  \n",
            "  inflating: /content/dataset/our485/low/712.png  \n",
            "  inflating: /content/dataset/__MACOSX/our485/low/._712.png  \n",
            "  inflating: /content/dataset/our485/low/699.png  \n",
            "  inflating: /content/dataset/__MACOSX/our485/low/._699.png  \n",
            "  inflating: /content/dataset/our485/low/15.png  \n",
            "  inflating: /content/dataset/__MACOSX/our485/low/._15.png  \n",
            "  inflating: /content/dataset/our485/low/100.png  \n",
            "  inflating: /content/dataset/__MACOSX/our485/low/._100.png  \n",
            "  inflating: /content/dataset/our485/low/666.png  \n",
            "  inflating: /content/dataset/__MACOSX/our485/low/._666.png  \n",
            "  inflating: /content/dataset/our485/low/114.png  \n",
            "  inflating: /content/dataset/__MACOSX/our485/low/._114.png  \n",
            "  inflating: /content/dataset/our485/low/128.png  \n",
            "  inflating: /content/dataset/__MACOSX/our485/low/._128.png  \n",
            "  inflating: /content/dataset/our485/low/464.png  \n",
            "  inflating: /content/dataset/__MACOSX/our485/low/._464.png  \n",
            "  inflating: /content/dataset/our485/low/470.png  \n",
            "  inflating: /content/dataset/__MACOSX/our485/low/._470.png  \n",
            "  inflating: /content/dataset/our485/low/328.png  \n",
            "  inflating: /content/dataset/__MACOSX/our485/low/._328.png  \n",
            "  inflating: /content/dataset/our485/low/472.png  \n",
            "  inflating: /content/dataset/__MACOSX/our485/low/._472.png  \n",
            "  inflating: /content/dataset/our485/low/499.png  \n",
            "  inflating: /content/dataset/__MACOSX/our485/low/._499.png  \n",
            "  inflating: /content/dataset/our485/low/658.png  \n",
            "  inflating: /content/dataset/__MACOSX/our485/low/._658.png  \n",
            "  inflating: /content/dataset/our485/low/664.png  \n",
            "  inflating: /content/dataset/__MACOSX/our485/low/._664.png  \n",
            "  inflating: /content/dataset/our485/low/102.png  \n",
            "  inflating: /content/dataset/__MACOSX/our485/low/._102.png  \n",
            "  inflating: /content/dataset/our485/low/116.png  \n",
            "  inflating: /content/dataset/__MACOSX/our485/low/._116.png  \n",
            "  inflating: /content/dataset/our485/low/670.png  \n",
            "  inflating: /content/dataset/__MACOSX/our485/low/._670.png  \n",
            "  inflating: /content/dataset/our485/low/17.png  \n",
            "  inflating: /content/dataset/__MACOSX/our485/low/._17.png  \n",
            "  inflating: /content/dataset/our485/low/738.png  \n",
            "  inflating: /content/dataset/__MACOSX/our485/low/._738.png  \n",
            "  inflating: /content/dataset/our485/low/710.png  \n",
            "  inflating: /content/dataset/__MACOSX/our485/low/._710.png  \n",
            "  inflating: /content/dataset/our485/low/704.png  \n",
            "  inflating: /content/dataset/__MACOSX/our485/low/._704.png  \n",
            "  inflating: /content/dataset/our485/low/248.png  \n",
            "  inflating: /content/dataset/__MACOSX/our485/low/._248.png  \n",
            "  inflating: /content/dataset/our485/low/512.png  \n",
            "  inflating: /content/dataset/__MACOSX/our485/low/._512.png  \n",
            "  inflating: /content/dataset/our485/low/506.png  \n",
            "  inflating: /content/dataset/__MACOSX/our485/low/._506.png  \n",
            "  inflating: /content/dataset/our485/low/260.png  \n",
            "  inflating: /content/dataset/__MACOSX/our485/low/._260.png  \n",
            "  inflating: /content/dataset/our485/low/507.png  \n",
            "  inflating: /content/dataset/__MACOSX/our485/low/._507.png  \n",
            "  inflating: /content/dataset/our485/low/261.png  \n",
            "  inflating: /content/dataset/__MACOSX/our485/low/._261.png  \n",
            "  inflating: /content/dataset/our485/low/249.png  \n",
            "  inflating: /content/dataset/__MACOSX/our485/low/._249.png  \n",
            "  inflating: /content/dataset/our485/low/711.png  \n",
            "  inflating: /content/dataset/__MACOSX/our485/low/._711.png  \n",
            "  inflating: /content/dataset/our485/low/739.png  \n",
            "  inflating: /content/dataset/__MACOSX/our485/low/._739.png  \n",
            "  inflating: /content/dataset/our485/low/16.png  \n",
            "  inflating: /content/dataset/__MACOSX/our485/low/._16.png  \n",
            "  inflating: /content/dataset/our485/low/117.png  \n",
            "  inflating: /content/dataset/__MACOSX/our485/low/._117.png  \n",
            "  inflating: /content/dataset/our485/low/671.png  \n",
            "  inflating: /content/dataset/__MACOSX/our485/low/._671.png  \n",
            "  inflating: /content/dataset/our485/low/103.png  \n",
            "  inflating: /content/dataset/__MACOSX/our485/low/._103.png  \n",
            "  inflating: /content/dataset/our485/low/659.png  \n",
            "  inflating: /content/dataset/__MACOSX/our485/low/._659.png  \n",
            "  inflating: /content/dataset/our485/low/498.png  \n",
            "  inflating: /content/dataset/__MACOSX/our485/low/._498.png  \n",
            "  inflating: /content/dataset/our485/low/473.png  \n",
            "  inflating: /content/dataset/__MACOSX/our485/low/._473.png  \n",
            "  inflating: /content/dataset/our485/low/477.png  \n",
            "  inflating: /content/dataset/__MACOSX/our485/low/._477.png  \n",
            "  inflating: /content/dataset/our485/low/488.png  \n",
            "  inflating: /content/dataset/__MACOSX/our485/low/._488.png  \n",
            "  inflating: /content/dataset/our485/low/107.png  \n",
            "  inflating: /content/dataset/__MACOSX/our485/low/._107.png  \n",
            "  inflating: /content/dataset/our485/low/661.png  \n",
            "  inflating: /content/dataset/__MACOSX/our485/low/._661.png  \n",
            "  inflating: /content/dataset/our485/low/675.png  \n",
            "  inflating: /content/dataset/__MACOSX/our485/low/._675.png  \n",
            "  inflating: /content/dataset/our485/low/113.png  \n",
            "  inflating: /content/dataset/__MACOSX/our485/low/._113.png  \n",
            "  inflating: /content/dataset/our485/low/649.png  \n",
            "  inflating: /content/dataset/__MACOSX/our485/low/._649.png  \n",
            "  inflating: /content/dataset/our485/low/12.png  \n",
            "  inflating: /content/dataset/__MACOSX/our485/low/._12.png  \n",
            "  inflating: /content/dataset/our485/low/715.png  \n",
            "  inflating: /content/dataset/__MACOSX/our485/low/._715.png  \n",
            "  inflating: /content/dataset/our485/low/701.png  \n",
            "  inflating: /content/dataset/__MACOSX/our485/low/._701.png  \n",
            "  inflating: /content/dataset/our485/low/729.png  \n",
            "  inflating: /content/dataset/__MACOSX/our485/low/._729.png  \n",
            "  inflating: /content/dataset/our485/low/517.png  \n",
            "  inflating: /content/dataset/__MACOSX/our485/low/._517.png  \n",
            "  inflating: /content/dataset/our485/low/265.png  \n",
            "  inflating: /content/dataset/__MACOSX/our485/low/._265.png  \n",
            "  inflating: /content/dataset/our485/low/259.png  \n",
            "  inflating: /content/dataset/__MACOSX/our485/low/._259.png  \n",
            "  inflating: /content/dataset/our485/low/258.png  \n",
            "  inflating: /content/dataset/__MACOSX/our485/low/._258.png  \n",
            "  inflating: /content/dataset/our485/low/264.png  \n",
            "  inflating: /content/dataset/__MACOSX/our485/low/._264.png  \n",
            "  inflating: /content/dataset/our485/low/502.png  \n",
            "  inflating: /content/dataset/__MACOSX/our485/low/._502.png  \n",
            "  inflating: /content/dataset/our485/low/728.png  \n",
            "  inflating: /content/dataset/__MACOSX/our485/low/._728.png  \n",
            "  inflating: /content/dataset/our485/low/700.png  \n",
            "  inflating: /content/dataset/__MACOSX/our485/low/._700.png  \n",
            "  inflating: /content/dataset/our485/low/714.png  \n",
            "  inflating: /content/dataset/__MACOSX/our485/low/._714.png  \n",
            "  inflating: /content/dataset/our485/low/13.png  \n",
            "  inflating: /content/dataset/__MACOSX/our485/low/._13.png  \n",
            "  inflating: /content/dataset/our485/low/648.png  \n",
            "  inflating: /content/dataset/__MACOSX/our485/low/._648.png  \n",
            "  inflating: /content/dataset/our485/low/674.png  \n",
            "  inflating: /content/dataset/__MACOSX/our485/low/._674.png  \n",
            "  inflating: /content/dataset/our485/low/112.png  \n",
            "  inflating: /content/dataset/__MACOSX/our485/low/._112.png  \n",
            "  inflating: /content/dataset/our485/low/106.png  \n",
            "  inflating: /content/dataset/__MACOSX/our485/low/._106.png  \n",
            "  inflating: /content/dataset/our485/low/660.png  \n",
            "  inflating: /content/dataset/__MACOSX/our485/low/._660.png  \n",
            "  inflating: /content/dataset/our485/low/489.png  \n",
            "  inflating: /content/dataset/__MACOSX/our485/low/._489.png  \n",
            "  inflating: /content/dataset/our485/low/476.png  \n",
            "  inflating: /content/dataset/__MACOSX/our485/low/._476.png  \n",
            "  inflating: /content/dataset/our485/low/474.png  \n",
            "  inflating: /content/dataset/__MACOSX/our485/low/._474.png  \n",
            "  inflating: /content/dataset/our485/low/460.png  \n",
            "  inflating: /content/dataset/__MACOSX/our485/low/._460.png  \n",
            "  inflating: /content/dataset/our485/low/110.png  \n",
            "  inflating: /content/dataset/__MACOSX/our485/low/._110.png  \n",
            "  inflating: /content/dataset/our485/low/676.png  \n",
            "  inflating: /content/dataset/__MACOSX/our485/low/._676.png  \n",
            "  inflating: /content/dataset/our485/low/662.png  \n",
            "  inflating: /content/dataset/__MACOSX/our485/low/._662.png  \n",
            "  inflating: /content/dataset/our485/low/104.png  \n",
            "  inflating: /content/dataset/__MACOSX/our485/low/._104.png  \n",
            "  inflating: /content/dataset/our485/low/138.png  \n",
            "  inflating: /content/dataset/__MACOSX/our485/low/._138.png  \n",
            "  inflating: /content/dataset/our485/low/39.png  \n",
            "  inflating: /content/dataset/__MACOSX/our485/low/._39.png  \n",
            "  inflating: /content/dataset/our485/low/689.png  \n",
            "  inflating: /content/dataset/__MACOSX/our485/low/._689.png  \n",
            "  inflating: /content/dataset/our485/low/702.png  \n",
            "  inflating: /content/dataset/__MACOSX/our485/low/._702.png  \n",
            "  inflating: /content/dataset/our485/low/716.png  \n",
            "  inflating: /content/dataset/__MACOSX/our485/low/._716.png  \n",
            "  inflating: /content/dataset/our485/low/500.png  \n",
            "  inflating: /content/dataset/__MACOSX/our485/low/._500.png  \n",
            "  inflating: /content/dataset/our485/low/514.png  \n",
            "  inflating: /content/dataset/__MACOSX/our485/low/._514.png  \n",
            "  inflating: /content/dataset/our485/low/528.png  \n",
            "  inflating: /content/dataset/__MACOSX/our485/low/._528.png  \n",
            "  inflating: /content/dataset/our485/low/529.png  \n",
            "  inflating: /content/dataset/__MACOSX/our485/low/._529.png  \n",
            "  inflating: /content/dataset/our485/low/515.png  \n",
            "  inflating: /content/dataset/__MACOSX/our485/low/._515.png  \n",
            "  inflating: /content/dataset/our485/low/501.png  \n",
            "  inflating: /content/dataset/__MACOSX/our485/low/._501.png  \n",
            "  inflating: /content/dataset/our485/low/267.png  \n",
            "  inflating: /content/dataset/__MACOSX/our485/low/._267.png  \n",
            "  inflating: /content/dataset/our485/low/717.png  \n",
            "  inflating: /content/dataset/__MACOSX/our485/low/._717.png  \n",
            "  inflating: /content/dataset/our485/low/703.png  \n",
            "  inflating: /content/dataset/__MACOSX/our485/low/._703.png  \n",
            "  inflating: /content/dataset/our485/low/10.png  \n",
            "  inflating: /content/dataset/__MACOSX/our485/low/._10.png  \n",
            "  inflating: /content/dataset/our485/low/688.png  \n",
            "  inflating: /content/dataset/__MACOSX/our485/low/._688.png  \n",
            "  inflating: /content/dataset/our485/low/38.png  \n",
            "  inflating: /content/dataset/__MACOSX/our485/low/._38.png  \n",
            "  inflating: /content/dataset/our485/low/139.png  \n",
            "  inflating: /content/dataset/__MACOSX/our485/low/._139.png  \n",
            "  inflating: /content/dataset/our485/low/663.png  \n",
            "  inflating: /content/dataset/__MACOSX/our485/low/._663.png  \n",
            "  inflating: /content/dataset/our485/low/105.png  \n",
            "  inflating: /content/dataset/__MACOSX/our485/low/._105.png  \n",
            "  inflating: /content/dataset/our485/low/677.png  \n",
            "  inflating: /content/dataset/__MACOSX/our485/low/._677.png  \n",
            "  inflating: /content/dataset/our485/low/475.png  \n",
            "  inflating: /content/dataset/__MACOSX/our485/low/._475.png  \n",
            "  inflating: /content/dataset/our485/low/478.png  \n",
            "  inflating: /content/dataset/__MACOSX/our485/low/._478.png  \n",
            "  inflating: /content/dataset/our485/low/450.png  \n",
            "  inflating: /content/dataset/__MACOSX/our485/low/._450.png  \n",
            "  inflating: /content/dataset/our485/low/487.png  \n",
            "  inflating: /content/dataset/__MACOSX/our485/low/._487.png  \n",
            "  inflating: /content/dataset/our485/low/120.png  \n",
            "  inflating: /content/dataset/__MACOSX/our485/low/._120.png  \n",
            "  inflating: /content/dataset/our485/low/646.png  \n",
            "  inflating: /content/dataset/__MACOSX/our485/low/._646.png  \n",
            "  inflating: /content/dataset/our485/low/35.png  \n",
            "  inflating: /content/dataset/__MACOSX/our485/low/._35.png  \n",
            "  inflating: /content/dataset/our485/low/21.png  \n",
            "  inflating: /content/dataset/__MACOSX/our485/low/._21.png  \n",
            "  inflating: /content/dataset/our485/low/691.png  \n",
            "  inflating: /content/dataset/__MACOSX/our485/low/._691.png  \n",
            "  inflating: /content/dataset/our485/low/685.png  \n",
            "  inflating: /content/dataset/__MACOSX/our485/low/._685.png  \n",
            "  inflating: /content/dataset/our485/low/726.png  \n",
            "  inflating: /content/dataset/__MACOSX/our485/low/._726.png  \n",
            "  inflating: /content/dataset/our485/low/732.png  \n",
            "  inflating: /content/dataset/__MACOSX/our485/low/._732.png  \n",
            "  inflating: /content/dataset/our485/low/242.png  \n",
            "  inflating: /content/dataset/__MACOSX/our485/low/._242.png  \n",
            "  inflating: /content/dataset/our485/low/524.png  \n",
            "  inflating: /content/dataset/__MACOSX/our485/low/._524.png  \n",
            "  inflating: /content/dataset/our485/low/530.png  \n",
            "  inflating: /content/dataset/__MACOSX/our485/low/._530.png  \n",
            "  inflating: /content/dataset/our485/low/531.png  \n",
            "  inflating: /content/dataset/__MACOSX/our485/low/._531.png  \n",
            "  inflating: /content/dataset/our485/low/257.png  \n",
            "  inflating: /content/dataset/__MACOSX/our485/low/._257.png  \n",
            "  inflating: /content/dataset/our485/low/243.png  \n",
            "  inflating: /content/dataset/__MACOSX/our485/low/._243.png  \n",
            "  inflating: /content/dataset/our485/low/525.png  \n",
            "  inflating: /content/dataset/__MACOSX/our485/low/._525.png  \n",
            "  inflating: /content/dataset/our485/low/733.png  \n",
            "  inflating: /content/dataset/__MACOSX/our485/low/._733.png  \n",
            "  inflating: /content/dataset/our485/low/727.png  \n",
            "  inflating: /content/dataset/__MACOSX/our485/low/._727.png  \n",
            "  inflating: /content/dataset/our485/low/684.png  \n",
            "  inflating: /content/dataset/__MACOSX/our485/low/._684.png  \n",
            "  inflating: /content/dataset/our485/low/690.png  \n",
            "  inflating: /content/dataset/__MACOSX/our485/low/._690.png  \n",
            "  inflating: /content/dataset/our485/low/121.png  \n",
            "  inflating: /content/dataset/__MACOSX/our485/low/._121.png  \n",
            "  inflating: /content/dataset/our485/low/647.png  \n",
            "  inflating: /content/dataset/__MACOSX/our485/low/._647.png  \n",
            "  inflating: /content/dataset/our485/low/653.png  \n",
            "  inflating: /content/dataset/__MACOSX/our485/low/._653.png  \n",
            "  inflating: /content/dataset/our485/low/135.png  \n",
            "  inflating: /content/dataset/__MACOSX/our485/low/._135.png  \n",
            "  inflating: /content/dataset/our485/low/109.png  \n",
            "  inflating: /content/dataset/__MACOSX/our485/low/._109.png  \n",
            "  inflating: /content/dataset/our485/low/486.png  \n",
            "  inflating: /content/dataset/__MACOSX/our485/low/._486.png  \n",
            "  inflating: /content/dataset/our485/low/492.png  \n",
            "  inflating: /content/dataset/__MACOSX/our485/low/._492.png  \n",
            "  inflating: /content/dataset/our485/low/479.png  \n",
            "  inflating: /content/dataset/__MACOSX/our485/low/._479.png  \n",
            "  inflating: /content/dataset/our485/low/484.png  \n",
            "  inflating: /content/dataset/__MACOSX/our485/low/._484.png  \n",
            "  inflating: /content/dataset/our485/low/490.png  \n",
            "  inflating: /content/dataset/__MACOSX/our485/low/._490.png  \n",
            "  inflating: /content/dataset/our485/low/679.png  \n",
            "  inflating: /content/dataset/__MACOSX/our485/low/._679.png  \n",
            "  inflating: /content/dataset/our485/low/645.png  \n",
            "  inflating: /content/dataset/__MACOSX/our485/low/._645.png  \n",
            "  inflating: /content/dataset/our485/low/123.png  \n",
            "  inflating: /content/dataset/__MACOSX/our485/low/._123.png  \n",
            "  inflating: /content/dataset/our485/low/137.png  \n",
            "  inflating: /content/dataset/__MACOSX/our485/low/._137.png  \n",
            "  inflating: /content/dataset/our485/low/651.png  \n",
            "  inflating: /content/dataset/__MACOSX/our485/low/._651.png  \n",
            "  inflating: /content/dataset/our485/low/36.png  \n",
            "  inflating: /content/dataset/__MACOSX/our485/low/._36.png  \n",
            "  inflating: /content/dataset/our485/low/686.png  \n",
            "  inflating: /content/dataset/__MACOSX/our485/low/._686.png  \n",
            "  inflating: /content/dataset/our485/low/692.png  \n",
            "  inflating: /content/dataset/__MACOSX/our485/low/._692.png  \n",
            "  inflating: /content/dataset/our485/low/719.png  \n",
            "  inflating: /content/dataset/__MACOSX/our485/low/._719.png  \n",
            "  inflating: /content/dataset/our485/low/731.png  \n",
            "  inflating: /content/dataset/__MACOSX/our485/low/._731.png  \n",
            "  inflating: /content/dataset/our485/low/725.png  \n",
            "  inflating: /content/dataset/__MACOSX/our485/low/._725.png  \n",
            "  inflating: /content/dataset/our485/low/533.png  \n",
            "  inflating: /content/dataset/__MACOSX/our485/low/._533.png  \n",
            "  inflating: /content/dataset/our485/low/527.png  \n",
            "  inflating: /content/dataset/__MACOSX/our485/low/._527.png  \n",
            "  inflating: /content/dataset/our485/low/241.png  \n",
            "  inflating: /content/dataset/__MACOSX/our485/low/._241.png  \n",
            "  inflating: /content/dataset/our485/low/526.png  \n",
            "  inflating: /content/dataset/__MACOSX/our485/low/._526.png  \n",
            "  inflating: /content/dataset/our485/low/240.png  \n",
            "  inflating: /content/dataset/__MACOSX/our485/low/._240.png  \n",
            "  inflating: /content/dataset/our485/low/254.png  \n",
            "  inflating: /content/dataset/__MACOSX/our485/low/._254.png  \n",
            "  inflating: /content/dataset/our485/low/532.png  \n",
            "  inflating: /content/dataset/__MACOSX/our485/low/._532.png  \n",
            "  inflating: /content/dataset/our485/low/724.png  \n",
            "  inflating: /content/dataset/__MACOSX/our485/low/._724.png  \n",
            "  inflating: /content/dataset/our485/low/730.png  \n",
            "  inflating: /content/dataset/__MACOSX/our485/low/._730.png  \n",
            "  inflating: /content/dataset/our485/low/718.png  \n",
            "  inflating: /content/dataset/__MACOSX/our485/low/._718.png  \n",
            "  inflating: /content/dataset/our485/low/693.png  \n",
            "  inflating: /content/dataset/__MACOSX/our485/low/._693.png  \n",
            "  inflating: /content/dataset/our485/low/687.png  \n",
            "  inflating: /content/dataset/__MACOSX/our485/low/._687.png  \n",
            "  inflating: /content/dataset/our485/low/136.png  \n",
            "  inflating: /content/dataset/__MACOSX/our485/low/._136.png  \n",
            "  inflating: /content/dataset/our485/low/650.png  \n",
            "  inflating: /content/dataset/__MACOSX/our485/low/._650.png  \n",
            "  inflating: /content/dataset/our485/low/644.png  \n",
            "  inflating: /content/dataset/__MACOSX/our485/low/._644.png  \n",
            "  inflating: /content/dataset/our485/low/122.png  \n",
            "  inflating: /content/dataset/__MACOSX/our485/low/._122.png  \n",
            "  inflating: /content/dataset/our485/low/678.png  \n",
            "  inflating: /content/dataset/__MACOSX/our485/low/._678.png  \n",
            "  inflating: /content/dataset/our485/low/491.png  \n",
            "  inflating: /content/dataset/__MACOSX/our485/low/._491.png  \n",
            "  inflating: /content/dataset/our485/low/485.png  \n",
            "  inflating: /content/dataset/__MACOSX/our485/low/._485.png  \n",
            "  inflating: /content/dataset/our485/low/330.png  \n",
            "  inflating: /content/dataset/__MACOSX/our485/low/._330.png  \n",
            "  inflating: /content/dataset/our485/low/481.png  \n",
            "  inflating: /content/dataset/__MACOSX/our485/low/._481.png  \n",
            "  inflating: /content/dataset/our485/low/495.png  \n",
            "  inflating: /content/dataset/__MACOSX/our485/low/._495.png  \n",
            "  inflating: /content/dataset/our485/low/126.png  \n",
            "  inflating: /content/dataset/__MACOSX/our485/low/._126.png  \n",
            "  inflating: /content/dataset/our485/low/640.png  \n",
            "  inflating: /content/dataset/__MACOSX/our485/low/._640.png  \n",
            "  inflating: /content/dataset/our485/low/654.png  \n",
            "  inflating: /content/dataset/__MACOSX/our485/low/._654.png  \n",
            "  inflating: /content/dataset/our485/low/132.png  \n",
            "  inflating: /content/dataset/__MACOSX/our485/low/._132.png  \n",
            "  inflating: /content/dataset/our485/low/668.png  \n",
            "  inflating: /content/dataset/__MACOSX/our485/low/._668.png  \n",
            "  inflating: /content/dataset/our485/low/683.png  \n",
            "  inflating: /content/dataset/__MACOSX/our485/low/._683.png  \n",
            "  inflating: /content/dataset/our485/low/697.png  \n",
            "  inflating: /content/dataset/__MACOSX/our485/low/._697.png  \n",
            "  inflating: /content/dataset/our485/low/27.png  \n",
            "  inflating: /content/dataset/__MACOSX/our485/low/._27.png  \n",
            "  inflating: /content/dataset/our485/low/33.png  \n",
            "  inflating: /content/dataset/__MACOSX/our485/low/._33.png  \n",
            "  inflating: /content/dataset/our485/low/734.png  \n",
            "  inflating: /content/dataset/__MACOSX/our485/low/._734.png  \n",
            "  inflating: /content/dataset/our485/low/720.png  \n",
            "  inflating: /content/dataset/__MACOSX/our485/low/._720.png  \n",
            "  inflating: /content/dataset/our485/low/708.png  \n",
            "  inflating: /content/dataset/__MACOSX/our485/low/._708.png  \n",
            "  inflating: /content/dataset/our485/low/250.png  \n",
            "  inflating: /content/dataset/__MACOSX/our485/low/._250.png  \n",
            "  inflating: /content/dataset/our485/low/244.png  \n",
            "  inflating: /content/dataset/__MACOSX/our485/low/._244.png  \n",
            "  inflating: /content/dataset/our485/low/522.png  \n",
            "  inflating: /content/dataset/__MACOSX/our485/low/._522.png  \n",
            "  inflating: /content/dataset/our485/low/523.png  \n",
            "  inflating: /content/dataset/__MACOSX/our485/low/._523.png  \n",
            "  inflating: /content/dataset/our485/low/537.png  \n",
            "  inflating: /content/dataset/__MACOSX/our485/low/._537.png  \n",
            "  inflating: /content/dataset/our485/low/251.png  \n",
            "  inflating: /content/dataset/__MACOSX/our485/low/._251.png  \n",
            "  inflating: /content/dataset/our485/low/709.png  \n",
            "  inflating: /content/dataset/__MACOSX/our485/low/._709.png  \n",
            "  inflating: /content/dataset/our485/low/721.png  \n",
            "  inflating: /content/dataset/__MACOSX/our485/low/._721.png  \n",
            "  inflating: /content/dataset/our485/low/735.png  \n",
            "  inflating: /content/dataset/__MACOSX/our485/low/._735.png  \n",
            "  inflating: /content/dataset/our485/low/26.png  \n",
            "  inflating: /content/dataset/__MACOSX/our485/low/._26.png  \n",
            "  inflating: /content/dataset/our485/low/696.png  \n",
            "  inflating: /content/dataset/__MACOSX/our485/low/._696.png  \n",
            "  inflating: /content/dataset/our485/low/682.png  \n",
            "  inflating: /content/dataset/__MACOSX/our485/low/._682.png  \n",
            "  inflating: /content/dataset/our485/low/655.png  \n",
            "  inflating: /content/dataset/__MACOSX/our485/low/._655.png  \n",
            "  inflating: /content/dataset/our485/low/127.png  \n",
            "  inflating: /content/dataset/__MACOSX/our485/low/._127.png  \n",
            "  inflating: /content/dataset/our485/low/641.png  \n",
            "  inflating: /content/dataset/__MACOSX/our485/low/._641.png  \n",
            "  inflating: /content/dataset/our485/low/494.png  \n",
            "  inflating: /content/dataset/__MACOSX/our485/low/._494.png  \n",
            "  inflating: /content/dataset/our485/low/480.png  \n",
            "  inflating: /content/dataset/__MACOSX/our485/low/._480.png  \n",
            "  inflating: /content/dataset/our485/low/469.png  \n",
            "  inflating: /content/dataset/__MACOSX/our485/low/._469.png  \n",
            "  inflating: /content/dataset/our485/low/496.png  \n",
            "  inflating: /content/dataset/__MACOSX/our485/low/._496.png  \n",
            "  inflating: /content/dataset/our485/low/482.png  \n",
            "  inflating: /content/dataset/__MACOSX/our485/low/._482.png  \n",
            "  inflating: /content/dataset/our485/low/131.png  \n",
            "  inflating: /content/dataset/__MACOSX/our485/low/._131.png  \n",
            "  inflating: /content/dataset/our485/low/643.png  \n",
            "  inflating: /content/dataset/__MACOSX/our485/low/._643.png  \n",
            "  inflating: /content/dataset/our485/low/125.png  \n",
            "  inflating: /content/dataset/__MACOSX/our485/low/._125.png  \n",
            "  inflating: /content/dataset/our485/low/119.png  \n",
            "  inflating: /content/dataset/__MACOSX/our485/low/._119.png  \n",
            "  inflating: /content/dataset/our485/low/694.png  \n",
            "  inflating: /content/dataset/__MACOSX/our485/low/._694.png  \n",
            "  inflating: /content/dataset/our485/low/680.png  \n",
            "  inflating: /content/dataset/__MACOSX/our485/low/._680.png  \n",
            "  inflating: /content/dataset/our485/low/18.png  \n",
            "  inflating: /content/dataset/__MACOSX/our485/low/._18.png  \n",
            "  inflating: /content/dataset/our485/low/24.png  \n",
            "  inflating: /content/dataset/__MACOSX/our485/low/._24.png  \n",
            "  inflating: /content/dataset/our485/low/723.png  \n",
            "  inflating: /content/dataset/__MACOSX/our485/low/._723.png  \n",
            "  inflating: /content/dataset/our485/low/737.png  \n",
            "  inflating: /content/dataset/__MACOSX/our485/low/._737.png  \n",
            "  inflating: /content/dataset/our485/low/247.png  \n",
            "  inflating: /content/dataset/__MACOSX/our485/low/._247.png  \n",
            "  inflating: /content/dataset/our485/low/253.png  \n",
            "  inflating: /content/dataset/__MACOSX/our485/low/._253.png  \n",
            "  inflating: /content/dataset/our485/low/535.png  \n",
            "  inflating: /content/dataset/__MACOSX/our485/low/._535.png  \n",
            "  inflating: /content/dataset/our485/low/508.png  \n",
            "  inflating: /content/dataset/__MACOSX/our485/low/._508.png  \n",
            "  inflating: /content/dataset/our485/low/252.png  \n",
            "  inflating: /content/dataset/__MACOSX/our485/low/._252.png  \n",
            "  inflating: /content/dataset/our485/low/534.png  \n",
            "  inflating: /content/dataset/__MACOSX/our485/low/._534.png  \n",
            "  inflating: /content/dataset/our485/low/246.png  \n",
            "  inflating: /content/dataset/__MACOSX/our485/low/._246.png  \n",
            "  inflating: /content/dataset/our485/low/736.png  \n",
            "  inflating: /content/dataset/__MACOSX/our485/low/._736.png  \n",
            "  inflating: /content/dataset/our485/low/722.png  \n",
            "  inflating: /content/dataset/__MACOSX/our485/low/._722.png  \n",
            "  inflating: /content/dataset/our485/low/25.png  \n",
            "  inflating: /content/dataset/__MACOSX/our485/low/._25.png  \n",
            "  inflating: /content/dataset/our485/low/681.png  \n",
            "  inflating: /content/dataset/__MACOSX/our485/low/._681.png  \n",
            "  inflating: /content/dataset/our485/low/695.png  \n",
            "  inflating: /content/dataset/__MACOSX/our485/low/._695.png  \n",
            "  inflating: /content/dataset/our485/low/118.png  \n",
            "  inflating: /content/dataset/__MACOSX/our485/low/._118.png  \n",
            "  inflating: /content/dataset/our485/low/642.png  \n",
            "  inflating: /content/dataset/__MACOSX/our485/low/._642.png  \n",
            "  inflating: /content/dataset/our485/low/124.png  \n",
            "  inflating: /content/dataset/__MACOSX/our485/low/._124.png  \n",
            "  inflating: /content/dataset/our485/low/130.png  \n",
            "  inflating: /content/dataset/__MACOSX/our485/low/._130.png  \n",
            "  inflating: /content/dataset/our485/low/483.png  \n",
            "  inflating: /content/dataset/__MACOSX/our485/low/._483.png  \n",
            "  inflating: /content/dataset/our485/low/497.png  \n",
            "  inflating: /content/dataset/__MACOSX/our485/low/._497.png  \n",
            "  inflating: /content/dataset/our485/low/468.png  \n",
            "  inflating: /content/dataset/__MACOSX/our485/low/._468.png  \n",
            "  inflating: /content/dataset/our485/low/95.png  \n",
            "  inflating: /content/dataset/__MACOSX/our485/low/._95.png  \n",
            "  inflating: /content/dataset/our485/low/81.png  \n",
            "  inflating: /content/dataset/__MACOSX/our485/low/._81.png  \n",
            "  inflating: /content/dataset/our485/low/157.png  \n",
            "  inflating: /content/dataset/__MACOSX/our485/low/._157.png  \n",
            "  inflating: /content/dataset/our485/low/625.png  \n",
            "  inflating: /content/dataset/__MACOSX/our485/low/._625.png  \n",
            "  inflating: /content/dataset/our485/low/143.png  \n",
            "  inflating: /content/dataset/__MACOSX/our485/low/._143.png  \n",
            "  inflating: /content/dataset/our485/low/56.png  \n",
            "  inflating: /content/dataset/__MACOSX/our485/low/._56.png  \n",
            "  inflating: /content/dataset/our485/low/42.png  \n",
            "  inflating: /content/dataset/__MACOSX/our485/low/._42.png  \n",
            "  inflating: /content/dataset/our485/low/194.png  \n",
            "  inflating: /content/dataset/__MACOSX/our485/low/._194.png  \n",
            "  inflating: /content/dataset/our485/low/180.png  \n",
            "  inflating: /content/dataset/__MACOSX/our485/low/._180.png  \n",
            "  inflating: /content/dataset/our485/low/779.png  \n",
            "  inflating: /content/dataset/__MACOSX/our485/low/._779.png  \n",
            "  inflating: /content/dataset/our485/low/745.png  \n",
            "  inflating: /content/dataset/__MACOSX/our485/low/._745.png  \n",
            "  inflating: /content/dataset/our485/low/751.png  \n",
            "  inflating: /content/dataset/__MACOSX/our485/low/._751.png  \n",
            "  inflating: /content/dataset/our485/low/786.png  \n",
            "  inflating: /content/dataset/__MACOSX/our485/low/._786.png  \n",
            "  inflating: /content/dataset/our485/low/209.png  \n",
            "  inflating: /content/dataset/__MACOSX/our485/low/._209.png  \n",
            "  inflating: /content/dataset/our485/low/221.png  \n",
            "  inflating: /content/dataset/__MACOSX/our485/low/._221.png  \n",
            "  inflating: /content/dataset/our485/low/235.png  \n",
            "  inflating: /content/dataset/__MACOSX/our485/low/._235.png  \n",
            "  inflating: /content/dataset/our485/low/553.png  \n",
            "  inflating: /content/dataset/__MACOSX/our485/low/._553.png  \n",
            "  inflating: /content/dataset/our485/low/590.png  \n",
            "  inflating: /content/dataset/__MACOSX/our485/low/._590.png  \n",
            "  inflating: /content/dataset/our485/low/591.png  \n",
            "  inflating: /content/dataset/__MACOSX/our485/low/._591.png  \n",
            "  inflating: /content/dataset/our485/low/585.png  \n",
            "  inflating: /content/dataset/__MACOSX/our485/low/._585.png  \n",
            "  inflating: /content/dataset/our485/low/552.png  \n",
            "  inflating: /content/dataset/__MACOSX/our485/low/._552.png  \n",
            "  inflating: /content/dataset/our485/low/546.png  \n",
            "  inflating: /content/dataset/__MACOSX/our485/low/._546.png  \n",
            "  inflating: /content/dataset/our485/low/220.png  \n",
            "  inflating: /content/dataset/__MACOSX/our485/low/._220.png  \n",
            "  inflating: /content/dataset/our485/low/787.png  \n",
            "  inflating: /content/dataset/__MACOSX/our485/low/._787.png  \n",
            "  inflating: /content/dataset/our485/low/750.png  \n",
            "  inflating: /content/dataset/__MACOSX/our485/low/._750.png  \n",
            "  inflating: /content/dataset/our485/low/744.png  \n",
            "  inflating: /content/dataset/__MACOSX/our485/low/._744.png  \n",
            "  inflating: /content/dataset/our485/low/195.png  \n",
            "  inflating: /content/dataset/__MACOSX/our485/low/._195.png  \n",
            "  inflating: /content/dataset/our485/low/43.png  \n",
            "  inflating: /content/dataset/__MACOSX/our485/low/._43.png  \n",
            "  inflating: /content/dataset/our485/low/5.png  \n",
            "  inflating: /content/dataset/__MACOSX/our485/low/._5.png  \n",
            "  inflating: /content/dataset/our485/low/57.png  \n",
            "  inflating: /content/dataset/__MACOSX/our485/low/._57.png  \n",
            "  inflating: /content/dataset/our485/low/624.png  \n",
            "  inflating: /content/dataset/__MACOSX/our485/low/._624.png  \n",
            "  inflating: /content/dataset/our485/low/142.png  \n",
            "  inflating: /content/dataset/__MACOSX/our485/low/._142.png  \n",
            "  inflating: /content/dataset/our485/low/630.png  \n",
            "  inflating: /content/dataset/__MACOSX/our485/low/._630.png  \n",
            "  inflating: /content/dataset/our485/low/80.png  \n",
            "  inflating: /content/dataset/__MACOSX/our485/low/._80.png  \n",
            "  inflating: /content/dataset/our485/low/94.png  \n",
            "  inflating: /content/dataset/__MACOSX/our485/low/._94.png  \n",
            "  inflating: /content/dataset/our485/low/342.png  \n",
            "  inflating: /content/dataset/__MACOSX/our485/low/._342.png  \n",
            "  inflating: /content/dataset/our485/low/82.png  \n",
            "  inflating: /content/dataset/__MACOSX/our485/low/._82.png  \n",
            "  inflating: /content/dataset/our485/low/96.png  \n",
            "  inflating: /content/dataset/__MACOSX/our485/low/._96.png  \n",
            "  inflating: /content/dataset/our485/low/140.png  \n",
            "  inflating: /content/dataset/__MACOSX/our485/low/._140.png  \n",
            "  inflating: /content/dataset/our485/low/626.png  \n",
            "  inflating: /content/dataset/__MACOSX/our485/low/._626.png  \n",
            "  inflating: /content/dataset/our485/low/154.png  \n",
            "  inflating: /content/dataset/__MACOSX/our485/low/._154.png  \n",
            "  inflating: /content/dataset/our485/low/183.png  \n",
            "  inflating: /content/dataset/__MACOSX/our485/low/._183.png  \n",
            "  inflating: /content/dataset/our485/low/69.png  \n",
            "  inflating: /content/dataset/__MACOSX/our485/low/._69.png  \n",
            "  inflating: /content/dataset/our485/low/752.png  \n",
            "  inflating: /content/dataset/__MACOSX/our485/low/._752.png  \n",
            "  inflating: /content/dataset/our485/low/746.png  \n",
            "  inflating: /content/dataset/__MACOSX/our485/low/._746.png  \n",
            "  inflating: /content/dataset/our485/low/785.png  \n",
            "  inflating: /content/dataset/__MACOSX/our485/low/._785.png  \n",
            "  inflating: /content/dataset/our485/low/578.png  \n",
            "  inflating: /content/dataset/__MACOSX/our485/low/._578.png  \n",
            "  inflating: /content/dataset/our485/low/550.png  \n",
            "  inflating: /content/dataset/__MACOSX/our485/low/._550.png  \n",
            "  inflating: /content/dataset/our485/low/236.png  \n",
            "  inflating: /content/dataset/__MACOSX/our485/low/._236.png  \n",
            "  inflating: /content/dataset/our485/low/222.png  \n",
            "  inflating: /content/dataset/__MACOSX/our485/low/._222.png  \n",
            "  inflating: /content/dataset/our485/low/544.png  \n",
            "  inflating: /content/dataset/__MACOSX/our485/low/._544.png  \n",
            "  inflating: /content/dataset/our485/low/593.png  \n",
            "  inflating: /content/dataset/__MACOSX/our485/low/._593.png  \n",
            "  inflating: /content/dataset/our485/low/587.png  \n",
            "  inflating: /content/dataset/__MACOSX/our485/low/._587.png  \n",
            "  inflating: /content/dataset/our485/low/586.png  \n",
            "  inflating: /content/dataset/__MACOSX/our485/low/._586.png  \n",
            "  inflating: /content/dataset/our485/low/592.png  \n",
            "  inflating: /content/dataset/__MACOSX/our485/low/._592.png  \n",
            "  inflating: /content/dataset/our485/low/545.png  \n",
            "  inflating: /content/dataset/__MACOSX/our485/low/._545.png  \n",
            "  inflating: /content/dataset/our485/low/551.png  \n",
            "  inflating: /content/dataset/__MACOSX/our485/low/._551.png  \n",
            "  inflating: /content/dataset/our485/low/237.png  \n",
            "  inflating: /content/dataset/__MACOSX/our485/low/._237.png  \n",
            "  inflating: /content/dataset/our485/low/579.png  \n",
            "  inflating: /content/dataset/__MACOSX/our485/low/._579.png  \n",
            "  inflating: /content/dataset/our485/low/784.png  \n",
            "  inflating: /content/dataset/__MACOSX/our485/low/._784.png  \n",
            "  inflating: /content/dataset/our485/low/747.png  \n",
            "  inflating: /content/dataset/__MACOSX/our485/low/._747.png  \n",
            "  inflating: /content/dataset/our485/low/68.png  \n",
            "  inflating: /content/dataset/__MACOSX/our485/low/._68.png  \n",
            "  inflating: /content/dataset/our485/low/196.png  \n",
            "  inflating: /content/dataset/__MACOSX/our485/low/._196.png  \n",
            "  inflating: /content/dataset/our485/low/54.png  \n",
            "  inflating: /content/dataset/__MACOSX/our485/low/._54.png  \n",
            "  inflating: /content/dataset/our485/low/6.png  \n",
            "  inflating: /content/dataset/__MACOSX/our485/low/._6.png  \n",
            "  inflating: /content/dataset/our485/low/40.png  \n",
            "  inflating: /content/dataset/__MACOSX/our485/low/._40.png  \n",
            "  inflating: /content/dataset/our485/low/633.png  \n",
            "  inflating: /content/dataset/__MACOSX/our485/low/._633.png  \n",
            "  inflating: /content/dataset/our485/low/141.png  \n",
            "  inflating: /content/dataset/__MACOSX/our485/low/._141.png  \n",
            "  inflating: /content/dataset/our485/low/627.png  \n",
            "  inflating: /content/dataset/__MACOSX/our485/low/._627.png  \n",
            "  inflating: /content/dataset/our485/low/97.png  \n",
            "  inflating: /content/dataset/__MACOSX/our485/low/._97.png  \n",
            "  inflating: /content/dataset/our485/low/169.png  \n",
            "  inflating: /content/dataset/__MACOSX/our485/low/._169.png  \n",
            "  inflating: /content/dataset/our485/low/83.png  \n",
            "  inflating: /content/dataset/__MACOSX/our485/low/._83.png  \n",
            "  inflating: /content/dataset/our485/low/623.png  \n",
            "  inflating: /content/dataset/__MACOSX/our485/low/._623.png  \n",
            "  inflating: /content/dataset/our485/low/145.png  \n",
            "  inflating: /content/dataset/__MACOSX/our485/low/._145.png  \n",
            "  inflating: /content/dataset/our485/low/151.png  \n",
            "  inflating: /content/dataset/__MACOSX/our485/low/._151.png  \n",
            "  inflating: /content/dataset/our485/low/637.png  \n",
            "  inflating: /content/dataset/__MACOSX/our485/low/._637.png  \n",
            "  inflating: /content/dataset/our485/low/87.png  \n",
            "  inflating: /content/dataset/__MACOSX/our485/low/._87.png  \n",
            "  inflating: /content/dataset/our485/low/93.png  \n",
            "  inflating: /content/dataset/__MACOSX/our485/low/._93.png  \n",
            "  inflating: /content/dataset/our485/low/78.png  \n",
            "  inflating: /content/dataset/__MACOSX/our485/low/._78.png  \n",
            "  inflating: /content/dataset/our485/low/186.png  \n",
            "  inflating: /content/dataset/__MACOSX/our485/low/._186.png  \n",
            "  inflating: /content/dataset/our485/low/44.png  \n",
            "  inflating: /content/dataset/__MACOSX/our485/low/._44.png  \n",
            "  inflating: /content/dataset/our485/low/2.png  \n",
            "  inflating: /content/dataset/__MACOSX/our485/low/._2.png  \n",
            "  inflating: /content/dataset/our485/low/50.png  \n",
            "  inflating: /content/dataset/__MACOSX/our485/low/._50.png  \n",
            "  inflating: /content/dataset/our485/low/757.png  \n",
            "  inflating: /content/dataset/__MACOSX/our485/low/._757.png  \n",
            "  inflating: /content/dataset/our485/low/743.png  \n",
            "  inflating: /content/dataset/__MACOSX/our485/low/._743.png  \n",
            "  inflating: /content/dataset/our485/low/233.png  \n",
            "  inflating: /content/dataset/__MACOSX/our485/low/._233.png  \n",
            "  inflating: /content/dataset/our485/low/555.png  \n",
            "  inflating: /content/dataset/__MACOSX/our485/low/._555.png  \n",
            "  inflating: /content/dataset/our485/low/541.png  \n",
            "  inflating: /content/dataset/__MACOSX/our485/low/._541.png  \n",
            "  inflating: /content/dataset/our485/low/227.png  \n",
            "  inflating: /content/dataset/__MACOSX/our485/low/._227.png  \n",
            "  inflating: /content/dataset/our485/low/569.png  \n",
            "  inflating: /content/dataset/__MACOSX/our485/low/._569.png  \n",
            "  inflating: /content/dataset/our485/low/596.png  \n",
            "  inflating: /content/dataset/__MACOSX/our485/low/._596.png  \n",
            "  inflating: /content/dataset/our485/low/583.png  \n",
            "  inflating: /content/dataset/__MACOSX/our485/low/._583.png  \n",
            "  inflating: /content/dataset/our485/low/597.png  \n",
            "  inflating: /content/dataset/__MACOSX/our485/low/._597.png  \n",
            "  inflating: /content/dataset/our485/low/568.png  \n",
            "  inflating: /content/dataset/__MACOSX/our485/low/._568.png  \n",
            "  inflating: /content/dataset/our485/low/540.png  \n",
            "  inflating: /content/dataset/__MACOSX/our485/low/._540.png  \n",
            "  inflating: /content/dataset/our485/low/232.png  \n",
            "  inflating: /content/dataset/__MACOSX/our485/low/._232.png  \n",
            "  inflating: /content/dataset/our485/low/554.png  \n",
            "  inflating: /content/dataset/__MACOSX/our485/low/._554.png  \n",
            "  inflating: /content/dataset/our485/low/781.png  \n",
            "  inflating: /content/dataset/__MACOSX/our485/low/._781.png  \n",
            "  inflating: /content/dataset/our485/low/51.png  \n",
            "  inflating: /content/dataset/__MACOSX/our485/low/._51.png  \n",
            "  inflating: /content/dataset/our485/low/45.png  \n",
            "  inflating: /content/dataset/__MACOSX/our485/low/._45.png  \n",
            "  inflating: /content/dataset/our485/low/193.png  \n",
            "  inflating: /content/dataset/__MACOSX/our485/low/._193.png  \n",
            "  inflating: /content/dataset/our485/low/187.png  \n",
            "  inflating: /content/dataset/__MACOSX/our485/low/._187.png  \n",
            "  inflating: /content/dataset/our485/low/92.png  \n",
            "  inflating: /content/dataset/__MACOSX/our485/low/._92.png  \n",
            "  inflating: /content/dataset/our485/low/86.png  \n",
            "  inflating: /content/dataset/__MACOSX/our485/low/._86.png  \n",
            "  inflating: /content/dataset/our485/low/150.png  \n",
            "  inflating: /content/dataset/__MACOSX/our485/low/._150.png  \n",
            "  inflating: /content/dataset/our485/low/622.png  \n",
            "  inflating: /content/dataset/__MACOSX/our485/low/._622.png  \n",
            "  inflating: /content/dataset/our485/low/144.png  \n",
            "  inflating: /content/dataset/__MACOSX/our485/low/._144.png  \n",
            "  inflating: /content/dataset/our485/low/344.png  \n",
            "  inflating: /content/dataset/__MACOSX/our485/low/._344.png  \n",
            "  inflating: /content/dataset/our485/low/634.png  \n",
            "  inflating: /content/dataset/__MACOSX/our485/low/._634.png  \n",
            "  inflating: /content/dataset/our485/low/152.png  \n",
            "  inflating: /content/dataset/__MACOSX/our485/low/._152.png  \n",
            "  inflating: /content/dataset/our485/low/620.png  \n",
            "  inflating: /content/dataset/__MACOSX/our485/low/._620.png  \n",
            "  inflating: /content/dataset/our485/low/608.png  \n",
            "  inflating: /content/dataset/__MACOSX/our485/low/._608.png  \n",
            "  inflating: /content/dataset/our485/low/84.png  \n",
            "  inflating: /content/dataset/__MACOSX/our485/low/._84.png  \n",
            "  inflating: /content/dataset/our485/low/191.png  \n",
            "  inflating: /content/dataset/__MACOSX/our485/low/._191.png  \n",
            "  inflating: /content/dataset/our485/low/185.png  \n",
            "  inflating: /content/dataset/__MACOSX/our485/low/._185.png  \n",
            "  inflating: /content/dataset/our485/low/53.png  \n",
            "  inflating: /content/dataset/__MACOSX/our485/low/._53.png  \n",
            "  inflating: /content/dataset/our485/low/47.png  \n",
            "  inflating: /content/dataset/__MACOSX/our485/low/._47.png  \n",
            "  inflating: /content/dataset/our485/low/740.png  \n",
            "  inflating: /content/dataset/__MACOSX/our485/low/._740.png  \n",
            "  inflating: /content/dataset/our485/low/783.png  \n",
            "  inflating: /content/dataset/__MACOSX/our485/low/._783.png  \n",
            "  inflating: /content/dataset/our485/low/542.png  \n",
            "  inflating: /content/dataset/__MACOSX/our485/low/._542.png  \n",
            "  inflating: /content/dataset/our485/low/556.png  \n",
            "  inflating: /content/dataset/__MACOSX/our485/low/._556.png  \n",
            "  inflating: /content/dataset/our485/low/230.png  \n",
            "  inflating: /content/dataset/__MACOSX/our485/low/._230.png  \n",
            "  inflating: /content/dataset/our485/low/595.png  \n",
            "  inflating: /content/dataset/__MACOSX/our485/low/._595.png  \n",
            "  inflating: /content/dataset/our485/low/594.png  \n",
            "  inflating: /content/dataset/__MACOSX/our485/low/._594.png  \n",
            "  inflating: /content/dataset/our485/low/580.png  \n",
            "  inflating: /content/dataset/__MACOSX/our485/low/._580.png  \n",
            "  inflating: /content/dataset/our485/low/219.png  \n",
            "  inflating: /content/dataset/__MACOSX/our485/low/._219.png  \n",
            "  inflating: /content/dataset/our485/low/557.png  \n",
            "  inflating: /content/dataset/__MACOSX/our485/low/._557.png  \n",
            "  inflating: /content/dataset/our485/low/231.png  \n",
            "  inflating: /content/dataset/__MACOSX/our485/low/._231.png  \n",
            "  inflating: /content/dataset/our485/low/225.png  \n",
            "  inflating: /content/dataset/__MACOSX/our485/low/._225.png  \n",
            "  inflating: /content/dataset/our485/low/543.png  \n",
            "  inflating: /content/dataset/__MACOSX/our485/low/._543.png  \n",
            "  inflating: /content/dataset/our485/low/782.png  \n",
            "  inflating: /content/dataset/__MACOSX/our485/low/._782.png  \n",
            "  inflating: /content/dataset/our485/low/769.png  \n",
            "  inflating: /content/dataset/__MACOSX/our485/low/._769.png  \n",
            "  inflating: /content/dataset/our485/low/741.png  \n",
            "  inflating: /content/dataset/__MACOSX/our485/low/._741.png  \n",
            "  inflating: /content/dataset/our485/low/46.png  \n",
            "  inflating: /content/dataset/__MACOSX/our485/low/._46.png  \n",
            "  inflating: /content/dataset/our485/low/52.png  \n",
            "  inflating: /content/dataset/__MACOSX/our485/low/._52.png  \n",
            "  inflating: /content/dataset/our485/low/184.png  \n",
            "  inflating: /content/dataset/__MACOSX/our485/low/._184.png  \n",
            "  inflating: /content/dataset/our485/low/91.png  \n",
            "  inflating: /content/dataset/__MACOSX/our485/low/._91.png  \n",
            "  inflating: /content/dataset/our485/low/609.png  \n",
            "  inflating: /content/dataset/__MACOSX/our485/low/._609.png  \n",
            "  inflating: /content/dataset/our485/low/147.png  \n",
            "  inflating: /content/dataset/__MACOSX/our485/low/._147.png  \n",
            "  inflating: /content/dataset/our485/low/621.png  \n",
            "  inflating: /content/dataset/__MACOSX/our485/low/._621.png  \n",
            "  inflating: /content/dataset/__MACOSX/our485/._low  \n",
            "  inflating: /content/dataset/__MACOSX/._our485  \n"
          ]
        }
      ]
    },
    {
      "cell_type": "markdown",
      "metadata": {
        "id": "2_uS4nXfUCq6"
      },
      "source": [
        "Resimleri png/jpeg/jpg'den npz formatına (png2npz.py) dönüştürün"
      ]
    },
    {
      "cell_type": "code",
      "execution_count": null,
      "metadata": {
        "id": "ME1_IWhot3gV"
      },
      "outputs": [],
      "source": [
        "################################ Imports ####################################\n",
        "import shutil\n",
        "from os import listdir\n",
        "from tensorflow.keras.utils import load_img, img_to_array\n",
        "from numpy import asarray, savez_compressed\n",
        "\n",
        "\n",
        "################################ Load Dataset ####################################\n",
        "\n",
        "def load_images(path, size=(256, 256)):\n",
        "    data_list = list()\n",
        "    # enumerate filenames in directory, assume all are images\n",
        "    for filename in listdir(path):\n",
        "        if filename.endswith('.png'):  # Check if filename ends with \".png\"\n",
        "            # load and resize the image\n",
        "            pixels = load_img(path + filename, target_size=size)\n",
        "            # convert to numpy array\n",
        "            pixels = img_to_array(pixels)\n",
        "            # store\n",
        "            data_list.append(pixels)\n",
        "\n",
        "    return asarray(data_list)\n",
        "\n",
        "\n",
        "################################ Main Function ####################################\n",
        "def main():\n",
        "    # load images\n",
        "    path = \"/content/dataset/our485/\"\n",
        "    high = load_images(path + 'high/')  # directory \"path/ground_truth\" should be present\n",
        "    low = load_images(path + 'low/')  # directory \"path/low\" should be present\n",
        "\n",
        "    savez_compressed('dataset1.npz', high, low)\n",
        "\n",
        "\n",
        "if __name__ == '__main__':\n",
        "    main()\n"
      ]
    },
    {
      "cell_type": "markdown",
      "metadata": {
        "id": "Xjap935NvHGo"
      },
      "source": [
        "# Yeni Bölüm"
      ]
    },
    {
      "cell_type": "markdown",
      "metadata": {
        "id": "tIzpT1hV9kAu"
      },
      "source": [
        "Kitaplıkları İçe Aktarma"
      ]
    },
    {
      "cell_type": "code",
      "execution_count": null,
      "metadata": {
        "id": "gx-KC9_F0kVd"
      },
      "outputs": [],
      "source": [
        "import os\n",
        "import time\n",
        "import datetime\n",
        "import tensorflow as tf\n",
        "import matplotlib.pyplot as plt\n",
        "from numpy.random import randint\n",
        "from tensorflow.keras import Input\n",
        "from numpy import load, zeros, ones\n",
        "from tensorflow.keras.optimizers import Adam\n",
        "from tensorflow.keras.models import Model, load_model\n",
        "from tensorflow.keras.initializers import RandomNormal\n",
        "from tensorflow.keras.layers import Conv2D, UpSampling2D, LeakyReLU, Activation\n",
        "from tensorflow.keras.layers import Concatenate, Dropout, BatchNormalization, LeakyReLU\n"
      ]
    },
    {
      "cell_type": "markdown",
      "metadata": {
        "id": "2Q3jonX09oW6"
      },
      "source": [
        "Defining Discriminator  basit bir sınıflandırıcıdır. Gerçek verileri generator tarafından oluşturulan verilerden ayırt etmeye çalışır.\n",
        "\n",
        "discriminator, hem gerçek verileri hem de generatorden alınan sahte verileri sınıflandırır."
      ]
    },
    {
      "cell_type": "code",
      "execution_count": null,
      "metadata": {
        "id": "EPuNH5xy0n0j"
      },
      "outputs": [],
      "source": [
        "def define_discriminator(image_shape):\n",
        "\tinit = RandomNormal(stddev=0.02)\n",
        "\n",
        "\tin_src_image = Input(shape=image_shape)\n",
        "\tin_target_image = Input(shape=image_shape)\n",
        "\n",
        "\tmerged = Concatenate()([in_src_image, in_target_image])\n",
        "\n",
        "\td = Conv2D(64, (4,4), strides=(2,2), padding='same', kernel_initializer=init)(merged)\n",
        "\td = LeakyReLU(alpha=0.2)(d)\n",
        "\n",
        "\td = Conv2D(128, (4,4), strides=(2,2), padding='same', kernel_initializer=init)(d)\n",
        "\td = BatchNormalization()(d)\n",
        "\td = LeakyReLU(alpha=0.2)(d)\n",
        "\n",
        "\td = Conv2D(256, (4,4), strides=(2,2), padding='same', kernel_initializer=init)(d)\n",
        "\td = BatchNormalization()(d)\n",
        "\td = LeakyReLU(alpha=0.2)(d)\n",
        "\n",
        "\td = Conv2D(512, (4,4), strides=(2,2), padding='same', kernel_initializer=init)(d)\n",
        "\td = BatchNormalization()(d)\n",
        "\td = LeakyReLU(alpha=0.2)(d)\n",
        "\n",
        "\td = Conv2D(512, (4,4), padding='same', kernel_initializer=init)(d)\n",
        "\td = BatchNormalization()(d)\n",
        "\td = LeakyReLU(alpha=0.2)(d)\n",
        "\n",
        "\td = Conv2D(1, (4,4), padding='same', kernel_initializer=init)(d)\n",
        "\tpatch_out = Activation('sigmoid')(d)\n",
        "\n",
        "\tmodel = Model([in_src_image, in_target_image], patch_out)\n",
        "\n",
        "\topt = Adam(lr=0.0002, beta_1=0.5)\n",
        "\tmodel.compile(loss='binary_crossentropy', optimizer=opt, loss_weights=[0.5])\n",
        "\treturn model"
      ]
    },
    {
      "cell_type": "markdown",
      "source": [
        "Generator bölümü  gerçeğe benzeyen yeni veriler (resimler, sesler, modeller vb.) üretir\n",
        "\n",
        "Bu iki sinir ağı birbiriyle çekişirken Ayırt Edici ağ giderek gerçek ve sahte resimleri daha iyi ayırt etmeye başlar. Üretici ağ ise daha gerçekçi sahte resimler üretir."
      ],
      "metadata": {
        "id": "AAOIueKfofv6"
      }
    },
    {
      "cell_type": "code",
      "execution_count": null,
      "metadata": {
        "id": "uRcb0phm0rOu"
      },
      "outputs": [],
      "source": [
        "def define_generator(image_shape = (256, 256, 3)):\n",
        "    init = RandomNormal(stddev=0.02)\n",
        "    in_image = Input(shape=image_shape)\n",
        "\n",
        "    g = Conv2D(64, (7,7), padding='same', kernel_initializer=init)(in_image)\n",
        "    g = BatchNormalization()(g, training=True)\n",
        "    g3 = LeakyReLU(alpha=0.2)(g)\n",
        "\n",
        "    g = Conv2D(128, (3,3), strides=(2,2), padding='same', kernel_initializer=init)(g3)\n",
        "    g = BatchNormalization()(g, training=True)\n",
        "    g2 = LeakyReLU(alpha=0.2)(g)\n",
        "\n",
        "    g = Conv2D(256, (3,3), strides=(2,2), padding='same', kernel_initializer=init)(g2)\n",
        "    g = BatchNormalization()(g, training=True)\n",
        "    g1 = LeakyReLU(alpha=0.2)(g)\n",
        "\n",
        "    for _ in range(6):\n",
        "        g = Conv2D(256, (3,3), padding='same', kernel_initializer=init)(g1)\n",
        "        g = BatchNormalization()(g, training=True)\n",
        "        g = LeakyReLU(alpha=0.2)(g)\n",
        "\n",
        "        g = Conv2D(256, (3,3), padding='same', kernel_initializer=init)(g)\n",
        "        g = BatchNormalization()(g, training=True)\n",
        "\n",
        "        g1 = Concatenate()([g, g1])\n",
        "\n",
        "    g = UpSampling2D((2, 2))(g1)\n",
        "    g = Conv2D(128, (1, 1), kernel_initializer=init)(g)\n",
        "    g = Dropout(0.5)(g, training=True)\n",
        "    g = Concatenate()([g, g2])\n",
        "    g = BatchNormalization()(g, training=True)\n",
        "    g = LeakyReLU(alpha=0.2)(g)\n",
        "\n",
        "    g = UpSampling2D((2, 2))(g)\n",
        "    g = Conv2D(64, (1, 1), kernel_initializer=init)(g)\n",
        "    g = Dropout(0.5)(g, training=True)\n",
        "    g = Concatenate()([g, g3])\n",
        "    g = BatchNormalization()(g, training=True)\n",
        "    g = LeakyReLU(alpha=0.2)(g)\n",
        "\n",
        "    g = Conv2D(3, (7,7), padding='same', kernel_initializer=init)(g)\n",
        "    g = BatchNormalization()(g, training=True)\n",
        "    out_image = Activation('tanh')(g)\n",
        "\n",
        "    model = Model(in_image, out_image)\n",
        "    return model"
      ]
    },
    {
      "cell_type": "markdown",
      "metadata": {
        "id": "4s32Fzpx-QYs"
      },
      "source": [
        "GAN EĞİTİMİ BAŞLIYOR"
      ]
    },
    {
      "cell_type": "code",
      "execution_count": null,
      "metadata": {
        "id": "Y2pJmy2V0txE"
      },
      "outputs": [],
      "source": [
        "def define_gan(g_model, d_model, image_shape):\n",
        "\t# make weights in the discriminator not trainable\n",
        "\tfor layer in d_model.layers:\n",
        "\t\tif not isinstance(layer, BatchNormalization):\n",
        "\t\t\tlayer.trainable = False\n",
        "\t# define the source image\n",
        "\tin_src = Input(shape=image_shape)\n",
        "\t# connect the source image to the generator input\n",
        "\tgen_out = g_model(in_src)\n",
        "\t# connect the source input and generator output to the discriminator input\n",
        "\tdis_out = d_model([in_src, gen_out])\n",
        "\t# src image as input, generated image and classification output\n",
        "\tmodel = Model(in_src, [dis_out, gen_out])\n",
        "\t# compile model\n",
        "\topt = Adam(lr=0.0002, beta_1=0.5)\n",
        "\tmodel.compile(loss=['binary_crossentropy', 'mae'], optimizer=opt, loss_weights=[1,100])\n",
        "\treturn model"
      ]
    },
    {
      "cell_type": "markdown",
      "metadata": {
        "id": "bdRdMA93-TSE"
      },
      "source": [
        "Gerçek Örnekleri Yükleme"
      ]
    },
    {
      "cell_type": "code",
      "execution_count": null,
      "metadata": {
        "id": "Spo233Xv0v4y"
      },
      "outputs": [],
      "source": [
        "def load_real_samples(filename):\n",
        "\t# load compressed arrays\n",
        "\tdata = load(filename)\n",
        "\t# unpack arrays\n",
        "\tX1, X2 = data['arr_0'], data['arr_1']\n",
        "\t# scale from [0,255] to [-1,1]\n",
        "\tX1 = (X1 - 127.5) / 127.5\n",
        "\tX2 = (X2 - 127.5) / 127.5\n",
        "\treturn [X2, X1]"
      ]
    },
    {
      "cell_type": "markdown",
      "metadata": {
        "id": "1EncAzGx-Uum"
      },
      "source": [
        "Gerçek Sahte Örnekler Oluşturma"
      ]
    },
    {
      "cell_type": "code",
      "execution_count": null,
      "metadata": {
        "id": "De1qtAqs0zgt"
      },
      "outputs": [],
      "source": [
        "def generate_real_samples(dataset, n_samples, patch_shape):\n",
        "\t# unpack dataset\n",
        "\ttrainA, trainB = dataset\n",
        "\t# choose random instances\n",
        "\tix = randint(0, trainA.shape[0], n_samples)\n",
        "\t# retrieve selected images\n",
        "\tX1, X2 = trainA[ix], trainB[ix]\n",
        "\t# generate 'real' class labels (1)\n",
        "\ty = ones((n_samples, patch_shape, patch_shape, 1))\n",
        "\treturn [X1, X2], y\n"
      ]
    },
    {
      "cell_type": "markdown",
      "metadata": {
        "id": "x75KAErO-X98"
      },
      "source": [
        "Sahte Örnekler Oluşturma"
      ]
    },
    {
      "cell_type": "code",
      "execution_count": null,
      "metadata": {
        "id": "1ZfxetOI01fI"
      },
      "outputs": [],
      "source": [
        "\n",
        "def generate_fake_samples(g_model, samples, patch_shape):\n",
        "\t# generate fake instance\n",
        "\tX = g_model.predict(samples)\n",
        "\t# create 'fake' class labels (0)\n",
        "\ty = zeros((len(X), patch_shape, patch_shape, 1))\n",
        "\treturn X, y"
      ]
    },
    {
      "cell_type": "markdown",
      "metadata": {
        "id": "yVvyXLkX-bBy"
      },
      "source": [
        "Eğitim modelini özetleme ve modeli kaydetme\n"
      ]
    },
    {
      "cell_type": "code",
      "execution_count": null,
      "metadata": {
        "id": "5hVr5B_M03zI"
      },
      "outputs": [],
      "source": [
        "def summarize_performance(step, g_model, d_model, dataset, n_samples=3):\n",
        "    # select a sample of input images\n",
        "    [X_realA, X_realB], _ = generate_real_samples(dataset, n_samples, 1)\n",
        "    # generate a batch of fake samples\n",
        "    X_fakeB, _ = generate_fake_samples(g_model, X_realA, 1)\n",
        "    # scale all pixels from [-1,1] to [0,1]\n",
        "    X_realA = (X_realA + 1) / 2.0\n",
        "    X_realB = (X_realB + 1) / 2.0\n",
        "    X_fakeB = (X_fakeB + 1) / 2.0\n",
        "    # plot real source images\n",
        "    plt.figure(figsize=(14, 14))\n",
        "    for i in range(n_samples):\n",
        "        plt.subplot(3, n_samples, 1 + i)\n",
        "        plt.axis('off')\n",
        "        plt.title('Low-Light')\n",
        "        plt.imshow(X_realA[i])\n",
        "    # plot generated target image\n",
        "    for i in range(n_samples):\n",
        "        plt.subplot(3, n_samples, 1 + n_samples + i)\n",
        "        plt.axis('off')\n",
        "        plt.title('Generated')\n",
        "        plt.imshow(X_fakeB[i])\n",
        "    # plot real target image\n",
        "    for i in range(n_samples):\n",
        "        plt.subplot(3, n_samples, 1 + n_samples*2 + i)\n",
        "        plt.axis('off')\n",
        "        plt.title('Ground Truth')\n",
        "        plt.imshow(X_realB[i])\n",
        "    # save plot to file\n",
        "    filename1 = step_output + 'plot_%06d.png' % (step+1)\n",
        "    plt.savefig(filename1)\n",
        "    plt.close()\n",
        "    # save the generator model\n",
        "    filename2 = model_output + 'gen_model_%06d.h5' % (step+1)\n",
        "    g_model.save(filename2)\n",
        "    # save the discriminator model\n",
        "    filename3 = model_output + 'disc_model_%06d.h5' % (step+1)\n",
        "    d_model.save(filename3)\n",
        "    print('[.] Saved Step : %s' % (filename1))\n",
        "    print('[.] Saved Model: %s' % (filename2))\n",
        "    print('[.] Saved Model: %s' % (filename3))"
      ]
    },
    {
      "cell_type": "markdown",
      "source": [
        "EĞİTİM\n"
      ],
      "metadata": {
        "id": "AVSNCKOEpo_Z"
      }
    },
    {
      "cell_type": "code",
      "execution_count": null,
      "metadata": {
        "id": "WfC5kd7y04cz"
      },
      "outputs": [],
      "source": [
        "def train(d_model, g_model, gan_model, dataset, n_epochs=100, n_batch=12):\n",
        "    # determine the output square shape of the discriminator\n",
        "    n_patch = d_model.output_shape[1]\n",
        "    # unpack dataset\n",
        "    trainA, trainB = dataset\n",
        "    # calculate the number of batches per training epoch\n",
        "    bat_per_epo = 1\n",
        "    # calculate the number of training iterations\n",
        "    n_steps = bat_per_epo * n_epochs\n",
        "    print(\"[!] Number of steps {}\".format(n_steps))\n",
        "    print(\"[!] Saves model/step output at every {}\".format(bat_per_epo * 1))\n",
        "    # manually enumerate epochs\n",
        "    for i in range(n_steps):\n",
        "        start = time.time()\n",
        "        # select a batch of real samples\n",
        "        [X_realA, X_realB], y_real = generate_real_samples(dataset, n_batch, n_patch)\n",
        "        # generate a batch of fake samples\n",
        "        X_fakeB, y_fake = generate_fake_samples(g_model, X_realA, n_patch)\n",
        "        # update discriminator for real samples\n",
        "        d_loss1 = d_model.train_on_batch([X_realA, X_realB], y_real)\n",
        "        # update discriminator for generated samples\n",
        "        d_loss2 = d_model.train_on_batch([X_realA, X_fakeB], y_fake)\n",
        "        # update the generator\n",
        "        g_loss, _, _ = gan_model.train_on_batch(X_realA, [y_real, X_realB])\n",
        "        # summarize performance\n",
        "        time_taken = time.time() - start\n",
        "        print(\n",
        "            '[*] %06d, d1[%.3f] d2[%.3f] g[%06.3f] ---> time[%.2f], time_left[%.08s]'\n",
        "                %\n",
        "            (i+1, d_loss1, d_loss2, g_loss, time_taken, str(datetime.timedelta(seconds=((time_taken) * (n_steps - (i + 1))))).split('.')[0].zfill(8))\n",
        "        )\n",
        "        # summarize model performance\n",
        "        if (i+1) % (bat_per_epo * 1) == 0:\n",
        "            summarize_performance(i, g_model, d_model, dataset)"
      ]
    },
    {
      "cell_type": "markdown",
      "metadata": {
        "id": "6q2eIHZl-iuu"
      },
      "source": [
        "Main Function\n",
        "\n",
        "Loading Dataset"
      ]
    },
    {
      "cell_type": "code",
      "execution_count": null,
      "metadata": {
        "colab": {
          "base_uri": "https://localhost:8080/"
        },
        "id": "4jFOVWAF07H5",
        "outputId": "5bf97fee-87c0-4bec-845a-d1439b7dc6be"
      },
      "outputs": [
        {
          "output_type": "stream",
          "name": "stdout",
          "text": [
            "Loaded (485, 256, 256, 3) (485, 256, 256, 3)\n"
          ]
        }
      ],
      "source": [
        "\n",
        "dataset = load_real_samples('/content/dataset1.npz')\n",
        "print('Loaded', dataset[0].shape, dataset[1].shape)\n",
        "image_shape = dataset[0].shape[1:]"
      ]
    },
    {
      "cell_type": "code",
      "source": [
        "tanımlayıcı modeller"
      ],
      "metadata": {
        "id": "cjbnl6A4p8jO"
      },
      "execution_count": null,
      "outputs": []
    },
    {
      "cell_type": "markdown",
      "metadata": {
        "id": "sRtVTqJe-ph0"
      },
      "source": [
        "Defining Models"
      ]
    },
    {
      "cell_type": "code",
      "execution_count": null,
      "metadata": {
        "colab": {
          "base_uri": "https://localhost:8080/"
        },
        "id": "BnVfs4e00896",
        "outputId": "a7705985-5f11-4a09-f44f-d6e498eb4351"
      },
      "outputs": [
        {
          "output_type": "stream",
          "name": "stderr",
          "text": [
            "/usr/local/lib/python3.10/dist-packages/keras/initializers/initializers.py:120: UserWarning: The initializer RandomNormal is unseeded and being called multiple times, which will return identical values each time (even if the initializer is unseeded). Please update your code to provide a seed to the initializer, or avoid using the same initalizer instance more than once.\n",
            "  warnings.warn(\n",
            "WARNING:absl:`lr` is deprecated in Keras optimizer, please use `learning_rate` or use the legacy optimizer, e.g.,tf.keras.optimizers.legacy.Adam.\n",
            "WARNING:absl:`lr` is deprecated in Keras optimizer, please use `learning_rate` or use the legacy optimizer, e.g.,tf.keras.optimizers.legacy.Adam.\n"
          ]
        }
      ],
      "source": [
        "d_model = define_discriminator(image_shape)\n",
        "g_model = define_generator(image_shape)\n",
        "gan_model = define_gan(g_model, d_model, image_shape)"
      ]
    },
    {
      "cell_type": "markdown",
      "metadata": {
        "id": "e7Dp1Mny-rqn"
      },
      "source": [
        "Model Dizini Oluşturma ve train İşlevini Çağırma"
      ]
    },
    {
      "cell_type": "code",
      "execution_count": null,
      "metadata": {
        "colab": {
          "base_uri": "https://localhost:8080/"
        },
        "id": "8ebr2Sia0-pD",
        "outputId": "0644f421-d4bd-458c-8f17-339be4133274"
      },
      "outputs": [
        {
          "output_type": "stream",
          "name": "stdout",
          "text": [
            "Directory '/content/' does not exist.\n",
            "[!] Number of steps 100\n",
            "[!] Saves model/step output at every 1\n",
            "1/1 [==============================] - 17s 17s/step\n",
            "[*] 000001, d1[0.468] d2[2.138] g[57.706] ---> time[61.31], time_left[01:41:09]\n",
            "1/1 [==============================] - 3s 3s/step\n"
          ]
        },
        {
          "output_type": "stream",
          "name": "stderr",
          "text": [
            "WARNING:tensorflow:Compiled the loaded model, but the compiled metrics have yet to be built. `model.compile_metrics` will be empty until you train or evaluate the model.\n"
          ]
        },
        {
          "output_type": "stream",
          "name": "stdout",
          "text": [
            "[.] Saved Step : /content/Enhancement Model/Step Output/plot_000001.png\n",
            "[.] Saved Model: /content/Enhancement Model/Model Output/gen_model_000001.h5\n",
            "[.] Saved Model: /content/Enhancement Model/Model Output/disc_model_000001.h5\n",
            "1/1 [==============================] - 0s 32ms/step\n",
            "[*] 000002, d1[2.404] d2[2.514] g[43.200] ---> time[2.17], time_left[00:03:32]\n",
            "1/1 [==============================] - 0s 34ms/step\n"
          ]
        },
        {
          "output_type": "stream",
          "name": "stderr",
          "text": [
            "WARNING:tensorflow:Compiled the loaded model, but the compiled metrics have yet to be built. `model.compile_metrics` will be empty until you train or evaluate the model.\n"
          ]
        },
        {
          "output_type": "stream",
          "name": "stdout",
          "text": [
            "[.] Saved Step : /content/Enhancement Model/Step Output/plot_000002.png\n",
            "[.] Saved Model: /content/Enhancement Model/Model Output/gen_model_000002.h5\n",
            "[.] Saved Model: /content/Enhancement Model/Model Output/disc_model_000002.h5\n",
            "1/1 [==============================] - 0s 51ms/step\n",
            "[*] 000003, d1[0.390] d2[0.785] g[34.836] ---> time[1.95], time_left[00:03:09]\n",
            "1/1 [==============================] - 0s 22ms/step\n"
          ]
        },
        {
          "output_type": "stream",
          "name": "stderr",
          "text": [
            "WARNING:tensorflow:Compiled the loaded model, but the compiled metrics have yet to be built. `model.compile_metrics` will be empty until you train or evaluate the model.\n"
          ]
        },
        {
          "output_type": "stream",
          "name": "stdout",
          "text": [
            "[.] Saved Step : /content/Enhancement Model/Step Output/plot_000003.png\n",
            "[.] Saved Model: /content/Enhancement Model/Model Output/gen_model_000003.h5\n",
            "[.] Saved Model: /content/Enhancement Model/Model Output/disc_model_000003.h5\n",
            "1/1 [==============================] - 0s 31ms/step\n",
            "[*] 000004, d1[0.382] d2[0.452] g[31.376] ---> time[1.93], time_left[00:03:05]\n",
            "1/1 [==============================] - 0s 22ms/step\n"
          ]
        },
        {
          "output_type": "stream",
          "name": "stderr",
          "text": [
            "WARNING:tensorflow:Compiled the loaded model, but the compiled metrics have yet to be built. `model.compile_metrics` will be empty until you train or evaluate the model.\n"
          ]
        },
        {
          "output_type": "stream",
          "name": "stdout",
          "text": [
            "[.] Saved Step : /content/Enhancement Model/Step Output/plot_000004.png\n",
            "[.] Saved Model: /content/Enhancement Model/Model Output/gen_model_000004.h5\n",
            "[.] Saved Model: /content/Enhancement Model/Model Output/disc_model_000004.h5\n",
            "1/1 [==============================] - 0s 31ms/step\n",
            "[*] 000005, d1[0.474] d2[0.418] g[35.578] ---> time[1.85], time_left[00:02:55]\n",
            "1/1 [==============================] - 0s 23ms/step\n"
          ]
        },
        {
          "output_type": "stream",
          "name": "stderr",
          "text": [
            "WARNING:tensorflow:Compiled the loaded model, but the compiled metrics have yet to be built. `model.compile_metrics` will be empty until you train or evaluate the model.\n"
          ]
        },
        {
          "output_type": "stream",
          "name": "stdout",
          "text": [
            "[.] Saved Step : /content/Enhancement Model/Step Output/plot_000005.png\n",
            "[.] Saved Model: /content/Enhancement Model/Model Output/gen_model_000005.h5\n",
            "[.] Saved Model: /content/Enhancement Model/Model Output/disc_model_000005.h5\n",
            "1/1 [==============================] - 0s 44ms/step\n",
            "[*] 000006, d1[0.424] d2[0.475] g[31.549] ---> time[2.10], time_left[00:03:17]\n",
            "1/1 [==============================] - 0s 38ms/step\n"
          ]
        },
        {
          "output_type": "stream",
          "name": "stderr",
          "text": [
            "WARNING:tensorflow:Compiled the loaded model, but the compiled metrics have yet to be built. `model.compile_metrics` will be empty until you train or evaluate the model.\n"
          ]
        },
        {
          "output_type": "stream",
          "name": "stdout",
          "text": [
            "[.] Saved Step : /content/Enhancement Model/Step Output/plot_000006.png\n",
            "[.] Saved Model: /content/Enhancement Model/Model Output/gen_model_000006.h5\n",
            "[.] Saved Model: /content/Enhancement Model/Model Output/disc_model_000006.h5\n",
            "1/1 [==============================] - 0s 36ms/step\n",
            "[*] 000007, d1[0.445] d2[0.430] g[42.119] ---> time[1.94], time_left[00:03:00]\n",
            "1/1 [==============================] - 0s 21ms/step\n"
          ]
        },
        {
          "output_type": "stream",
          "name": "stderr",
          "text": [
            "WARNING:tensorflow:Compiled the loaded model, but the compiled metrics have yet to be built. `model.compile_metrics` will be empty until you train or evaluate the model.\n"
          ]
        },
        {
          "output_type": "stream",
          "name": "stdout",
          "text": [
            "[.] Saved Step : /content/Enhancement Model/Step Output/plot_000007.png\n",
            "[.] Saved Model: /content/Enhancement Model/Model Output/gen_model_000007.h5\n",
            "[.] Saved Model: /content/Enhancement Model/Model Output/disc_model_000007.h5\n",
            "1/1 [==============================] - 0s 35ms/step\n",
            "[*] 000008, d1[0.450] d2[0.404] g[36.275] ---> time[1.86], time_left[00:02:51]\n",
            "1/1 [==============================] - 0s 23ms/step\n"
          ]
        },
        {
          "output_type": "stream",
          "name": "stderr",
          "text": [
            "WARNING:tensorflow:Compiled the loaded model, but the compiled metrics have yet to be built. `model.compile_metrics` will be empty until you train or evaluate the model.\n"
          ]
        },
        {
          "output_type": "stream",
          "name": "stdout",
          "text": [
            "[.] Saved Step : /content/Enhancement Model/Step Output/plot_000008.png\n",
            "[.] Saved Model: /content/Enhancement Model/Model Output/gen_model_000008.h5\n",
            "[.] Saved Model: /content/Enhancement Model/Model Output/disc_model_000008.h5\n",
            "1/1 [==============================] - 0s 29ms/step\n",
            "[*] 000009, d1[0.417] d2[0.430] g[22.395] ---> time[1.93], time_left[00:02:55]\n",
            "1/1 [==============================] - 0s 31ms/step\n"
          ]
        },
        {
          "output_type": "stream",
          "name": "stderr",
          "text": [
            "WARNING:tensorflow:Compiled the loaded model, but the compiled metrics have yet to be built. `model.compile_metrics` will be empty until you train or evaluate the model.\n"
          ]
        },
        {
          "output_type": "stream",
          "name": "stdout",
          "text": [
            "[.] Saved Step : /content/Enhancement Model/Step Output/plot_000009.png\n",
            "[.] Saved Model: /content/Enhancement Model/Model Output/gen_model_000009.h5\n",
            "[.] Saved Model: /content/Enhancement Model/Model Output/disc_model_000009.h5\n",
            "1/1 [==============================] - 0s 44ms/step\n",
            "[*] 000010, d1[0.399] d2[0.453] g[36.571] ---> time[2.29], time_left[00:03:25]\n",
            "1/1 [==============================] - 0s 21ms/step\n"
          ]
        },
        {
          "output_type": "stream",
          "name": "stderr",
          "text": [
            "WARNING:tensorflow:Compiled the loaded model, but the compiled metrics have yet to be built. `model.compile_metrics` will be empty until you train or evaluate the model.\n"
          ]
        },
        {
          "output_type": "stream",
          "name": "stdout",
          "text": [
            "[.] Saved Step : /content/Enhancement Model/Step Output/plot_000010.png\n",
            "[.] Saved Model: /content/Enhancement Model/Model Output/gen_model_000010.h5\n",
            "[.] Saved Model: /content/Enhancement Model/Model Output/disc_model_000010.h5\n",
            "1/1 [==============================] - 0s 32ms/step\n",
            "[*] 000011, d1[0.419] d2[0.370] g[35.785] ---> time[1.94], time_left[00:02:52]\n",
            "1/1 [==============================] - 0s 22ms/step\n"
          ]
        },
        {
          "output_type": "stream",
          "name": "stderr",
          "text": [
            "WARNING:tensorflow:Compiled the loaded model, but the compiled metrics have yet to be built. `model.compile_metrics` will be empty until you train or evaluate the model.\n"
          ]
        },
        {
          "output_type": "stream",
          "name": "stdout",
          "text": [
            "[.] Saved Step : /content/Enhancement Model/Step Output/plot_000011.png\n",
            "[.] Saved Model: /content/Enhancement Model/Model Output/gen_model_000011.h5\n",
            "[.] Saved Model: /content/Enhancement Model/Model Output/disc_model_000011.h5\n",
            "1/1 [==============================] - 0s 29ms/step\n",
            "[*] 000012, d1[0.403] d2[0.399] g[32.167] ---> time[2.08], time_left[00:03:03]\n",
            "1/1 [==============================] - 0s 23ms/step\n"
          ]
        },
        {
          "output_type": "stream",
          "name": "stderr",
          "text": [
            "WARNING:tensorflow:Compiled the loaded model, but the compiled metrics have yet to be built. `model.compile_metrics` will be empty until you train or evaluate the model.\n"
          ]
        },
        {
          "output_type": "stream",
          "name": "stdout",
          "text": [
            "[.] Saved Step : /content/Enhancement Model/Step Output/plot_000012.png\n",
            "[.] Saved Model: /content/Enhancement Model/Model Output/gen_model_000012.h5\n",
            "[.] Saved Model: /content/Enhancement Model/Model Output/disc_model_000012.h5\n",
            "1/1 [==============================] - 0s 46ms/step\n",
            "[*] 000013, d1[0.376] d2[0.480] g[26.627] ---> time[2.06], time_left[00:02:59]\n",
            "1/1 [==============================] - 0s 35ms/step\n"
          ]
        },
        {
          "output_type": "stream",
          "name": "stderr",
          "text": [
            "WARNING:tensorflow:Compiled the loaded model, but the compiled metrics have yet to be built. `model.compile_metrics` will be empty until you train or evaluate the model.\n"
          ]
        },
        {
          "output_type": "stream",
          "name": "stdout",
          "text": [
            "[.] Saved Step : /content/Enhancement Model/Step Output/plot_000013.png\n",
            "[.] Saved Model: /content/Enhancement Model/Model Output/gen_model_000013.h5\n",
            "[.] Saved Model: /content/Enhancement Model/Model Output/disc_model_000013.h5\n",
            "1/1 [==============================] - 0s 30ms/step\n",
            "[*] 000014, d1[0.390] d2[0.514] g[24.766] ---> time[1.88], time_left[00:02:42]\n",
            "1/1 [==============================] - 0s 21ms/step\n"
          ]
        },
        {
          "output_type": "stream",
          "name": "stderr",
          "text": [
            "WARNING:tensorflow:Compiled the loaded model, but the compiled metrics have yet to be built. `model.compile_metrics` will be empty until you train or evaluate the model.\n"
          ]
        },
        {
          "output_type": "stream",
          "name": "stdout",
          "text": [
            "[.] Saved Step : /content/Enhancement Model/Step Output/plot_000014.png\n",
            "[.] Saved Model: /content/Enhancement Model/Model Output/gen_model_000014.h5\n",
            "[.] Saved Model: /content/Enhancement Model/Model Output/disc_model_000014.h5\n",
            "1/1 [==============================] - 0s 26ms/step\n",
            "[*] 000015, d1[0.471] d2[0.325] g[39.352] ---> time[1.89], time_left[00:02:40]\n",
            "1/1 [==============================] - 0s 25ms/step\n"
          ]
        },
        {
          "output_type": "stream",
          "name": "stderr",
          "text": [
            "WARNING:tensorflow:Compiled the loaded model, but the compiled metrics have yet to be built. `model.compile_metrics` will be empty until you train or evaluate the model.\n"
          ]
        },
        {
          "output_type": "stream",
          "name": "stdout",
          "text": [
            "[.] Saved Step : /content/Enhancement Model/Step Output/plot_000015.png\n",
            "[.] Saved Model: /content/Enhancement Model/Model Output/gen_model_000015.h5\n",
            "[.] Saved Model: /content/Enhancement Model/Model Output/disc_model_000015.h5\n",
            "1/1 [==============================] - 0s 31ms/step\n",
            "[*] 000016, d1[0.389] d2[0.411] g[29.493] ---> time[1.96], time_left[00:02:45]\n",
            "1/1 [==============================] - 0s 34ms/step\n"
          ]
        },
        {
          "output_type": "stream",
          "name": "stderr",
          "text": [
            "WARNING:tensorflow:Compiled the loaded model, but the compiled metrics have yet to be built. `model.compile_metrics` will be empty until you train or evaluate the model.\n"
          ]
        },
        {
          "output_type": "stream",
          "name": "stdout",
          "text": [
            "[.] Saved Step : /content/Enhancement Model/Step Output/plot_000016.png\n",
            "[.] Saved Model: /content/Enhancement Model/Model Output/gen_model_000016.h5\n",
            "[.] Saved Model: /content/Enhancement Model/Model Output/disc_model_000016.h5\n",
            "1/1 [==============================] - 0s 48ms/step\n",
            "[*] 000017, d1[0.310] d2[0.469] g[33.568] ---> time[2.02], time_left[00:02:47]\n",
            "1/1 [==============================] - 0s 24ms/step\n"
          ]
        },
        {
          "output_type": "stream",
          "name": "stderr",
          "text": [
            "WARNING:tensorflow:Compiled the loaded model, but the compiled metrics have yet to be built. `model.compile_metrics` will be empty until you train or evaluate the model.\n"
          ]
        },
        {
          "output_type": "stream",
          "name": "stdout",
          "text": [
            "[.] Saved Step : /content/Enhancement Model/Step Output/plot_000017.png\n",
            "[.] Saved Model: /content/Enhancement Model/Model Output/gen_model_000017.h5\n",
            "[.] Saved Model: /content/Enhancement Model/Model Output/disc_model_000017.h5\n",
            "1/1 [==============================] - 0s 26ms/step\n",
            "[*] 000018, d1[0.361] d2[0.542] g[26.613] ---> time[1.91], time_left[00:02:36]\n",
            "1/1 [==============================] - 0s 21ms/step\n"
          ]
        },
        {
          "output_type": "stream",
          "name": "stderr",
          "text": [
            "WARNING:tensorflow:Compiled the loaded model, but the compiled metrics have yet to be built. `model.compile_metrics` will be empty until you train or evaluate the model.\n"
          ]
        },
        {
          "output_type": "stream",
          "name": "stdout",
          "text": [
            "[.] Saved Step : /content/Enhancement Model/Step Output/plot_000018.png\n",
            "[.] Saved Model: /content/Enhancement Model/Model Output/gen_model_000018.h5\n",
            "[.] Saved Model: /content/Enhancement Model/Model Output/disc_model_000018.h5\n",
            "1/1 [==============================] - 0s 30ms/step\n",
            "[*] 000019, d1[0.381] d2[0.551] g[30.458] ---> time[1.90], time_left[00:02:34]\n",
            "1/1 [==============================] - 0s 21ms/step\n"
          ]
        },
        {
          "output_type": "stream",
          "name": "stderr",
          "text": [
            "WARNING:tensorflow:Compiled the loaded model, but the compiled metrics have yet to be built. `model.compile_metrics` will be empty until you train or evaluate the model.\n"
          ]
        },
        {
          "output_type": "stream",
          "name": "stdout",
          "text": [
            "[.] Saved Step : /content/Enhancement Model/Step Output/plot_000019.png\n",
            "[.] Saved Model: /content/Enhancement Model/Model Output/gen_model_000019.h5\n",
            "[.] Saved Model: /content/Enhancement Model/Model Output/disc_model_000019.h5\n",
            "1/1 [==============================] - 0s 42ms/step\n",
            "[*] 000020, d1[0.469] d2[0.376] g[28.166] ---> time[2.36], time_left[00:03:08]\n",
            "1/1 [==============================] - 0s 34ms/step\n"
          ]
        },
        {
          "output_type": "stream",
          "name": "stderr",
          "text": [
            "WARNING:tensorflow:Compiled the loaded model, but the compiled metrics have yet to be built. `model.compile_metrics` will be empty until you train or evaluate the model.\n"
          ]
        },
        {
          "output_type": "stream",
          "name": "stdout",
          "text": [
            "[.] Saved Step : /content/Enhancement Model/Step Output/plot_000020.png\n",
            "[.] Saved Model: /content/Enhancement Model/Model Output/gen_model_000020.h5\n",
            "[.] Saved Model: /content/Enhancement Model/Model Output/disc_model_000020.h5\n",
            "1/1 [==============================] - 0s 34ms/step\n",
            "[*] 000021, d1[0.455] d2[0.412] g[32.198] ---> time[2.14], time_left[00:02:48]\n",
            "1/1 [==============================] - 0s 21ms/step\n"
          ]
        },
        {
          "output_type": "stream",
          "name": "stderr",
          "text": [
            "WARNING:tensorflow:Compiled the loaded model, but the compiled metrics have yet to be built. `model.compile_metrics` will be empty until you train or evaluate the model.\n"
          ]
        },
        {
          "output_type": "stream",
          "name": "stdout",
          "text": [
            "[.] Saved Step : /content/Enhancement Model/Step Output/plot_000021.png\n",
            "[.] Saved Model: /content/Enhancement Model/Model Output/gen_model_000021.h5\n",
            "[.] Saved Model: /content/Enhancement Model/Model Output/disc_model_000021.h5\n",
            "1/1 [==============================] - 0s 30ms/step\n",
            "[*] 000022, d1[0.365] d2[0.454] g[29.898] ---> time[2.00], time_left[00:02:35]\n",
            "1/1 [==============================] - 0s 24ms/step\n"
          ]
        },
        {
          "output_type": "stream",
          "name": "stderr",
          "text": [
            "WARNING:tensorflow:Compiled the loaded model, but the compiled metrics have yet to be built. `model.compile_metrics` will be empty until you train or evaluate the model.\n"
          ]
        },
        {
          "output_type": "stream",
          "name": "stdout",
          "text": [
            "[.] Saved Step : /content/Enhancement Model/Step Output/plot_000022.png\n",
            "[.] Saved Model: /content/Enhancement Model/Model Output/gen_model_000022.h5\n",
            "[.] Saved Model: /content/Enhancement Model/Model Output/disc_model_000022.h5\n",
            "1/1 [==============================] - 0s 27ms/step\n",
            "[*] 000023, d1[0.371] d2[0.439] g[23.985] ---> time[2.21], time_left[00:02:50]\n",
            "1/1 [==============================] - 0s 32ms/step\n"
          ]
        },
        {
          "output_type": "stream",
          "name": "stderr",
          "text": [
            "WARNING:tensorflow:Compiled the loaded model, but the compiled metrics have yet to be built. `model.compile_metrics` will be empty until you train or evaluate the model.\n"
          ]
        },
        {
          "output_type": "stream",
          "name": "stdout",
          "text": [
            "[.] Saved Step : /content/Enhancement Model/Step Output/plot_000023.png\n",
            "[.] Saved Model: /content/Enhancement Model/Model Output/gen_model_000023.h5\n",
            "[.] Saved Model: /content/Enhancement Model/Model Output/disc_model_000023.h5\n",
            "1/1 [==============================] - 0s 47ms/step\n",
            "[*] 000024, d1[0.381] d2[0.474] g[38.147] ---> time[2.03], time_left[00:02:34]\n",
            "1/1 [==============================] - 0s 22ms/step\n"
          ]
        },
        {
          "output_type": "stream",
          "name": "stderr",
          "text": [
            "WARNING:tensorflow:Compiled the loaded model, but the compiled metrics have yet to be built. `model.compile_metrics` will be empty until you train or evaluate the model.\n"
          ]
        },
        {
          "output_type": "stream",
          "name": "stdout",
          "text": [
            "[.] Saved Step : /content/Enhancement Model/Step Output/plot_000024.png\n",
            "[.] Saved Model: /content/Enhancement Model/Model Output/gen_model_000024.h5\n",
            "[.] Saved Model: /content/Enhancement Model/Model Output/disc_model_000024.h5\n",
            "1/1 [==============================] - 0s 28ms/step\n",
            "[*] 000025, d1[0.453] d2[0.406] g[27.325] ---> time[1.94], time_left[00:02:25]\n",
            "1/1 [==============================] - 0s 21ms/step\n"
          ]
        },
        {
          "output_type": "stream",
          "name": "stderr",
          "text": [
            "WARNING:tensorflow:Compiled the loaded model, but the compiled metrics have yet to be built. `model.compile_metrics` will be empty until you train or evaluate the model.\n"
          ]
        },
        {
          "output_type": "stream",
          "name": "stdout",
          "text": [
            "[.] Saved Step : /content/Enhancement Model/Step Output/plot_000025.png\n",
            "[.] Saved Model: /content/Enhancement Model/Model Output/gen_model_000025.h5\n",
            "[.] Saved Model: /content/Enhancement Model/Model Output/disc_model_000025.h5\n",
            "1/1 [==============================] - 0s 30ms/step\n",
            "[*] 000026, d1[0.419] d2[0.358] g[25.945] ---> time[1.93], time_left[00:02:23]\n",
            "1/1 [==============================] - 0s 26ms/step\n"
          ]
        },
        {
          "output_type": "stream",
          "name": "stderr",
          "text": [
            "WARNING:tensorflow:Compiled the loaded model, but the compiled metrics have yet to be built. `model.compile_metrics` will be empty until you train or evaluate the model.\n"
          ]
        },
        {
          "output_type": "stream",
          "name": "stdout",
          "text": [
            "[.] Saved Step : /content/Enhancement Model/Step Output/plot_000026.png\n",
            "[.] Saved Model: /content/Enhancement Model/Model Output/gen_model_000026.h5\n",
            "[.] Saved Model: /content/Enhancement Model/Model Output/disc_model_000026.h5\n",
            "1/1 [==============================] - 0s 59ms/step\n",
            "[*] 000027, d1[0.378] d2[0.481] g[26.420] ---> time[2.20], time_left[00:02:40]\n",
            "1/1 [==============================] - 0s 31ms/step\n"
          ]
        },
        {
          "output_type": "stream",
          "name": "stderr",
          "text": [
            "WARNING:tensorflow:Compiled the loaded model, but the compiled metrics have yet to be built. `model.compile_metrics` will be empty until you train or evaluate the model.\n"
          ]
        },
        {
          "output_type": "stream",
          "name": "stdout",
          "text": [
            "[.] Saved Step : /content/Enhancement Model/Step Output/plot_000027.png\n",
            "[.] Saved Model: /content/Enhancement Model/Model Output/gen_model_000027.h5\n",
            "[.] Saved Model: /content/Enhancement Model/Model Output/disc_model_000027.h5\n",
            "1/1 [==============================] - 0s 39ms/step\n",
            "[*] 000028, d1[0.378] d2[0.446] g[26.754] ---> time[1.96], time_left[00:02:21]\n",
            "1/1 [==============================] - 0s 23ms/step\n"
          ]
        },
        {
          "output_type": "stream",
          "name": "stderr",
          "text": [
            "WARNING:tensorflow:Compiled the loaded model, but the compiled metrics have yet to be built. `model.compile_metrics` will be empty until you train or evaluate the model.\n"
          ]
        },
        {
          "output_type": "stream",
          "name": "stdout",
          "text": [
            "[.] Saved Step : /content/Enhancement Model/Step Output/plot_000028.png\n",
            "[.] Saved Model: /content/Enhancement Model/Model Output/gen_model_000028.h5\n",
            "[.] Saved Model: /content/Enhancement Model/Model Output/disc_model_000028.h5\n",
            "1/1 [==============================] - 0s 29ms/step\n",
            "[*] 000029, d1[0.385] d2[0.420] g[26.244] ---> time[2.15], time_left[00:02:32]\n",
            "1/1 [==============================] - 0s 22ms/step\n"
          ]
        },
        {
          "output_type": "stream",
          "name": "stderr",
          "text": [
            "WARNING:tensorflow:Compiled the loaded model, but the compiled metrics have yet to be built. `model.compile_metrics` will be empty until you train or evaluate the model.\n"
          ]
        },
        {
          "output_type": "stream",
          "name": "stdout",
          "text": [
            "[.] Saved Step : /content/Enhancement Model/Step Output/plot_000029.png\n",
            "[.] Saved Model: /content/Enhancement Model/Model Output/gen_model_000029.h5\n",
            "[.] Saved Model: /content/Enhancement Model/Model Output/disc_model_000029.h5\n",
            "1/1 [==============================] - 0s 28ms/step\n",
            "[*] 000030, d1[0.439] d2[0.366] g[27.135] ---> time[1.96], time_left[00:02:16]\n",
            "1/1 [==============================] - 0s 30ms/step\n"
          ]
        },
        {
          "output_type": "stream",
          "name": "stderr",
          "text": [
            "WARNING:tensorflow:Compiled the loaded model, but the compiled metrics have yet to be built. `model.compile_metrics` will be empty until you train or evaluate the model.\n"
          ]
        },
        {
          "output_type": "stream",
          "name": "stdout",
          "text": [
            "[.] Saved Step : /content/Enhancement Model/Step Output/plot_000030.png\n",
            "[.] Saved Model: /content/Enhancement Model/Model Output/gen_model_000030.h5\n",
            "[.] Saved Model: /content/Enhancement Model/Model Output/disc_model_000030.h5\n",
            "1/1 [==============================] - 0s 44ms/step\n",
            "[*] 000031, d1[0.406] d2[0.414] g[25.342] ---> time[2.16], time_left[00:02:29]\n",
            "1/1 [==============================] - 0s 22ms/step\n"
          ]
        },
        {
          "output_type": "stream",
          "name": "stderr",
          "text": [
            "WARNING:tensorflow:Compiled the loaded model, but the compiled metrics have yet to be built. `model.compile_metrics` will be empty until you train or evaluate the model.\n"
          ]
        },
        {
          "output_type": "stream",
          "name": "stdout",
          "text": [
            "[.] Saved Step : /content/Enhancement Model/Step Output/plot_000031.png\n",
            "[.] Saved Model: /content/Enhancement Model/Model Output/gen_model_000031.h5\n",
            "[.] Saved Model: /content/Enhancement Model/Model Output/disc_model_000031.h5\n",
            "1/1 [==============================] - 0s 28ms/step\n",
            "[*] 000032, d1[0.362] d2[0.391] g[21.420] ---> time[2.15], time_left[00:02:26]\n",
            "1/1 [==============================] - 0s 22ms/step\n"
          ]
        },
        {
          "output_type": "stream",
          "name": "stderr",
          "text": [
            "WARNING:tensorflow:Compiled the loaded model, but the compiled metrics have yet to be built. `model.compile_metrics` will be empty until you train or evaluate the model.\n"
          ]
        },
        {
          "output_type": "stream",
          "name": "stdout",
          "text": [
            "[.] Saved Step : /content/Enhancement Model/Step Output/plot_000032.png\n",
            "[.] Saved Model: /content/Enhancement Model/Model Output/gen_model_000032.h5\n",
            "[.] Saved Model: /content/Enhancement Model/Model Output/disc_model_000032.h5\n",
            "1/1 [==============================] - 0s 29ms/step\n",
            "[*] 000033, d1[0.392] d2[0.473] g[28.214] ---> time[2.13], time_left[00:02:22]\n",
            "1/1 [==============================] - 0s 32ms/step\n"
          ]
        },
        {
          "output_type": "stream",
          "name": "stderr",
          "text": [
            "WARNING:tensorflow:Compiled the loaded model, but the compiled metrics have yet to be built. `model.compile_metrics` will be empty until you train or evaluate the model.\n"
          ]
        },
        {
          "output_type": "stream",
          "name": "stdout",
          "text": [
            "[.] Saved Step : /content/Enhancement Model/Step Output/plot_000033.png\n",
            "[.] Saved Model: /content/Enhancement Model/Model Output/gen_model_000033.h5\n",
            "[.] Saved Model: /content/Enhancement Model/Model Output/disc_model_000033.h5\n",
            "1/1 [==============================] - 0s 38ms/step\n",
            "[*] 000034, d1[0.410] d2[0.444] g[25.953] ---> time[2.20], time_left[00:02:24]\n",
            "1/1 [==============================] - 0s 22ms/step\n"
          ]
        },
        {
          "output_type": "stream",
          "name": "stderr",
          "text": [
            "WARNING:tensorflow:Compiled the loaded model, but the compiled metrics have yet to be built. `model.compile_metrics` will be empty until you train or evaluate the model.\n"
          ]
        },
        {
          "output_type": "stream",
          "name": "stdout",
          "text": [
            "[.] Saved Step : /content/Enhancement Model/Step Output/plot_000034.png\n",
            "[.] Saved Model: /content/Enhancement Model/Model Output/gen_model_000034.h5\n",
            "[.] Saved Model: /content/Enhancement Model/Model Output/disc_model_000034.h5\n",
            "1/1 [==============================] - 0s 30ms/step\n",
            "[*] 000035, d1[0.363] d2[0.445] g[33.168] ---> time[1.99], time_left[00:02:09]\n",
            "1/1 [==============================] - 0s 27ms/step\n"
          ]
        },
        {
          "output_type": "stream",
          "name": "stderr",
          "text": [
            "WARNING:tensorflow:Compiled the loaded model, but the compiled metrics have yet to be built. `model.compile_metrics` will be empty until you train or evaluate the model.\n"
          ]
        },
        {
          "output_type": "stream",
          "name": "stdout",
          "text": [
            "[.] Saved Step : /content/Enhancement Model/Step Output/plot_000035.png\n",
            "[.] Saved Model: /content/Enhancement Model/Model Output/gen_model_000035.h5\n",
            "[.] Saved Model: /content/Enhancement Model/Model Output/disc_model_000035.h5\n",
            "1/1 [==============================] - 0s 29ms/step\n",
            "[*] 000036, d1[0.380] d2[0.421] g[26.469] ---> time[1.92], time_left[00:02:02]\n",
            "1/1 [==============================] - 0s 21ms/step\n"
          ]
        },
        {
          "output_type": "stream",
          "name": "stderr",
          "text": [
            "WARNING:tensorflow:Compiled the loaded model, but the compiled metrics have yet to be built. `model.compile_metrics` will be empty until you train or evaluate the model.\n"
          ]
        },
        {
          "output_type": "stream",
          "name": "stdout",
          "text": [
            "[.] Saved Step : /content/Enhancement Model/Step Output/plot_000036.png\n",
            "[.] Saved Model: /content/Enhancement Model/Model Output/gen_model_000036.h5\n",
            "[.] Saved Model: /content/Enhancement Model/Model Output/disc_model_000036.h5\n",
            "1/1 [==============================] - 0s 46ms/step\n",
            "[*] 000037, d1[0.337] d2[0.496] g[34.981] ---> time[2.22], time_left[00:02:19]\n",
            "1/1 [==============================] - 0s 34ms/step\n"
          ]
        },
        {
          "output_type": "stream",
          "name": "stderr",
          "text": [
            "WARNING:tensorflow:Compiled the loaded model, but the compiled metrics have yet to be built. `model.compile_metrics` will be empty until you train or evaluate the model.\n"
          ]
        },
        {
          "output_type": "stream",
          "name": "stdout",
          "text": [
            "[.] Saved Step : /content/Enhancement Model/Step Output/plot_000037.png\n",
            "[.] Saved Model: /content/Enhancement Model/Model Output/gen_model_000037.h5\n",
            "[.] Saved Model: /content/Enhancement Model/Model Output/disc_model_000037.h5\n",
            "1/1 [==============================] - 0s 29ms/step\n",
            "[*] 000038, d1[0.318] d2[0.522] g[29.410] ---> time[2.09], time_left[00:02:09]\n",
            "1/1 [==============================] - 0s 22ms/step\n"
          ]
        },
        {
          "output_type": "stream",
          "name": "stderr",
          "text": [
            "WARNING:tensorflow:Compiled the loaded model, but the compiled metrics have yet to be built. `model.compile_metrics` will be empty until you train or evaluate the model.\n"
          ]
        },
        {
          "output_type": "stream",
          "name": "stdout",
          "text": [
            "[.] Saved Step : /content/Enhancement Model/Step Output/plot_000038.png\n",
            "[.] Saved Model: /content/Enhancement Model/Model Output/gen_model_000038.h5\n",
            "[.] Saved Model: /content/Enhancement Model/Model Output/disc_model_000038.h5\n",
            "1/1 [==============================] - 0s 30ms/step\n",
            "[*] 000039, d1[0.399] d2[0.391] g[31.332] ---> time[1.99], time_left[00:02:01]\n",
            "1/1 [==============================] - 0s 22ms/step\n"
          ]
        },
        {
          "output_type": "stream",
          "name": "stderr",
          "text": [
            "WARNING:tensorflow:Compiled the loaded model, but the compiled metrics have yet to be built. `model.compile_metrics` will be empty until you train or evaluate the model.\n"
          ]
        },
        {
          "output_type": "stream",
          "name": "stdout",
          "text": [
            "[.] Saved Step : /content/Enhancement Model/Step Output/plot_000039.png\n",
            "[.] Saved Model: /content/Enhancement Model/Model Output/gen_model_000039.h5\n",
            "[.] Saved Model: /content/Enhancement Model/Model Output/disc_model_000039.h5\n",
            "1/1 [==============================] - 0s 27ms/step\n",
            "[*] 000040, d1[0.407] d2[0.394] g[29.699] ---> time[2.21], time_left[00:02:12]\n",
            "1/1 [==============================] - 0s 38ms/step\n"
          ]
        },
        {
          "output_type": "stream",
          "name": "stderr",
          "text": [
            "WARNING:tensorflow:Compiled the loaded model, but the compiled metrics have yet to be built. `model.compile_metrics` will be empty until you train or evaluate the model.\n"
          ]
        },
        {
          "output_type": "stream",
          "name": "stdout",
          "text": [
            "[.] Saved Step : /content/Enhancement Model/Step Output/plot_000040.png\n",
            "[.] Saved Model: /content/Enhancement Model/Model Output/gen_model_000040.h5\n",
            "[.] Saved Model: /content/Enhancement Model/Model Output/disc_model_000040.h5\n",
            "1/1 [==============================] - 0s 41ms/step\n",
            "[*] 000041, d1[0.306] d2[0.481] g[26.120] ---> time[2.16], time_left[00:02:07]\n",
            "1/1 [==============================] - 0s 21ms/step\n"
          ]
        },
        {
          "output_type": "stream",
          "name": "stderr",
          "text": [
            "WARNING:tensorflow:Compiled the loaded model, but the compiled metrics have yet to be built. `model.compile_metrics` will be empty until you train or evaluate the model.\n"
          ]
        },
        {
          "output_type": "stream",
          "name": "stdout",
          "text": [
            "[.] Saved Step : /content/Enhancement Model/Step Output/plot_000041.png\n",
            "[.] Saved Model: /content/Enhancement Model/Model Output/gen_model_000041.h5\n",
            "[.] Saved Model: /content/Enhancement Model/Model Output/disc_model_000041.h5\n",
            "1/1 [==============================] - 0s 29ms/step\n",
            "[*] 000042, d1[0.305] d2[0.496] g[25.813] ---> time[1.95], time_left[00:01:53]\n",
            "1/1 [==============================] - 0s 25ms/step\n"
          ]
        },
        {
          "output_type": "stream",
          "name": "stderr",
          "text": [
            "WARNING:tensorflow:Compiled the loaded model, but the compiled metrics have yet to be built. `model.compile_metrics` will be empty until you train or evaluate the model.\n"
          ]
        },
        {
          "output_type": "stream",
          "name": "stdout",
          "text": [
            "[.] Saved Step : /content/Enhancement Model/Step Output/plot_000042.png\n",
            "[.] Saved Model: /content/Enhancement Model/Model Output/gen_model_000042.h5\n",
            "[.] Saved Model: /content/Enhancement Model/Model Output/disc_model_000042.h5\n",
            "1/1 [==============================] - 0s 28ms/step\n",
            "[*] 000043, d1[0.388] d2[0.392] g[22.941] ---> time[2.03], time_left[00:01:55]\n",
            "1/1 [==============================] - 0s 25ms/step\n"
          ]
        },
        {
          "output_type": "stream",
          "name": "stderr",
          "text": [
            "WARNING:tensorflow:Compiled the loaded model, but the compiled metrics have yet to be built. `model.compile_metrics` will be empty until you train or evaluate the model.\n"
          ]
        },
        {
          "output_type": "stream",
          "name": "stdout",
          "text": [
            "[.] Saved Step : /content/Enhancement Model/Step Output/plot_000043.png\n",
            "[.] Saved Model: /content/Enhancement Model/Model Output/gen_model_000043.h5\n",
            "[.] Saved Model: /content/Enhancement Model/Model Output/disc_model_000043.h5\n",
            "1/1 [==============================] - 0s 44ms/step\n",
            "[*] 000044, d1[0.363] d2[0.605] g[25.966] ---> time[2.40], time_left[00:02:14]\n",
            "1/1 [==============================] - 0s 31ms/step\n"
          ]
        },
        {
          "output_type": "stream",
          "name": "stderr",
          "text": [
            "WARNING:tensorflow:Compiled the loaded model, but the compiled metrics have yet to be built. `model.compile_metrics` will be empty until you train or evaluate the model.\n"
          ]
        },
        {
          "output_type": "stream",
          "name": "stdout",
          "text": [
            "[.] Saved Step : /content/Enhancement Model/Step Output/plot_000044.png\n",
            "[.] Saved Model: /content/Enhancement Model/Model Output/gen_model_000044.h5\n",
            "[.] Saved Model: /content/Enhancement Model/Model Output/disc_model_000044.h5\n",
            "1/1 [==============================] - 0s 30ms/step\n",
            "[*] 000045, d1[0.615] d2[0.420] g[30.191] ---> time[2.01], time_left[00:01:50]\n",
            "1/1 [==============================] - 0s 21ms/step\n"
          ]
        },
        {
          "output_type": "stream",
          "name": "stderr",
          "text": [
            "WARNING:tensorflow:Compiled the loaded model, but the compiled metrics have yet to be built. `model.compile_metrics` will be empty until you train or evaluate the model.\n"
          ]
        },
        {
          "output_type": "stream",
          "name": "stdout",
          "text": [
            "[.] Saved Step : /content/Enhancement Model/Step Output/plot_000045.png\n",
            "[.] Saved Model: /content/Enhancement Model/Model Output/gen_model_000045.h5\n",
            "[.] Saved Model: /content/Enhancement Model/Model Output/disc_model_000045.h5\n",
            "1/1 [==============================] - 0s 28ms/step\n",
            "[*] 000046, d1[0.468] d2[0.539] g[27.045] ---> time[2.11], time_left[00:01:53]\n",
            "1/1 [==============================] - 0s 27ms/step\n"
          ]
        },
        {
          "output_type": "stream",
          "name": "stderr",
          "text": [
            "WARNING:tensorflow:Compiled the loaded model, but the compiled metrics have yet to be built. `model.compile_metrics` will be empty until you train or evaluate the model.\n"
          ]
        },
        {
          "output_type": "stream",
          "name": "stdout",
          "text": [
            "[.] Saved Step : /content/Enhancement Model/Step Output/plot_000046.png\n",
            "[.] Saved Model: /content/Enhancement Model/Model Output/gen_model_000046.h5\n",
            "[.] Saved Model: /content/Enhancement Model/Model Output/disc_model_000046.h5\n",
            "1/1 [==============================] - 0s 30ms/step\n",
            "[*] 000047, d1[0.523] d2[0.446] g[21.992] ---> time[2.19], time_left[00:01:56]\n",
            "1/1 [==============================] - 0s 30ms/step\n"
          ]
        },
        {
          "output_type": "stream",
          "name": "stderr",
          "text": [
            "WARNING:tensorflow:Compiled the loaded model, but the compiled metrics have yet to be built. `model.compile_metrics` will be empty until you train or evaluate the model.\n"
          ]
        },
        {
          "output_type": "stream",
          "name": "stdout",
          "text": [
            "[.] Saved Step : /content/Enhancement Model/Step Output/plot_000047.png\n",
            "[.] Saved Model: /content/Enhancement Model/Model Output/gen_model_000047.h5\n",
            "[.] Saved Model: /content/Enhancement Model/Model Output/disc_model_000047.h5\n",
            "1/1 [==============================] - 0s 31ms/step\n",
            "[*] 000048, d1[0.513] d2[0.431] g[22.377] ---> time[2.01], time_left[00:01:44]\n",
            "1/1 [==============================] - 0s 25ms/step\n"
          ]
        },
        {
          "output_type": "stream",
          "name": "stderr",
          "text": [
            "WARNING:tensorflow:Compiled the loaded model, but the compiled metrics have yet to be built. `model.compile_metrics` will be empty until you train or evaluate the model.\n"
          ]
        },
        {
          "output_type": "stream",
          "name": "stdout",
          "text": [
            "[.] Saved Step : /content/Enhancement Model/Step Output/plot_000048.png\n",
            "[.] Saved Model: /content/Enhancement Model/Model Output/gen_model_000048.h5\n",
            "[.] Saved Model: /content/Enhancement Model/Model Output/disc_model_000048.h5\n",
            "1/1 [==============================] - 0s 26ms/step\n",
            "[*] 000049, d1[0.467] d2[0.452] g[29.791] ---> time[1.98], time_left[00:01:40]\n",
            "1/1 [==============================] - 0s 21ms/step\n"
          ]
        },
        {
          "output_type": "stream",
          "name": "stderr",
          "text": [
            "WARNING:tensorflow:Compiled the loaded model, but the compiled metrics have yet to be built. `model.compile_metrics` will be empty until you train or evaluate the model.\n"
          ]
        },
        {
          "output_type": "stream",
          "name": "stdout",
          "text": [
            "[.] Saved Step : /content/Enhancement Model/Step Output/plot_000049.png\n",
            "[.] Saved Model: /content/Enhancement Model/Model Output/gen_model_000049.h5\n",
            "[.] Saved Model: /content/Enhancement Model/Model Output/disc_model_000049.h5\n",
            "1/1 [==============================] - 0s 29ms/step\n",
            "[*] 000050, d1[0.491] d2[0.420] g[31.225] ---> time[1.93], time_left[00:01:36]\n",
            "1/1 [==============================] - 0s 30ms/step\n"
          ]
        },
        {
          "output_type": "stream",
          "name": "stderr",
          "text": [
            "WARNING:tensorflow:Compiled the loaded model, but the compiled metrics have yet to be built. `model.compile_metrics` will be empty until you train or evaluate the model.\n"
          ]
        },
        {
          "output_type": "stream",
          "name": "stdout",
          "text": [
            "[.] Saved Step : /content/Enhancement Model/Step Output/plot_000050.png\n",
            "[.] Saved Model: /content/Enhancement Model/Model Output/gen_model_000050.h5\n",
            "[.] Saved Model: /content/Enhancement Model/Model Output/disc_model_000050.h5\n",
            "1/1 [==============================] - 0s 49ms/step\n",
            "[*] 000051, d1[0.479] d2[0.415] g[31.803] ---> time[2.28], time_left[00:01:51]\n",
            "1/1 [==============================] - 0s 24ms/step\n"
          ]
        },
        {
          "output_type": "stream",
          "name": "stderr",
          "text": [
            "WARNING:tensorflow:Compiled the loaded model, but the compiled metrics have yet to be built. `model.compile_metrics` will be empty until you train or evaluate the model.\n"
          ]
        },
        {
          "output_type": "stream",
          "name": "stdout",
          "text": [
            "[.] Saved Step : /content/Enhancement Model/Step Output/plot_000051.png\n",
            "[.] Saved Model: /content/Enhancement Model/Model Output/gen_model_000051.h5\n",
            "[.] Saved Model: /content/Enhancement Model/Model Output/disc_model_000051.h5\n",
            "1/1 [==============================] - 0s 42ms/step\n",
            "[*] 000052, d1[0.462] d2[0.463] g[28.531] ---> time[2.16], time_left[00:01:43]\n",
            "1/1 [==============================] - 0s 25ms/step\n"
          ]
        },
        {
          "output_type": "stream",
          "name": "stderr",
          "text": [
            "WARNING:tensorflow:Compiled the loaded model, but the compiled metrics have yet to be built. `model.compile_metrics` will be empty until you train or evaluate the model.\n"
          ]
        },
        {
          "output_type": "stream",
          "name": "stdout",
          "text": [
            "[.] Saved Step : /content/Enhancement Model/Step Output/plot_000052.png\n",
            "[.] Saved Model: /content/Enhancement Model/Model Output/gen_model_000052.h5\n",
            "[.] Saved Model: /content/Enhancement Model/Model Output/disc_model_000052.h5\n",
            "1/1 [==============================] - 0s 28ms/step\n",
            "[*] 000053, d1[0.449] d2[0.421] g[29.696] ---> time[2.12], time_left[00:01:39]\n",
            "1/1 [==============================] - 0s 22ms/step\n"
          ]
        },
        {
          "output_type": "stream",
          "name": "stderr",
          "text": [
            "WARNING:tensorflow:Compiled the loaded model, but the compiled metrics have yet to be built. `model.compile_metrics` will be empty until you train or evaluate the model.\n"
          ]
        },
        {
          "output_type": "stream",
          "name": "stdout",
          "text": [
            "[.] Saved Step : /content/Enhancement Model/Step Output/plot_000053.png\n",
            "[.] Saved Model: /content/Enhancement Model/Model Output/gen_model_000053.h5\n",
            "[.] Saved Model: /content/Enhancement Model/Model Output/disc_model_000053.h5\n",
            "1/1 [==============================] - 0s 46ms/step\n",
            "[*] 000054, d1[0.439] d2[0.420] g[31.476] ---> time[2.32], time_left[00:01:46]\n",
            "1/1 [==============================] - 0s 32ms/step\n"
          ]
        },
        {
          "output_type": "stream",
          "name": "stderr",
          "text": [
            "WARNING:tensorflow:Compiled the loaded model, but the compiled metrics have yet to be built. `model.compile_metrics` will be empty until you train or evaluate the model.\n"
          ]
        },
        {
          "output_type": "stream",
          "name": "stdout",
          "text": [
            "[.] Saved Step : /content/Enhancement Model/Step Output/plot_000054.png\n",
            "[.] Saved Model: /content/Enhancement Model/Model Output/gen_model_000054.h5\n",
            "[.] Saved Model: /content/Enhancement Model/Model Output/disc_model_000054.h5\n",
            "1/1 [==============================] - 0s 27ms/step\n",
            "[*] 000055, d1[0.489] d2[0.467] g[31.365] ---> time[1.92], time_left[00:01:26]\n",
            "1/1 [==============================] - 0s 23ms/step\n"
          ]
        },
        {
          "output_type": "stream",
          "name": "stderr",
          "text": [
            "WARNING:tensorflow:Compiled the loaded model, but the compiled metrics have yet to be built. `model.compile_metrics` will be empty until you train or evaluate the model.\n"
          ]
        },
        {
          "output_type": "stream",
          "name": "stdout",
          "text": [
            "[.] Saved Step : /content/Enhancement Model/Step Output/plot_000055.png\n",
            "[.] Saved Model: /content/Enhancement Model/Model Output/gen_model_000055.h5\n",
            "[.] Saved Model: /content/Enhancement Model/Model Output/disc_model_000055.h5\n",
            "1/1 [==============================] - 0s 27ms/step\n",
            "[*] 000056, d1[0.448] d2[0.408] g[36.217] ---> time[1.94], time_left[00:01:25]\n",
            "1/1 [==============================] - 0s 23ms/step\n"
          ]
        },
        {
          "output_type": "stream",
          "name": "stderr",
          "text": [
            "WARNING:tensorflow:Compiled the loaded model, but the compiled metrics have yet to be built. `model.compile_metrics` will be empty until you train or evaluate the model.\n"
          ]
        },
        {
          "output_type": "stream",
          "name": "stdout",
          "text": [
            "[.] Saved Step : /content/Enhancement Model/Step Output/plot_000056.png\n",
            "[.] Saved Model: /content/Enhancement Model/Model Output/gen_model_000056.h5\n",
            "[.] Saved Model: /content/Enhancement Model/Model Output/disc_model_000056.h5\n",
            "1/1 [==============================] - 0s 28ms/step\n",
            "[*] 000057, d1[0.447] d2[0.455] g[27.099] ---> time[1.98], time_left[00:01:25]\n",
            "1/1 [==============================] - 0s 34ms/step\n"
          ]
        },
        {
          "output_type": "stream",
          "name": "stderr",
          "text": [
            "WARNING:tensorflow:Compiled the loaded model, but the compiled metrics have yet to be built. `model.compile_metrics` will be empty until you train or evaluate the model.\n"
          ]
        },
        {
          "output_type": "stream",
          "name": "stdout",
          "text": [
            "[.] Saved Step : /content/Enhancement Model/Step Output/plot_000057.png\n",
            "[.] Saved Model: /content/Enhancement Model/Model Output/gen_model_000057.h5\n",
            "[.] Saved Model: /content/Enhancement Model/Model Output/disc_model_000057.h5\n",
            "1/1 [==============================] - 0s 45ms/step\n",
            "[*] 000058, d1[0.424] d2[0.406] g[32.556] ---> time[2.10], time_left[00:01:28]\n",
            "1/1 [==============================] - 0s 23ms/step\n"
          ]
        },
        {
          "output_type": "stream",
          "name": "stderr",
          "text": [
            "WARNING:tensorflow:Compiled the loaded model, but the compiled metrics have yet to be built. `model.compile_metrics` will be empty until you train or evaluate the model.\n"
          ]
        },
        {
          "output_type": "stream",
          "name": "stdout",
          "text": [
            "[.] Saved Step : /content/Enhancement Model/Step Output/plot_000058.png\n",
            "[.] Saved Model: /content/Enhancement Model/Model Output/gen_model_000058.h5\n",
            "[.] Saved Model: /content/Enhancement Model/Model Output/disc_model_000058.h5\n",
            "1/1 [==============================] - 0s 26ms/step\n",
            "[*] 000059, d1[0.457] d2[0.382] g[30.027] ---> time[2.01], time_left[00:01:22]\n",
            "1/1 [==============================] - 0s 22ms/step\n"
          ]
        },
        {
          "output_type": "stream",
          "name": "stderr",
          "text": [
            "WARNING:tensorflow:Compiled the loaded model, but the compiled metrics have yet to be built. `model.compile_metrics` will be empty until you train or evaluate the model.\n"
          ]
        },
        {
          "output_type": "stream",
          "name": "stdout",
          "text": [
            "[.] Saved Step : /content/Enhancement Model/Step Output/plot_000059.png\n",
            "[.] Saved Model: /content/Enhancement Model/Model Output/gen_model_000059.h5\n",
            "[.] Saved Model: /content/Enhancement Model/Model Output/disc_model_000059.h5\n",
            "1/1 [==============================] - 0s 28ms/step\n",
            "[*] 000060, d1[0.464] d2[0.407] g[43.835] ---> time[1.92], time_left[00:01:16]\n",
            "1/1 [==============================] - 0s 21ms/step\n"
          ]
        },
        {
          "output_type": "stream",
          "name": "stderr",
          "text": [
            "WARNING:tensorflow:Compiled the loaded model, but the compiled metrics have yet to be built. `model.compile_metrics` will be empty until you train or evaluate the model.\n"
          ]
        },
        {
          "output_type": "stream",
          "name": "stdout",
          "text": [
            "[.] Saved Step : /content/Enhancement Model/Step Output/plot_000060.png\n",
            "[.] Saved Model: /content/Enhancement Model/Model Output/gen_model_000060.h5\n",
            "[.] Saved Model: /content/Enhancement Model/Model Output/disc_model_000060.h5\n",
            "1/1 [==============================] - 0s 43ms/step\n",
            "[*] 000061, d1[0.441] d2[0.514] g[26.674] ---> time[2.22], time_left[00:01:26]\n",
            "1/1 [==============================] - 0s 38ms/step\n"
          ]
        },
        {
          "output_type": "stream",
          "name": "stderr",
          "text": [
            "WARNING:tensorflow:Compiled the loaded model, but the compiled metrics have yet to be built. `model.compile_metrics` will be empty until you train or evaluate the model.\n"
          ]
        },
        {
          "output_type": "stream",
          "name": "stdout",
          "text": [
            "[.] Saved Step : /content/Enhancement Model/Step Output/plot_000061.png\n",
            "[.] Saved Model: /content/Enhancement Model/Model Output/gen_model_000061.h5\n",
            "[.] Saved Model: /content/Enhancement Model/Model Output/disc_model_000061.h5\n",
            "1/1 [==============================] - 0s 28ms/step\n",
            "[*] 000062, d1[0.468] d2[0.413] g[27.118] ---> time[1.94], time_left[00:01:13]\n",
            "1/1 [==============================] - 0s 23ms/step\n"
          ]
        },
        {
          "output_type": "stream",
          "name": "stderr",
          "text": [
            "WARNING:tensorflow:Compiled the loaded model, but the compiled metrics have yet to be built. `model.compile_metrics` will be empty until you train or evaluate the model.\n"
          ]
        },
        {
          "output_type": "stream",
          "name": "stdout",
          "text": [
            "[.] Saved Step : /content/Enhancement Model/Step Output/plot_000062.png\n",
            "[.] Saved Model: /content/Enhancement Model/Model Output/gen_model_000062.h5\n",
            "[.] Saved Model: /content/Enhancement Model/Model Output/disc_model_000062.h5\n",
            "1/1 [==============================] - 0s 30ms/step\n",
            "[*] 000063, d1[0.454] d2[0.415] g[29.857] ---> time[2.05], time_left[00:01:15]\n",
            "1/1 [==============================] - 0s 22ms/step\n"
          ]
        },
        {
          "output_type": "stream",
          "name": "stderr",
          "text": [
            "WARNING:tensorflow:Compiled the loaded model, but the compiled metrics have yet to be built. `model.compile_metrics` will be empty until you train or evaluate the model.\n"
          ]
        },
        {
          "output_type": "stream",
          "name": "stdout",
          "text": [
            "[.] Saved Step : /content/Enhancement Model/Step Output/plot_000063.png\n",
            "[.] Saved Model: /content/Enhancement Model/Model Output/gen_model_000063.h5\n",
            "[.] Saved Model: /content/Enhancement Model/Model Output/disc_model_000063.h5\n",
            "1/1 [==============================] - 0s 28ms/step\n",
            "[*] 000064, d1[0.438] d2[0.447] g[48.330] ---> time[2.26], time_left[00:01:21]\n",
            "1/1 [==============================] - 0s 35ms/step\n"
          ]
        },
        {
          "output_type": "stream",
          "name": "stderr",
          "text": [
            "WARNING:tensorflow:Compiled the loaded model, but the compiled metrics have yet to be built. `model.compile_metrics` will be empty until you train or evaluate the model.\n"
          ]
        },
        {
          "output_type": "stream",
          "name": "stdout",
          "text": [
            "[.] Saved Step : /content/Enhancement Model/Step Output/plot_000064.png\n",
            "[.] Saved Model: /content/Enhancement Model/Model Output/gen_model_000064.h5\n",
            "[.] Saved Model: /content/Enhancement Model/Model Output/disc_model_000064.h5\n",
            "1/1 [==============================] - 0s 29ms/step\n",
            "[*] 000065, d1[0.471] d2[0.421] g[26.178] ---> time[1.98], time_left[00:01:09]\n",
            "1/1 [==============================] - 0s 22ms/step\n"
          ]
        },
        {
          "output_type": "stream",
          "name": "stderr",
          "text": [
            "WARNING:tensorflow:Compiled the loaded model, but the compiled metrics have yet to be built. `model.compile_metrics` will be empty until you train or evaluate the model.\n"
          ]
        },
        {
          "output_type": "stream",
          "name": "stdout",
          "text": [
            "[.] Saved Step : /content/Enhancement Model/Step Output/plot_000065.png\n",
            "[.] Saved Model: /content/Enhancement Model/Model Output/gen_model_000065.h5\n",
            "[.] Saved Model: /content/Enhancement Model/Model Output/disc_model_000065.h5\n",
            "1/1 [==============================] - 0s 30ms/step\n",
            "[*] 000066, d1[0.413] d2[0.386] g[30.982] ---> time[2.01], time_left[00:01:08]\n",
            "1/1 [==============================] - 0s 21ms/step\n"
          ]
        },
        {
          "output_type": "stream",
          "name": "stderr",
          "text": [
            "WARNING:tensorflow:Compiled the loaded model, but the compiled metrics have yet to be built. `model.compile_metrics` will be empty until you train or evaluate the model.\n"
          ]
        },
        {
          "output_type": "stream",
          "name": "stdout",
          "text": [
            "[.] Saved Step : /content/Enhancement Model/Step Output/plot_000066.png\n",
            "[.] Saved Model: /content/Enhancement Model/Model Output/gen_model_000066.h5\n",
            "[.] Saved Model: /content/Enhancement Model/Model Output/disc_model_000066.h5\n",
            "1/1 [==============================] - 0s 27ms/step\n",
            "[*] 000067, d1[0.493] d2[0.407] g[24.581] ---> time[2.01], time_left[00:01:06]\n",
            "1/1 [==============================] - 0s 32ms/step\n"
          ]
        },
        {
          "output_type": "stream",
          "name": "stderr",
          "text": [
            "WARNING:tensorflow:Compiled the loaded model, but the compiled metrics have yet to be built. `model.compile_metrics` will be empty until you train or evaluate the model.\n"
          ]
        },
        {
          "output_type": "stream",
          "name": "stdout",
          "text": [
            "[.] Saved Step : /content/Enhancement Model/Step Output/plot_000067.png\n",
            "[.] Saved Model: /content/Enhancement Model/Model Output/gen_model_000067.h5\n",
            "[.] Saved Model: /content/Enhancement Model/Model Output/disc_model_000067.h5\n",
            "1/1 [==============================] - 0s 45ms/step\n",
            "[*] 000068, d1[0.422] d2[0.434] g[33.325] ---> time[2.22], time_left[00:01:10]\n",
            "1/1 [==============================] - 0s 24ms/step\n"
          ]
        },
        {
          "output_type": "stream",
          "name": "stderr",
          "text": [
            "WARNING:tensorflow:Compiled the loaded model, but the compiled metrics have yet to be built. `model.compile_metrics` will be empty until you train or evaluate the model.\n"
          ]
        },
        {
          "output_type": "stream",
          "name": "stdout",
          "text": [
            "[.] Saved Step : /content/Enhancement Model/Step Output/plot_000068.png\n",
            "[.] Saved Model: /content/Enhancement Model/Model Output/gen_model_000068.h5\n",
            "[.] Saved Model: /content/Enhancement Model/Model Output/disc_model_000068.h5\n",
            "1/1 [==============================] - 0s 52ms/step\n",
            "[*] 000069, d1[0.440] d2[0.443] g[19.963] ---> time[2.36], time_left[00:01:13]\n",
            "1/1 [==============================] - 0s 23ms/step\n"
          ]
        },
        {
          "output_type": "stream",
          "name": "stderr",
          "text": [
            "WARNING:tensorflow:Compiled the loaded model, but the compiled metrics have yet to be built. `model.compile_metrics` will be empty until you train or evaluate the model.\n"
          ]
        },
        {
          "output_type": "stream",
          "name": "stdout",
          "text": [
            "[.] Saved Step : /content/Enhancement Model/Step Output/plot_000069.png\n",
            "[.] Saved Model: /content/Enhancement Model/Model Output/gen_model_000069.h5\n",
            "[.] Saved Model: /content/Enhancement Model/Model Output/disc_model_000069.h5\n",
            "1/1 [==============================] - 0s 37ms/step\n",
            "[*] 000070, d1[0.448] d2[0.400] g[31.432] ---> time[2.02], time_left[00:01:00]\n",
            "1/1 [==============================] - 0s 22ms/step\n"
          ]
        },
        {
          "output_type": "stream",
          "name": "stderr",
          "text": [
            "WARNING:tensorflow:Compiled the loaded model, but the compiled metrics have yet to be built. `model.compile_metrics` will be empty until you train or evaluate the model.\n"
          ]
        },
        {
          "output_type": "stream",
          "name": "stdout",
          "text": [
            "[.] Saved Step : /content/Enhancement Model/Step Output/plot_000070.png\n",
            "[.] Saved Model: /content/Enhancement Model/Model Output/gen_model_000070.h5\n",
            "[.] Saved Model: /content/Enhancement Model/Model Output/disc_model_000070.h5\n",
            "1/1 [==============================] - 0s 41ms/step\n",
            "[*] 000071, d1[0.423] d2[0.408] g[32.474] ---> time[2.13], time_left[00:01:01]\n",
            "1/1 [==============================] - 0s 21ms/step\n"
          ]
        },
        {
          "output_type": "stream",
          "name": "stderr",
          "text": [
            "WARNING:tensorflow:Compiled the loaded model, but the compiled metrics have yet to be built. `model.compile_metrics` will be empty until you train or evaluate the model.\n"
          ]
        },
        {
          "output_type": "stream",
          "name": "stdout",
          "text": [
            "[.] Saved Step : /content/Enhancement Model/Step Output/plot_000071.png\n",
            "[.] Saved Model: /content/Enhancement Model/Model Output/gen_model_000071.h5\n",
            "[.] Saved Model: /content/Enhancement Model/Model Output/disc_model_000071.h5\n",
            "1/1 [==============================] - 0s 27ms/step\n",
            "[*] 000072, d1[0.449] d2[0.373] g[29.656] ---> time[2.14], time_left[00:00:59]\n",
            "1/1 [==============================] - 0s 25ms/step\n"
          ]
        },
        {
          "output_type": "stream",
          "name": "stderr",
          "text": [
            "WARNING:tensorflow:Compiled the loaded model, but the compiled metrics have yet to be built. `model.compile_metrics` will be empty until you train or evaluate the model.\n"
          ]
        },
        {
          "output_type": "stream",
          "name": "stdout",
          "text": [
            "[.] Saved Step : /content/Enhancement Model/Step Output/plot_000072.png\n",
            "[.] Saved Model: /content/Enhancement Model/Model Output/gen_model_000072.h5\n",
            "[.] Saved Model: /content/Enhancement Model/Model Output/disc_model_000072.h5\n",
            "1/1 [==============================] - 0s 34ms/step\n",
            "[*] 000073, d1[0.406] d2[0.393] g[22.874] ---> time[1.94], time_left[00:00:52]\n",
            "1/1 [==============================] - 0s 22ms/step\n"
          ]
        },
        {
          "output_type": "stream",
          "name": "stderr",
          "text": [
            "WARNING:tensorflow:Compiled the loaded model, but the compiled metrics have yet to be built. `model.compile_metrics` will be empty until you train or evaluate the model.\n"
          ]
        },
        {
          "output_type": "stream",
          "name": "stdout",
          "text": [
            "[.] Saved Step : /content/Enhancement Model/Step Output/plot_000073.png\n",
            "[.] Saved Model: /content/Enhancement Model/Model Output/gen_model_000073.h5\n",
            "[.] Saved Model: /content/Enhancement Model/Model Output/disc_model_000073.h5\n",
            "1/1 [==============================] - 0s 27ms/step\n",
            "[*] 000074, d1[0.436] d2[0.401] g[23.596] ---> time[1.98], time_left[00:00:51]\n",
            "1/1 [==============================] - 0s 36ms/step\n"
          ]
        },
        {
          "output_type": "stream",
          "name": "stderr",
          "text": [
            "WARNING:tensorflow:Compiled the loaded model, but the compiled metrics have yet to be built. `model.compile_metrics` will be empty until you train or evaluate the model.\n"
          ]
        },
        {
          "output_type": "stream",
          "name": "stdout",
          "text": [
            "[.] Saved Step : /content/Enhancement Model/Step Output/plot_000074.png\n",
            "[.] Saved Model: /content/Enhancement Model/Model Output/gen_model_000074.h5\n",
            "[.] Saved Model: /content/Enhancement Model/Model Output/disc_model_000074.h5\n",
            "1/1 [==============================] - 0s 28ms/step\n",
            "[*] 000075, d1[0.435] d2[0.423] g[29.700] ---> time[2.03], time_left[00:00:50]\n",
            "1/1 [==============================] - 0s 22ms/step\n"
          ]
        },
        {
          "output_type": "stream",
          "name": "stderr",
          "text": [
            "WARNING:tensorflow:Compiled the loaded model, but the compiled metrics have yet to be built. `model.compile_metrics` will be empty until you train or evaluate the model.\n"
          ]
        },
        {
          "output_type": "stream",
          "name": "stdout",
          "text": [
            "[.] Saved Step : /content/Enhancement Model/Step Output/plot_000075.png\n",
            "[.] Saved Model: /content/Enhancement Model/Model Output/gen_model_000075.h5\n",
            "[.] Saved Model: /content/Enhancement Model/Model Output/disc_model_000075.h5\n",
            "1/1 [==============================] - 0s 29ms/step\n",
            "[*] 000076, d1[0.395] d2[0.376] g[26.137] ---> time[2.04], time_left[00:00:48]\n",
            "1/1 [==============================] - 0s 23ms/step\n"
          ]
        },
        {
          "output_type": "stream",
          "name": "stderr",
          "text": [
            "WARNING:tensorflow:Compiled the loaded model, but the compiled metrics have yet to be built. `model.compile_metrics` will be empty until you train or evaluate the model.\n"
          ]
        },
        {
          "output_type": "stream",
          "name": "stdout",
          "text": [
            "[.] Saved Step : /content/Enhancement Model/Step Output/plot_000076.png\n",
            "[.] Saved Model: /content/Enhancement Model/Model Output/gen_model_000076.h5\n",
            "[.] Saved Model: /content/Enhancement Model/Model Output/disc_model_000076.h5\n",
            "1/1 [==============================] - 0s 43ms/step\n",
            "[*] 000077, d1[0.436] d2[0.428] g[37.537] ---> time[1.95], time_left[00:00:44]\n",
            "1/1 [==============================] - 0s 21ms/step\n"
          ]
        },
        {
          "output_type": "stream",
          "name": "stderr",
          "text": [
            "WARNING:tensorflow:Compiled the loaded model, but the compiled metrics have yet to be built. `model.compile_metrics` will be empty until you train or evaluate the model.\n"
          ]
        },
        {
          "output_type": "stream",
          "name": "stdout",
          "text": [
            "[.] Saved Step : /content/Enhancement Model/Step Output/plot_000077.png\n",
            "[.] Saved Model: /content/Enhancement Model/Model Output/gen_model_000077.h5\n",
            "[.] Saved Model: /content/Enhancement Model/Model Output/disc_model_000077.h5\n",
            "1/1 [==============================] - 0s 44ms/step\n",
            "[*] 000078, d1[0.396] d2[0.431] g[29.335] ---> time[2.30], time_left[00:00:50]\n",
            "1/1 [==============================] - 0s 23ms/step\n"
          ]
        },
        {
          "output_type": "stream",
          "name": "stderr",
          "text": [
            "WARNING:tensorflow:Compiled the loaded model, but the compiled metrics have yet to be built. `model.compile_metrics` will be empty until you train or evaluate the model.\n"
          ]
        },
        {
          "output_type": "stream",
          "name": "stdout",
          "text": [
            "[.] Saved Step : /content/Enhancement Model/Step Output/plot_000078.png\n",
            "[.] Saved Model: /content/Enhancement Model/Model Output/gen_model_000078.h5\n",
            "[.] Saved Model: /content/Enhancement Model/Model Output/disc_model_000078.h5\n",
            "1/1 [==============================] - 0s 29ms/step\n",
            "[*] 000079, d1[0.397] d2[0.384] g[27.616] ---> time[2.02], time_left[00:00:42]\n",
            "1/1 [==============================] - 0s 22ms/step\n"
          ]
        },
        {
          "output_type": "stream",
          "name": "stderr",
          "text": [
            "WARNING:tensorflow:Compiled the loaded model, but the compiled metrics have yet to be built. `model.compile_metrics` will be empty until you train or evaluate the model.\n"
          ]
        },
        {
          "output_type": "stream",
          "name": "stdout",
          "text": [
            "[.] Saved Step : /content/Enhancement Model/Step Output/plot_000079.png\n",
            "[.] Saved Model: /content/Enhancement Model/Model Output/gen_model_000079.h5\n",
            "[.] Saved Model: /content/Enhancement Model/Model Output/disc_model_000079.h5\n",
            "1/1 [==============================] - 0s 35ms/step\n",
            "[*] 000080, d1[0.448] d2[0.405] g[29.007] ---> time[1.97], time_left[00:00:39]\n",
            "1/1 [==============================] - 0s 22ms/step\n"
          ]
        },
        {
          "output_type": "stream",
          "name": "stderr",
          "text": [
            "WARNING:tensorflow:Compiled the loaded model, but the compiled metrics have yet to be built. `model.compile_metrics` will be empty until you train or evaluate the model.\n"
          ]
        },
        {
          "output_type": "stream",
          "name": "stdout",
          "text": [
            "[.] Saved Step : /content/Enhancement Model/Step Output/plot_000080.png\n",
            "[.] Saved Model: /content/Enhancement Model/Model Output/gen_model_000080.h5\n",
            "[.] Saved Model: /content/Enhancement Model/Model Output/disc_model_000080.h5\n",
            "1/1 [==============================] - 0s 43ms/step\n",
            "[*] 000081, d1[0.368] d2[0.372] g[24.907] ---> time[2.33], time_left[00:00:44]\n",
            "1/1 [==============================] - 0s 35ms/step\n"
          ]
        },
        {
          "output_type": "stream",
          "name": "stderr",
          "text": [
            "WARNING:tensorflow:Compiled the loaded model, but the compiled metrics have yet to be built. `model.compile_metrics` will be empty until you train or evaluate the model.\n"
          ]
        },
        {
          "output_type": "stream",
          "name": "stdout",
          "text": [
            "[.] Saved Step : /content/Enhancement Model/Step Output/plot_000081.png\n",
            "[.] Saved Model: /content/Enhancement Model/Model Output/gen_model_000081.h5\n",
            "[.] Saved Model: /content/Enhancement Model/Model Output/disc_model_000081.h5\n",
            "1/1 [==============================] - 0s 28ms/step\n",
            "[*] 000082, d1[0.398] d2[0.337] g[32.115] ---> time[2.08], time_left[00:00:37]\n",
            "1/1 [==============================] - 0s 24ms/step\n"
          ]
        },
        {
          "output_type": "stream",
          "name": "stderr",
          "text": [
            "WARNING:tensorflow:Compiled the loaded model, but the compiled metrics have yet to be built. `model.compile_metrics` will be empty until you train or evaluate the model.\n"
          ]
        },
        {
          "output_type": "stream",
          "name": "stdout",
          "text": [
            "[.] Saved Step : /content/Enhancement Model/Step Output/plot_000082.png\n",
            "[.] Saved Model: /content/Enhancement Model/Model Output/gen_model_000082.h5\n",
            "[.] Saved Model: /content/Enhancement Model/Model Output/disc_model_000082.h5\n",
            "1/1 [==============================] - 0s 30ms/step\n",
            "[*] 000083, d1[0.489] d2[0.372] g[23.242] ---> time[1.94], time_left[00:00:32]\n",
            "1/1 [==============================] - 0s 23ms/step\n"
          ]
        },
        {
          "output_type": "stream",
          "name": "stderr",
          "text": [
            "WARNING:tensorflow:Compiled the loaded model, but the compiled metrics have yet to be built. `model.compile_metrics` will be empty until you train or evaluate the model.\n"
          ]
        },
        {
          "output_type": "stream",
          "name": "stdout",
          "text": [
            "[.] Saved Step : /content/Enhancement Model/Step Output/plot_000083.png\n",
            "[.] Saved Model: /content/Enhancement Model/Model Output/gen_model_000083.h5\n",
            "[.] Saved Model: /content/Enhancement Model/Model Output/disc_model_000083.h5\n",
            "1/1 [==============================] - 0s 29ms/step\n",
            "[*] 000084, d1[0.395] d2[0.387] g[30.315] ---> time[2.22], time_left[00:00:35]\n",
            "1/1 [==============================] - 0s 37ms/step\n"
          ]
        },
        {
          "output_type": "stream",
          "name": "stderr",
          "text": [
            "WARNING:tensorflow:Compiled the loaded model, but the compiled metrics have yet to be built. `model.compile_metrics` will be empty until you train or evaluate the model.\n"
          ]
        },
        {
          "output_type": "stream",
          "name": "stdout",
          "text": [
            "[.] Saved Step : /content/Enhancement Model/Step Output/plot_000084.png\n",
            "[.] Saved Model: /content/Enhancement Model/Model Output/gen_model_000084.h5\n",
            "[.] Saved Model: /content/Enhancement Model/Model Output/disc_model_000084.h5\n",
            "1/1 [==============================] - 0s 27ms/step\n",
            "[*] 000085, d1[0.398] d2[0.429] g[24.681] ---> time[2.15], time_left[00:00:32]\n",
            "1/1 [==============================] - 0s 26ms/step\n"
          ]
        },
        {
          "output_type": "stream",
          "name": "stderr",
          "text": [
            "WARNING:tensorflow:Compiled the loaded model, but the compiled metrics have yet to be built. `model.compile_metrics` will be empty until you train or evaluate the model.\n"
          ]
        },
        {
          "output_type": "stream",
          "name": "stdout",
          "text": [
            "[.] Saved Step : /content/Enhancement Model/Step Output/plot_000085.png\n",
            "[.] Saved Model: /content/Enhancement Model/Model Output/gen_model_000085.h5\n",
            "[.] Saved Model: /content/Enhancement Model/Model Output/disc_model_000085.h5\n",
            "1/1 [==============================] - 0s 27ms/step\n",
            "[*] 000086, d1[0.370] d2[0.419] g[24.802] ---> time[2.17], time_left[00:00:30]\n",
            "1/1 [==============================] - 0s 23ms/step\n"
          ]
        },
        {
          "output_type": "stream",
          "name": "stderr",
          "text": [
            "WARNING:tensorflow:Compiled the loaded model, but the compiled metrics have yet to be built. `model.compile_metrics` will be empty until you train or evaluate the model.\n"
          ]
        },
        {
          "output_type": "stream",
          "name": "stdout",
          "text": [
            "[.] Saved Step : /content/Enhancement Model/Step Output/plot_000086.png\n",
            "[.] Saved Model: /content/Enhancement Model/Model Output/gen_model_000086.h5\n",
            "[.] Saved Model: /content/Enhancement Model/Model Output/disc_model_000086.h5\n",
            "1/1 [==============================] - 0s 29ms/step\n",
            "[*] 000087, d1[0.437] d2[0.378] g[37.494] ---> time[1.93], time_left[00:00:25]\n",
            "1/1 [==============================] - 0s 48ms/step\n"
          ]
        },
        {
          "output_type": "stream",
          "name": "stderr",
          "text": [
            "WARNING:tensorflow:Compiled the loaded model, but the compiled metrics have yet to be built. `model.compile_metrics` will be empty until you train or evaluate the model.\n"
          ]
        },
        {
          "output_type": "stream",
          "name": "stdout",
          "text": [
            "[.] Saved Step : /content/Enhancement Model/Step Output/plot_000087.png\n",
            "[.] Saved Model: /content/Enhancement Model/Model Output/gen_model_000087.h5\n",
            "[.] Saved Model: /content/Enhancement Model/Model Output/disc_model_000087.h5\n",
            "1/1 [==============================] - 0s 45ms/step\n",
            "[*] 000088, d1[0.427] d2[0.417] g[20.797] ---> time[2.06], time_left[00:00:24]\n",
            "1/1 [==============================] - 0s 22ms/step\n"
          ]
        },
        {
          "output_type": "stream",
          "name": "stderr",
          "text": [
            "WARNING:tensorflow:Compiled the loaded model, but the compiled metrics have yet to be built. `model.compile_metrics` will be empty until you train or evaluate the model.\n"
          ]
        },
        {
          "output_type": "stream",
          "name": "stdout",
          "text": [
            "[.] Saved Step : /content/Enhancement Model/Step Output/plot_000088.png\n",
            "[.] Saved Model: /content/Enhancement Model/Model Output/gen_model_000088.h5\n",
            "[.] Saved Model: /content/Enhancement Model/Model Output/disc_model_000088.h5\n",
            "1/1 [==============================] - 0s 29ms/step\n",
            "[*] 000089, d1[0.377] d2[0.425] g[37.758] ---> time[2.03], time_left[00:00:22]\n",
            "1/1 [==============================] - 0s 22ms/step\n"
          ]
        },
        {
          "output_type": "stream",
          "name": "stderr",
          "text": [
            "WARNING:tensorflow:Compiled the loaded model, but the compiled metrics have yet to be built. `model.compile_metrics` will be empty until you train or evaluate the model.\n"
          ]
        },
        {
          "output_type": "stream",
          "name": "stdout",
          "text": [
            "[.] Saved Step : /content/Enhancement Model/Step Output/plot_000089.png\n",
            "[.] Saved Model: /content/Enhancement Model/Model Output/gen_model_000089.h5\n",
            "[.] Saved Model: /content/Enhancement Model/Model Output/disc_model_000089.h5\n",
            "1/1 [==============================] - 0s 29ms/step\n",
            "[*] 000090, d1[0.474] d2[0.350] g[20.030] ---> time[1.94], time_left[00:00:19]\n",
            "1/1 [==============================] - 0s 24ms/step\n"
          ]
        },
        {
          "output_type": "stream",
          "name": "stderr",
          "text": [
            "WARNING:tensorflow:Compiled the loaded model, but the compiled metrics have yet to be built. `model.compile_metrics` will be empty until you train or evaluate the model.\n"
          ]
        },
        {
          "output_type": "stream",
          "name": "stdout",
          "text": [
            "[.] Saved Step : /content/Enhancement Model/Step Output/plot_000090.png\n",
            "[.] Saved Model: /content/Enhancement Model/Model Output/gen_model_000090.h5\n",
            "[.] Saved Model: /content/Enhancement Model/Model Output/disc_model_000090.h5\n",
            "1/1 [==============================] - 0s 45ms/step\n",
            "[*] 000091, d1[0.418] d2[0.375] g[26.527] ---> time[2.32], time_left[00:00:20]\n",
            "1/1 [==============================] - 0s 35ms/step\n"
          ]
        },
        {
          "output_type": "stream",
          "name": "stderr",
          "text": [
            "WARNING:tensorflow:Compiled the loaded model, but the compiled metrics have yet to be built. `model.compile_metrics` will be empty until you train or evaluate the model.\n"
          ]
        },
        {
          "output_type": "stream",
          "name": "stdout",
          "text": [
            "[.] Saved Step : /content/Enhancement Model/Step Output/plot_000091.png\n",
            "[.] Saved Model: /content/Enhancement Model/Model Output/gen_model_000091.h5\n",
            "[.] Saved Model: /content/Enhancement Model/Model Output/disc_model_000091.h5\n",
            "1/1 [==============================] - 0s 35ms/step\n",
            "[*] 000092, d1[0.332] d2[0.362] g[23.578] ---> time[3.59], time_left[00:00:28]\n",
            "1/1 [==============================] - 0s 22ms/step\n"
          ]
        },
        {
          "output_type": "stream",
          "name": "stderr",
          "text": [
            "WARNING:tensorflow:Compiled the loaded model, but the compiled metrics have yet to be built. `model.compile_metrics` will be empty until you train or evaluate the model.\n"
          ]
        },
        {
          "output_type": "stream",
          "name": "stdout",
          "text": [
            "[.] Saved Step : /content/Enhancement Model/Step Output/plot_000092.png\n",
            "[.] Saved Model: /content/Enhancement Model/Model Output/gen_model_000092.h5\n",
            "[.] Saved Model: /content/Enhancement Model/Model Output/disc_model_000092.h5\n",
            "1/1 [==============================] - 0s 28ms/step\n",
            "[*] 000093, d1[0.446] d2[0.401] g[25.224] ---> time[2.00], time_left[00:00:13]\n",
            "1/1 [==============================] - 0s 21ms/step\n"
          ]
        },
        {
          "output_type": "stream",
          "name": "stderr",
          "text": [
            "WARNING:tensorflow:Compiled the loaded model, but the compiled metrics have yet to be built. `model.compile_metrics` will be empty until you train or evaluate the model.\n"
          ]
        },
        {
          "output_type": "stream",
          "name": "stdout",
          "text": [
            "[.] Saved Step : /content/Enhancement Model/Step Output/plot_000093.png\n",
            "[.] Saved Model: /content/Enhancement Model/Model Output/gen_model_000093.h5\n",
            "[.] Saved Model: /content/Enhancement Model/Model Output/disc_model_000093.h5\n",
            "1/1 [==============================] - 0s 43ms/step\n",
            "[*] 000094, d1[0.388] d2[0.440] g[27.533] ---> time[2.32], time_left[00:00:13]\n",
            "1/1 [==============================] - 0s 33ms/step\n"
          ]
        },
        {
          "output_type": "stream",
          "name": "stderr",
          "text": [
            "WARNING:tensorflow:Compiled the loaded model, but the compiled metrics have yet to be built. `model.compile_metrics` will be empty until you train or evaluate the model.\n"
          ]
        },
        {
          "output_type": "stream",
          "name": "stdout",
          "text": [
            "[.] Saved Step : /content/Enhancement Model/Step Output/plot_000094.png\n",
            "[.] Saved Model: /content/Enhancement Model/Model Output/gen_model_000094.h5\n",
            "[.] Saved Model: /content/Enhancement Model/Model Output/disc_model_000094.h5\n",
            "1/1 [==============================] - 0s 27ms/step\n",
            "[*] 000095, d1[0.420] d2[0.379] g[30.468] ---> time[1.99], time_left[00:00:09]\n",
            "1/1 [==============================] - 0s 21ms/step\n"
          ]
        },
        {
          "output_type": "stream",
          "name": "stderr",
          "text": [
            "WARNING:tensorflow:Compiled the loaded model, but the compiled metrics have yet to be built. `model.compile_metrics` will be empty until you train or evaluate the model.\n"
          ]
        },
        {
          "output_type": "stream",
          "name": "stdout",
          "text": [
            "[.] Saved Step : /content/Enhancement Model/Step Output/plot_000095.png\n",
            "[.] Saved Model: /content/Enhancement Model/Model Output/gen_model_000095.h5\n",
            "[.] Saved Model: /content/Enhancement Model/Model Output/disc_model_000095.h5\n",
            "1/1 [==============================] - 0s 28ms/step\n",
            "[*] 000096, d1[0.400] d2[0.356] g[29.058] ---> time[2.14], time_left[00:00:08]\n",
            "1/1 [==============================] - 0s 21ms/step\n"
          ]
        },
        {
          "output_type": "stream",
          "name": "stderr",
          "text": [
            "WARNING:tensorflow:Compiled the loaded model, but the compiled metrics have yet to be built. `model.compile_metrics` will be empty until you train or evaluate the model.\n"
          ]
        },
        {
          "output_type": "stream",
          "name": "stdout",
          "text": [
            "[.] Saved Step : /content/Enhancement Model/Step Output/plot_000096.png\n",
            "[.] Saved Model: /content/Enhancement Model/Model Output/gen_model_000096.h5\n",
            "[.] Saved Model: /content/Enhancement Model/Model Output/disc_model_000096.h5\n",
            "1/1 [==============================] - 0s 51ms/step\n",
            "[*] 000097, d1[0.313] d2[0.391] g[25.786] ---> time[1.97], time_left[00:00:05]\n",
            "1/1 [==============================] - 0s 35ms/step\n"
          ]
        },
        {
          "output_type": "stream",
          "name": "stderr",
          "text": [
            "WARNING:tensorflow:Compiled the loaded model, but the compiled metrics have yet to be built. `model.compile_metrics` will be empty until you train or evaluate the model.\n"
          ]
        },
        {
          "output_type": "stream",
          "name": "stdout",
          "text": [
            "[.] Saved Step : /content/Enhancement Model/Step Output/plot_000097.png\n",
            "[.] Saved Model: /content/Enhancement Model/Model Output/gen_model_000097.h5\n",
            "[.] Saved Model: /content/Enhancement Model/Model Output/disc_model_000097.h5\n",
            "1/1 [==============================] - 0s 47ms/step\n",
            "[*] 000098, d1[0.373] d2[0.324] g[28.114] ---> time[2.18], time_left[00:00:04]\n",
            "1/1 [==============================] - 0s 21ms/step\n"
          ]
        },
        {
          "output_type": "stream",
          "name": "stderr",
          "text": [
            "WARNING:tensorflow:Compiled the loaded model, but the compiled metrics have yet to be built. `model.compile_metrics` will be empty until you train or evaluate the model.\n"
          ]
        },
        {
          "output_type": "stream",
          "name": "stdout",
          "text": [
            "[.] Saved Step : /content/Enhancement Model/Step Output/plot_000098.png\n",
            "[.] Saved Model: /content/Enhancement Model/Model Output/gen_model_000098.h5\n",
            "[.] Saved Model: /content/Enhancement Model/Model Output/disc_model_000098.h5\n",
            "1/1 [==============================] - 0s 29ms/step\n",
            "[*] 000099, d1[0.368] d2[0.331] g[22.474] ---> time[1.94], time_left[00:00:01]\n",
            "1/1 [==============================] - 0s 23ms/step\n"
          ]
        },
        {
          "output_type": "stream",
          "name": "stderr",
          "text": [
            "WARNING:tensorflow:Compiled the loaded model, but the compiled metrics have yet to be built. `model.compile_metrics` will be empty until you train or evaluate the model.\n"
          ]
        },
        {
          "output_type": "stream",
          "name": "stdout",
          "text": [
            "[.] Saved Step : /content/Enhancement Model/Step Output/plot_000099.png\n",
            "[.] Saved Model: /content/Enhancement Model/Model Output/gen_model_000099.h5\n",
            "[.] Saved Model: /content/Enhancement Model/Model Output/disc_model_000099.h5\n",
            "1/1 [==============================] - 0s 27ms/step\n",
            "[*] 000100, d1[0.306] d2[0.422] g[19.277] ---> time[1.92], time_left[00:00:00]\n",
            "1/1 [==============================] - 0s 22ms/step\n"
          ]
        },
        {
          "output_type": "stream",
          "name": "stderr",
          "text": [
            "WARNING:tensorflow:Compiled the loaded model, but the compiled metrics have yet to be built. `model.compile_metrics` will be empty until you train or evaluate the model.\n"
          ]
        },
        {
          "output_type": "stream",
          "name": "stdout",
          "text": [
            "[.] Saved Step : /content/Enhancement Model/Step Output/plot_000100.png\n",
            "[.] Saved Model: /content/Enhancement Model/Model Output/gen_model_000100.h5\n",
            "[.] Saved Model: /content/Enhancement Model/Model Output/disc_model_000100.h5\n"
          ]
        }
      ],
      "source": [
        "import shutil\n",
        "import os\n",
        "dir = '/content/'\n",
        "fileName = 'Enhancement Model'\n",
        "if os.path.exists(dir+fileName):\n",
        "    shutil.rmtree(dir+fileName)\n",
        "    print(f\"Directory '{dir}' deleted successfully.\")\n",
        "else:\n",
        "    print(f\"Directory '{dir}' does not exist.\")\n",
        "step_output = dir + fileName + \"/Step Output/\"\n",
        "model_output = dir + fileName + \"/Model Output/\"\n",
        "if fileName not in os.listdir(dir):\n",
        "    os.mkdir(dir + fileName)\n",
        "    os.mkdir(step_output)\n",
        "    os.mkdir(model_output)\n",
        "\n",
        "train(d_model, g_model, gan_model, dataset,  n_batch=12)"
      ]
    },
    {
      "cell_type": "code",
      "source": [
        "import numpy as np\n",
        "import cv2, os\n",
        "from PIL import Image\n",
        "import tensorflow as tf\n",
        "import matplotlib.pyplot as plt\n",
        "from keras.preprocessing import image\n",
        "from tensorflow.keras.models import load_model\n",
        "from tensorflow.keras.utils import img_to_array, save_img, array_to_img\n",
        "\n",
        "model_path = \"/content/Enhancement Model/Model Output/gen_model_000100.h5\"\n",
        "image_path = \"/content/drive/MyDrive/r0a8b59bbt.png\"\n",
        "\n",
        "# Processing Image\n",
        "img = cv2.imread(image_path)\n",
        "img = cv2.cvtColor(img, cv2.COLOR_BGR2RGB)\n",
        "img_arr = (img_to_array(img) - 127.5) / 127.5\n",
        "resized = cv2.resize(img_arr, (256, 256), interpolation=cv2.INTER_AREA)\n",
        "ready_img = np.expand_dims(resized, axis=0)\n",
        "\n",
        "# Loading Model\n",
        "model = load_model(model_path)\n",
        "\n",
        "# Prdicting Image\n",
        "pred = model.predict(ready_img)\n",
        "pred = (cv2.medianBlur(pred[0], 1) + 1) / 2\n",
        "pred = array_to_img(pred)\n",
        "\n",
        "save_img(\"./output5.png\", pred)\n",
        "\n",
        "\n",
        "\n",
        "\n"
      ],
      "metadata": {
        "colab": {
          "base_uri": "https://localhost:8080/"
        },
        "id": "Exsg6gsniECT",
        "outputId": "2cd7444e-33c9-4ffb-fe63-cd20cc5a1582"
      },
      "execution_count": null,
      "outputs": [
        {
          "output_type": "stream",
          "name": "stderr",
          "text": [
            "WARNING:tensorflow:No training configuration found in the save file, so the model was *not* compiled. Compile it manually.\n"
          ]
        },
        {
          "output_type": "stream",
          "name": "stdout",
          "text": [
            "1/1 [==============================] - 0s 357ms/step\n"
          ]
        }
      ]
    }
  ],
  "metadata": {
    "accelerator": "GPU",
    "colab": {
      "provenance": [],
      "gpuType": "T4",
      "include_colab_link": true
    },
    "kernelspec": {
      "display_name": "Python 3",
      "name": "python3"
    },
    "language_info": {
      "name": "python"
    }
  },
  "nbformat": 4,
  "nbformat_minor": 0
}